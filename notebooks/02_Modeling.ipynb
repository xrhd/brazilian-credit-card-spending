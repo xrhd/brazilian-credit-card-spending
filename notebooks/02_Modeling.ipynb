{
 "cells": [
  {
   "cell_type": "markdown",
   "metadata": {},
   "source": [
    "# Setup"
   ]
  },
  {
   "cell_type": "code",
   "execution_count": 12,
   "metadata": {},
   "outputs": [
    {
     "name": "stdout",
     "output_type": "stream",
     "text": [
      "The kedro.ipython extension is already loaded. To reload it, use:\n",
      "  %reload_ext kedro.ipython\n"
     ]
    }
   ],
   "source": [
    "%load_ext kedro.ipython\n",
    "import pandas as pd\n",
    "import numpy as np\n",
    "\n",
    "from thefuzz import fuzz\n",
    "import seaborn as sns\n",
    "\n",
    "import warnings\n",
    "warnings.filterwarnings('ignore')"
   ]
  },
  {
   "cell_type": "code",
   "execution_count": 2,
   "metadata": {},
   "outputs": [
    {
     "data": {
      "text/html": [
       "<pre style=\"white-space:pre;overflow-x:auto;line-height:normal;font-family:Menlo,'DejaVu Sans Mono',consolas,'Courier New',monospace\"><span style=\"color: #7fbfbf; text-decoration-color: #7fbfbf\">                    </span><span style=\"color: #000080; text-decoration-color: #000080\">INFO    </span> Resolved project path as:                                              <a href=\"file:///usr/local/Caskroom/miniforge/base/envs/kedro-environment/lib/python3.10/site-packages/kedro/ipython/__init__.py\" target=\"_blank\"><span style=\"color: #7f7f7f; text-decoration-color: #7f7f7f\">__init__.py</span></a><span style=\"color: #7f7f7f; text-decoration-color: #7f7f7f\">:</span><a href=\"file:///usr/local/Caskroom/miniforge/base/envs/kedro-environment/lib/python3.10/site-packages/kedro/ipython/__init__.py#164\" target=\"_blank\"><span style=\"color: #7f7f7f; text-decoration-color: #7f7f7f\">164</span></a>\n",
       "<span style=\"color: #7fbfbf; text-decoration-color: #7fbfbf\">                    </span>         <span style=\"color: #800080; text-decoration-color: #800080\">/Users/richarddegaki/repos/xrhd/</span><span style=\"color: #ff00ff; text-decoration-color: #ff00ff\">brazilian-credit-card-spending.</span>        <span style=\"color: #7f7f7f; text-decoration-color: #7f7f7f\">               </span>\n",
       "<span style=\"color: #7fbfbf; text-decoration-color: #7fbfbf\">                    </span>         To set a different path, run <span style=\"color: #008000; text-decoration-color: #008000\">'%reload_kedro &lt;project_root&gt;'</span>            <span style=\"color: #7f7f7f; text-decoration-color: #7f7f7f\">               </span>\n",
       "</pre>\n"
      ],
      "text/plain": [
       "\u001b[2;36m                   \u001b[0m\u001b[2;36m \u001b[0m\u001b[34mINFO    \u001b[0m Resolved project path as:                                              \u001b]8;id=542099;file:///usr/local/Caskroom/miniforge/base/envs/kedro-environment/lib/python3.10/site-packages/kedro/ipython/__init__.py\u001b\\\u001b[2m__init__.py\u001b[0m\u001b]8;;\u001b\\\u001b[2m:\u001b[0m\u001b]8;id=191390;file:///usr/local/Caskroom/miniforge/base/envs/kedro-environment/lib/python3.10/site-packages/kedro/ipython/__init__.py#164\u001b\\\u001b[2m164\u001b[0m\u001b]8;;\u001b\\\n",
       "\u001b[2;36m                    \u001b[0m         \u001b[35m/Users/richarddegaki/repos/xrhd/\u001b[0m\u001b[95mbrazilian-credit-card-spending.\u001b[0m        \u001b[2m               \u001b[0m\n",
       "\u001b[2;36m                    \u001b[0m         To set a different path, run \u001b[32m'%reload_kedro \u001b[0m\u001b[32m<\u001b[0m\u001b[32mproject_root\u001b[0m\u001b[32m>\u001b[0m\u001b[32m'\u001b[0m            \u001b[2m               \u001b[0m\n"
      ]
     },
     "metadata": {},
     "output_type": "display_data"
    },
    {
     "data": {
      "text/html": [
       "<pre style=\"white-space:pre;overflow-x:auto;line-height:normal;font-family:Menlo,'DejaVu Sans Mono',consolas,'Courier New',monospace\"><span style=\"color: #7fbfbf; text-decoration-color: #7fbfbf\">[04/02/24 21:22:16] </span><span style=\"color: #000080; text-decoration-color: #000080\">INFO    </span> Kedro project Brazilian Credit Card Spending                           <a href=\"file:///usr/local/Caskroom/miniforge/base/envs/kedro-environment/lib/python3.10/site-packages/kedro/ipython/__init__.py\" target=\"_blank\"><span style=\"color: #7f7f7f; text-decoration-color: #7f7f7f\">__init__.py</span></a><span style=\"color: #7f7f7f; text-decoration-color: #7f7f7f\">:</span><a href=\"file:///usr/local/Caskroom/miniforge/base/envs/kedro-environment/lib/python3.10/site-packages/kedro/ipython/__init__.py#134\" target=\"_blank\"><span style=\"color: #7f7f7f; text-decoration-color: #7f7f7f\">134</span></a>\n",
       "</pre>\n"
      ],
      "text/plain": [
       "\u001b[2;36m[04/02/24 21:22:16]\u001b[0m\u001b[2;36m \u001b[0m\u001b[34mINFO    \u001b[0m Kedro project Brazilian Credit Card Spending                           \u001b]8;id=410707;file:///usr/local/Caskroom/miniforge/base/envs/kedro-environment/lib/python3.10/site-packages/kedro/ipython/__init__.py\u001b\\\u001b[2m__init__.py\u001b[0m\u001b]8;;\u001b\\\u001b[2m:\u001b[0m\u001b]8;id=867103;file:///usr/local/Caskroom/miniforge/base/envs/kedro-environment/lib/python3.10/site-packages/kedro/ipython/__init__.py#134\u001b\\\u001b[2m134\u001b[0m\u001b]8;;\u001b\\\n"
      ]
     },
     "metadata": {},
     "output_type": "display_data"
    },
    {
     "data": {
      "text/html": [
       "<pre style=\"white-space:pre;overflow-x:auto;line-height:normal;font-family:Menlo,'DejaVu Sans Mono',consolas,'Courier New',monospace\"><span style=\"color: #7fbfbf; text-decoration-color: #7fbfbf\">                    </span><span style=\"color: #000080; text-decoration-color: #000080\">INFO    </span> Defined global variable <span style=\"color: #008000; text-decoration-color: #008000\">'context'</span>, <span style=\"color: #008000; text-decoration-color: #008000\">'session'</span>, <span style=\"color: #008000; text-decoration-color: #008000\">'catalog'</span> and            <a href=\"file:///usr/local/Caskroom/miniforge/base/envs/kedro-environment/lib/python3.10/site-packages/kedro/ipython/__init__.py\" target=\"_blank\"><span style=\"color: #7f7f7f; text-decoration-color: #7f7f7f\">__init__.py</span></a><span style=\"color: #7f7f7f; text-decoration-color: #7f7f7f\">:</span><a href=\"file:///usr/local/Caskroom/miniforge/base/envs/kedro-environment/lib/python3.10/site-packages/kedro/ipython/__init__.py#135\" target=\"_blank\"><span style=\"color: #7f7f7f; text-decoration-color: #7f7f7f\">135</span></a>\n",
       "<span style=\"color: #7fbfbf; text-decoration-color: #7fbfbf\">                    </span>         <span style=\"color: #008000; text-decoration-color: #008000\">'pipelines'</span>                                                            <span style=\"color: #7f7f7f; text-decoration-color: #7f7f7f\">               </span>\n",
       "</pre>\n"
      ],
      "text/plain": [
       "\u001b[2;36m                   \u001b[0m\u001b[2;36m \u001b[0m\u001b[34mINFO    \u001b[0m Defined global variable \u001b[32m'context'\u001b[0m, \u001b[32m'session'\u001b[0m, \u001b[32m'catalog'\u001b[0m and            \u001b]8;id=16545;file:///usr/local/Caskroom/miniforge/base/envs/kedro-environment/lib/python3.10/site-packages/kedro/ipython/__init__.py\u001b\\\u001b[2m__init__.py\u001b[0m\u001b]8;;\u001b\\\u001b[2m:\u001b[0m\u001b]8;id=105331;file:///usr/local/Caskroom/miniforge/base/envs/kedro-environment/lib/python3.10/site-packages/kedro/ipython/__init__.py#135\u001b\\\u001b[2m135\u001b[0m\u001b]8;;\u001b\\\n",
       "\u001b[2;36m                    \u001b[0m         \u001b[32m'pipelines'\u001b[0m                                                            \u001b[2m               \u001b[0m\n"
      ]
     },
     "metadata": {},
     "output_type": "display_data"
    },
    {
     "data": {
      "text/html": [
       "<pre style=\"white-space:pre;overflow-x:auto;line-height:normal;font-family:Menlo,'DejaVu Sans Mono',consolas,'Courier New',monospace\"><span style=\"color: #7fbfbf; text-decoration-color: #7fbfbf\">                    </span><span style=\"color: #000080; text-decoration-color: #000080\">INFO    </span> Registered line magic <span style=\"color: #008000; text-decoration-color: #008000\">'run_viz'</span>                                        <a href=\"file:///usr/local/Caskroom/miniforge/base/envs/kedro-environment/lib/python3.10/site-packages/kedro/ipython/__init__.py\" target=\"_blank\"><span style=\"color: #7f7f7f; text-decoration-color: #7f7f7f\">__init__.py</span></a><span style=\"color: #7f7f7f; text-decoration-color: #7f7f7f\">:</span><a href=\"file:///usr/local/Caskroom/miniforge/base/envs/kedro-environment/lib/python3.10/site-packages/kedro/ipython/__init__.py#141\" target=\"_blank\"><span style=\"color: #7f7f7f; text-decoration-color: #7f7f7f\">141</span></a>\n",
       "</pre>\n"
      ],
      "text/plain": [
       "\u001b[2;36m                   \u001b[0m\u001b[2;36m \u001b[0m\u001b[34mINFO    \u001b[0m Registered line magic \u001b[32m'run_viz'\u001b[0m                                        \u001b]8;id=998500;file:///usr/local/Caskroom/miniforge/base/envs/kedro-environment/lib/python3.10/site-packages/kedro/ipython/__init__.py\u001b\\\u001b[2m__init__.py\u001b[0m\u001b]8;;\u001b\\\u001b[2m:\u001b[0m\u001b]8;id=804562;file:///usr/local/Caskroom/miniforge/base/envs/kedro-environment/lib/python3.10/site-packages/kedro/ipython/__init__.py#141\u001b\\\u001b[2m141\u001b[0m\u001b]8;;\u001b\\\n"
      ]
     },
     "metadata": {},
     "output_type": "display_data"
    },
    {
     "data": {
      "text/html": [
       "<pre style=\"white-space:pre;overflow-x:auto;line-height:normal;font-family:Menlo,'DejaVu Sans Mono',consolas,'Courier New',monospace\"><span style=\"color: #7fbfbf; text-decoration-color: #7fbfbf\">                    </span><span style=\"color: #000080; text-decoration-color: #000080\">INFO    </span> Loading data from <span style=\"color: #ff8700; text-decoration-color: #ff8700\">prim_mibolsillo</span> <span style=\"font-weight: bold\">(</span>ParquetDataset<span style=\"font-weight: bold\">)</span><span style=\"color: #808000; text-decoration-color: #808000\">...</span>              <a href=\"file:///usr/local/Caskroom/miniforge/base/envs/kedro-environment/lib/python3.10/site-packages/kedro/io/data_catalog.py\" target=\"_blank\"><span style=\"color: #7f7f7f; text-decoration-color: #7f7f7f\">data_catalog.py</span></a><span style=\"color: #7f7f7f; text-decoration-color: #7f7f7f\">:</span><a href=\"file:///usr/local/Caskroom/miniforge/base/envs/kedro-environment/lib/python3.10/site-packages/kedro/io/data_catalog.py#483\" target=\"_blank\"><span style=\"color: #7f7f7f; text-decoration-color: #7f7f7f\">483</span></a>\n",
       "</pre>\n"
      ],
      "text/plain": [
       "\u001b[2;36m                   \u001b[0m\u001b[2;36m \u001b[0m\u001b[34mINFO    \u001b[0m Loading data from \u001b[38;5;208mprim_mibolsillo\u001b[0m \u001b[1m(\u001b[0mParquetDataset\u001b[1m)\u001b[0m\u001b[33m...\u001b[0m              \u001b]8;id=175224;file:///usr/local/Caskroom/miniforge/base/envs/kedro-environment/lib/python3.10/site-packages/kedro/io/data_catalog.py\u001b\\\u001b[2mdata_catalog.py\u001b[0m\u001b]8;;\u001b\\\u001b[2m:\u001b[0m\u001b]8;id=629738;file:///usr/local/Caskroom/miniforge/base/envs/kedro-environment/lib/python3.10/site-packages/kedro/io/data_catalog.py#483\u001b\\\u001b[2m483\u001b[0m\u001b]8;;\u001b\\\n"
      ]
     },
     "metadata": {},
     "output_type": "display_data"
    },
    {
     "data": {
      "text/html": [
       "<pre style=\"white-space:pre;overflow-x:auto;line-height:normal;font-family:Menlo,'DejaVu Sans Mono',consolas,'Courier New',monospace\"></pre>\n"
      ],
      "text/plain": []
     },
     "metadata": {},
     "output_type": "display_data"
    },
    {
     "data": {
      "text/html": [
       "<div>\n",
       "<style scoped>\n",
       "    .dataframe tbody tr th:only-of-type {\n",
       "        vertical-align: middle;\n",
       "    }\n",
       "\n",
       "    .dataframe tbody tr th {\n",
       "        vertical-align: top;\n",
       "    }\n",
       "\n",
       "    .dataframe thead th {\n",
       "        text-align: right;\n",
       "    }\n",
       "</style>\n",
       "<table border=\"1\" class=\"dataframe\">\n",
       "  <thead>\n",
       "    <tr style=\"text-align: right;\">\n",
       "      <th></th>\n",
       "      <th>id</th>\n",
       "      <th>branch_number</th>\n",
       "      <th>city</th>\n",
       "      <th>state</th>\n",
       "      <th>age</th>\n",
       "      <th>gender</th>\n",
       "      <th>total_credit_card_limit</th>\n",
       "      <th>current_available_limit</th>\n",
       "      <th>date</th>\n",
       "      <th>amount</th>\n",
       "      <th>category_expense</th>\n",
       "      <th>purchase_city</th>\n",
       "      <th>purchase_country</th>\n",
       "      <th>geobr_purchase_city</th>\n",
       "      <th>geobr_purchase_city_conf</th>\n",
       "      <th>geobr_purchase_state</th>\n",
       "    </tr>\n",
       "  </thead>\n",
       "  <tbody>\n",
       "    <tr>\n",
       "      <th>0</th>\n",
       "      <td>4,53E+11</td>\n",
       "      <td>201405</td>\n",
       "      <td>CAMPO LIMPO PAULISTA</td>\n",
       "      <td>SP</td>\n",
       "      <td>37</td>\n",
       "      <td>F</td>\n",
       "      <td>4700</td>\n",
       "      <td>5605</td>\n",
       "      <td>2019-12-04</td>\n",
       "      <td>31.0</td>\n",
       "      <td>SERVI‚O</td>\n",
       "      <td>SAO PAULO</td>\n",
       "      <td>BR</td>\n",
       "      <td>São Paulo</td>\n",
       "      <td>0.94</td>\n",
       "      <td>SP</td>\n",
       "    </tr>\n",
       "    <tr>\n",
       "      <th>1</th>\n",
       "      <td>4,53E+11</td>\n",
       "      <td>201405</td>\n",
       "      <td>CAMPO LIMPO PAULISTA</td>\n",
       "      <td>SP</td>\n",
       "      <td>37</td>\n",
       "      <td>F</td>\n",
       "      <td>4700</td>\n",
       "      <td>5343</td>\n",
       "      <td>2019-11-09</td>\n",
       "      <td>15001.0</td>\n",
       "      <td>FARMACIAS</td>\n",
       "      <td>SANTOS</td>\n",
       "      <td>BR</td>\n",
       "      <td>Santos</td>\n",
       "      <td>1.00</td>\n",
       "      <td>SP</td>\n",
       "    </tr>\n",
       "    <tr>\n",
       "      <th>2</th>\n",
       "      <td>4,53E+11</td>\n",
       "      <td>201405</td>\n",
       "      <td>CAMPO LIMPO PAULISTA</td>\n",
       "      <td>SP</td>\n",
       "      <td>37</td>\n",
       "      <td>F</td>\n",
       "      <td>4700</td>\n",
       "      <td>2829</td>\n",
       "      <td>2019-05-06</td>\n",
       "      <td>50.0</td>\n",
       "      <td>SERVI‚O</td>\n",
       "      <td>SAO PAULO</td>\n",
       "      <td>BR</td>\n",
       "      <td>São Paulo</td>\n",
       "      <td>0.94</td>\n",
       "      <td>SP</td>\n",
       "    </tr>\n",
       "    <tr>\n",
       "      <th>3</th>\n",
       "      <td>4,53E+11</td>\n",
       "      <td>201405</td>\n",
       "      <td>CAMPO LIMPO PAULISTA</td>\n",
       "      <td>SP</td>\n",
       "      <td>37</td>\n",
       "      <td>F</td>\n",
       "      <td>4700</td>\n",
       "      <td>2547</td>\n",
       "      <td>2019-06-01</td>\n",
       "      <td>544.0</td>\n",
       "      <td>M.O.T.O.</td>\n",
       "      <td>OSASCO</td>\n",
       "      <td>BR</td>\n",
       "      <td>Osasco</td>\n",
       "      <td>1.00</td>\n",
       "      <td>SP</td>\n",
       "    </tr>\n",
       "    <tr>\n",
       "      <th>4</th>\n",
       "      <td>4,53E+11</td>\n",
       "      <td>201405</td>\n",
       "      <td>CAMPO LIMPO PAULISTA</td>\n",
       "      <td>SP</td>\n",
       "      <td>37</td>\n",
       "      <td>F</td>\n",
       "      <td>4700</td>\n",
       "      <td>2515</td>\n",
       "      <td>2019-06-01</td>\n",
       "      <td>3279.0</td>\n",
       "      <td>M.O.T.O.</td>\n",
       "      <td>OSASCO</td>\n",
       "      <td>BR</td>\n",
       "      <td>Osasco</td>\n",
       "      <td>1.00</td>\n",
       "      <td>SP</td>\n",
       "    </tr>\n",
       "    <tr>\n",
       "      <th>...</th>\n",
       "      <td>...</td>\n",
       "      <td>...</td>\n",
       "      <td>...</td>\n",
       "      <td>...</td>\n",
       "      <td>...</td>\n",
       "      <td>...</td>\n",
       "      <td>...</td>\n",
       "      <td>...</td>\n",
       "      <td>...</td>\n",
       "      <td>...</td>\n",
       "      <td>...</td>\n",
       "      <td>...</td>\n",
       "      <td>...</td>\n",
       "      <td>...</td>\n",
       "      <td>...</td>\n",
       "      <td>...</td>\n",
       "    </tr>\n",
       "    <tr>\n",
       "      <th>4950</th>\n",
       "      <td>9,19E+11</td>\n",
       "      <td>201910</td>\n",
       "      <td>SAO PAULO</td>\n",
       "      <td>SP</td>\n",
       "      <td>37</td>\n",
       "      <td>M</td>\n",
       "      <td>8500</td>\n",
       "      <td>5305</td>\n",
       "      <td>2020-01-23</td>\n",
       "      <td>255.0</td>\n",
       "      <td>RESTAURANTE</td>\n",
       "      <td>SAO PAULO</td>\n",
       "      <td>BR</td>\n",
       "      <td>São Paulo</td>\n",
       "      <td>0.94</td>\n",
       "      <td>SP</td>\n",
       "    </tr>\n",
       "    <tr>\n",
       "      <th>4951</th>\n",
       "      <td>9,19E+11</td>\n",
       "      <td>201910</td>\n",
       "      <td>SAO PAULO</td>\n",
       "      <td>SP</td>\n",
       "      <td>37</td>\n",
       "      <td>M</td>\n",
       "      <td>8500</td>\n",
       "      <td>5266</td>\n",
       "      <td>2020-01-23</td>\n",
       "      <td>395.0</td>\n",
       "      <td>SUPERMERCADOS</td>\n",
       "      <td>SAO PAULO</td>\n",
       "      <td>BR</td>\n",
       "      <td>São Paulo</td>\n",
       "      <td>0.94</td>\n",
       "      <td>SP</td>\n",
       "    </tr>\n",
       "    <tr>\n",
       "      <th>4952</th>\n",
       "      <td>9,19E+11</td>\n",
       "      <td>201910</td>\n",
       "      <td>SAO PAULO</td>\n",
       "      <td>SP</td>\n",
       "      <td>37</td>\n",
       "      <td>M</td>\n",
       "      <td>8500</td>\n",
       "      <td>5445</td>\n",
       "      <td>2020-02-19</td>\n",
       "      <td>7556.0</td>\n",
       "      <td>RESTAURANTE</td>\n",
       "      <td>SAO PAULO</td>\n",
       "      <td>BR</td>\n",
       "      <td>São Paulo</td>\n",
       "      <td>0.94</td>\n",
       "      <td>SP</td>\n",
       "    </tr>\n",
       "    <tr>\n",
       "      <th>4953</th>\n",
       "      <td>9,19E+11</td>\n",
       "      <td>201910</td>\n",
       "      <td>SAO PAULO</td>\n",
       "      <td>SP</td>\n",
       "      <td>37</td>\n",
       "      <td>M</td>\n",
       "      <td>8500</td>\n",
       "      <td>5002</td>\n",
       "      <td>2020-03-30</td>\n",
       "      <td>59.0</td>\n",
       "      <td>SERVI‚O</td>\n",
       "      <td>SAO PAULO</td>\n",
       "      <td>BR</td>\n",
       "      <td>São Paulo</td>\n",
       "      <td>0.94</td>\n",
       "      <td>SP</td>\n",
       "    </tr>\n",
       "    <tr>\n",
       "      <th>4954</th>\n",
       "      <td>9,19E+11</td>\n",
       "      <td>201910</td>\n",
       "      <td>SAO PAULO</td>\n",
       "      <td>SP</td>\n",
       "      <td>37</td>\n",
       "      <td>M</td>\n",
       "      <td>8500</td>\n",
       "      <td>5222</td>\n",
       "      <td>2020-01-24</td>\n",
       "      <td>4369.0</td>\n",
       "      <td>M.O.T.O.</td>\n",
       "      <td>RIO DE JANEIR</td>\n",
       "      <td>BR</td>\n",
       "      <td>Rio De Janeiro</td>\n",
       "      <td>0.96</td>\n",
       "      <td>RJ</td>\n",
       "    </tr>\n",
       "  </tbody>\n",
       "</table>\n",
       "<p>4900 rows × 16 columns</p>\n",
       "</div>"
      ],
      "text/plain": [
       "\n",
       "            id  branch_number                  city state  age gender  \\\n",
       "\u001b[1;36m0\u001b[0m     \u001b[1;36m4\u001b[0m,53E+\u001b[1;36m11\u001b[0m         \u001b[1;36m201405\u001b[0m  CAMPO LIMPO PAULISTA    SP   \u001b[1;36m37\u001b[0m      F   \n",
       "\u001b[1;36m1\u001b[0m     \u001b[1;36m4\u001b[0m,53E+\u001b[1;36m11\u001b[0m         \u001b[1;36m201405\u001b[0m  CAMPO LIMPO PAULISTA    SP   \u001b[1;36m37\u001b[0m      F   \n",
       "\u001b[1;36m2\u001b[0m     \u001b[1;36m4\u001b[0m,53E+\u001b[1;36m11\u001b[0m         \u001b[1;36m201405\u001b[0m  CAMPO LIMPO PAULISTA    SP   \u001b[1;36m37\u001b[0m      F   \n",
       "\u001b[1;36m3\u001b[0m     \u001b[1;36m4\u001b[0m,53E+\u001b[1;36m11\u001b[0m         \u001b[1;36m201405\u001b[0m  CAMPO LIMPO PAULISTA    SP   \u001b[1;36m37\u001b[0m      F   \n",
       "\u001b[1;36m4\u001b[0m     \u001b[1;36m4\u001b[0m,53E+\u001b[1;36m11\u001b[0m         \u001b[1;36m201405\u001b[0m  CAMPO LIMPO PAULISTA    SP   \u001b[1;36m37\u001b[0m      F   \n",
       "\u001b[33m...\u001b[0m        \u001b[33m...\u001b[0m            \u001b[33m...\u001b[0m                   \u001b[33m...\u001b[0m   \u001b[33m...\u001b[0m  \u001b[33m...\u001b[0m    \u001b[33m...\u001b[0m   \n",
       "\u001b[1;36m4950\u001b[0m  \u001b[1;36m9\u001b[0m,19E+\u001b[1;36m11\u001b[0m         \u001b[1;36m201910\u001b[0m             SAO PAULO    SP   \u001b[1;36m37\u001b[0m      M   \n",
       "\u001b[1;36m4951\u001b[0m  \u001b[1;36m9\u001b[0m,19E+\u001b[1;36m11\u001b[0m         \u001b[1;36m201910\u001b[0m             SAO PAULO    SP   \u001b[1;36m37\u001b[0m      M   \n",
       "\u001b[1;36m4952\u001b[0m  \u001b[1;36m9\u001b[0m,19E+\u001b[1;36m11\u001b[0m         \u001b[1;36m201910\u001b[0m             SAO PAULO    SP   \u001b[1;36m37\u001b[0m      M   \n",
       "\u001b[1;36m4953\u001b[0m  \u001b[1;36m9\u001b[0m,19E+\u001b[1;36m11\u001b[0m         \u001b[1;36m201910\u001b[0m             SAO PAULO    SP   \u001b[1;36m37\u001b[0m      M   \n",
       "\u001b[1;36m4954\u001b[0m  \u001b[1;36m9\u001b[0m,19E+\u001b[1;36m11\u001b[0m         \u001b[1;36m201910\u001b[0m             SAO PAULO    SP   \u001b[1;36m37\u001b[0m      M   \n",
       "\n",
       "      total_credit_card_limit  current_available_limit       date   amount  \\\n",
       "\u001b[1;36m0\u001b[0m                        \u001b[1;36m4700\u001b[0m                     \u001b[1;36m5605\u001b[0m \u001b[1;36m2019\u001b[0m-\u001b[1;36m12\u001b[0m-\u001b[1;36m04\u001b[0m     \u001b[1;36m31.0\u001b[0m   \n",
       "\u001b[1;36m1\u001b[0m                        \u001b[1;36m4700\u001b[0m                     \u001b[1;36m5343\u001b[0m \u001b[1;36m2019\u001b[0m-\u001b[1;36m11\u001b[0m-\u001b[1;36m09\u001b[0m  \u001b[1;36m15001.0\u001b[0m   \n",
       "\u001b[1;36m2\u001b[0m                        \u001b[1;36m4700\u001b[0m                     \u001b[1;36m2829\u001b[0m \u001b[1;36m2019\u001b[0m-\u001b[1;36m05\u001b[0m-\u001b[1;36m06\u001b[0m     \u001b[1;36m50.0\u001b[0m   \n",
       "\u001b[1;36m3\u001b[0m                        \u001b[1;36m4700\u001b[0m                     \u001b[1;36m2547\u001b[0m \u001b[1;36m2019\u001b[0m-\u001b[1;36m06\u001b[0m-\u001b[1;36m01\u001b[0m    \u001b[1;36m544.0\u001b[0m   \n",
       "\u001b[1;36m4\u001b[0m                        \u001b[1;36m4700\u001b[0m                     \u001b[1;36m2515\u001b[0m \u001b[1;36m2019\u001b[0m-\u001b[1;36m06\u001b[0m-\u001b[1;36m01\u001b[0m   \u001b[1;36m3279.0\u001b[0m   \n",
       "\u001b[33m...\u001b[0m                       \u001b[33m...\u001b[0m                      \u001b[33m...\u001b[0m        \u001b[33m...\u001b[0m      \u001b[33m...\u001b[0m   \n",
       "\u001b[1;36m4950\u001b[0m                     \u001b[1;36m8500\u001b[0m                     \u001b[1;36m5305\u001b[0m \u001b[1;36m2020\u001b[0m-\u001b[1;36m01\u001b[0m-\u001b[1;36m23\u001b[0m    \u001b[1;36m255.0\u001b[0m   \n",
       "\u001b[1;36m4951\u001b[0m                     \u001b[1;36m8500\u001b[0m                     \u001b[1;36m5266\u001b[0m \u001b[1;36m2020\u001b[0m-\u001b[1;36m01\u001b[0m-\u001b[1;36m23\u001b[0m    \u001b[1;36m395.0\u001b[0m   \n",
       "\u001b[1;36m4952\u001b[0m                     \u001b[1;36m8500\u001b[0m                     \u001b[1;36m5445\u001b[0m \u001b[1;36m2020\u001b[0m-\u001b[1;36m02\u001b[0m-\u001b[1;36m19\u001b[0m   \u001b[1;36m7556.0\u001b[0m   \n",
       "\u001b[1;36m4953\u001b[0m                     \u001b[1;36m8500\u001b[0m                     \u001b[1;36m5002\u001b[0m \u001b[1;36m2020\u001b[0m-\u001b[1;36m03\u001b[0m-\u001b[1;36m30\u001b[0m     \u001b[1;36m59.0\u001b[0m   \n",
       "\u001b[1;36m4954\u001b[0m                     \u001b[1;36m8500\u001b[0m                     \u001b[1;36m5222\u001b[0m \u001b[1;36m2020\u001b[0m-\u001b[1;36m01\u001b[0m-\u001b[1;36m24\u001b[0m   \u001b[1;36m4369.0\u001b[0m   \n",
       "\n",
       "     category_expense  purchase_city purchase_country geobr_purchase_city  \\\n",
       "\u001b[1;36m0\u001b[0m             SERVI‚O      SAO PAULO               BR           São Paulo   \n",
       "\u001b[1;36m1\u001b[0m           FARMACIAS         SANTOS               BR              Santos   \n",
       "\u001b[1;36m2\u001b[0m             SERVI‚O      SAO PAULO               BR           São Paulo   \n",
       "\u001b[1;36m3\u001b[0m            M.O.T.O.         OSASCO               BR              Osasco   \n",
       "\u001b[1;36m4\u001b[0m            M.O.T.O.         OSASCO               BR              Osasco   \n",
       "\u001b[33m...\u001b[0m               \u001b[33m...\u001b[0m            \u001b[33m...\u001b[0m              \u001b[33m...\u001b[0m                 \u001b[33m...\u001b[0m   \n",
       "\u001b[1;36m4950\u001b[0m      RESTAURANTE      SAO PAULO               BR           São Paulo   \n",
       "\u001b[1;36m4951\u001b[0m    SUPERMERCADOS      SAO PAULO               BR           São Paulo   \n",
       "\u001b[1;36m4952\u001b[0m      RESTAURANTE      SAO PAULO               BR           São Paulo   \n",
       "\u001b[1;36m4953\u001b[0m          SERVI‚O      SAO PAULO               BR           São Paulo   \n",
       "\u001b[1;36m4954\u001b[0m         M.O.T.O.  RIO DE JANEIR               BR      Rio De Janeiro   \n",
       "\n",
       "      geobr_purchase_city_conf geobr_purchase_state  \n",
       "\u001b[1;36m0\u001b[0m                         \u001b[1;36m0.94\u001b[0m                   SP  \n",
       "\u001b[1;36m1\u001b[0m                         \u001b[1;36m1.00\u001b[0m                   SP  \n",
       "\u001b[1;36m2\u001b[0m                         \u001b[1;36m0.94\u001b[0m                   SP  \n",
       "\u001b[1;36m3\u001b[0m                         \u001b[1;36m1.00\u001b[0m                   SP  \n",
       "\u001b[1;36m4\u001b[0m                         \u001b[1;36m1.00\u001b[0m                   SP  \n",
       "\u001b[33m...\u001b[0m                        \u001b[33m...\u001b[0m                  \u001b[33m...\u001b[0m  \n",
       "\u001b[1;36m4950\u001b[0m                      \u001b[1;36m0.94\u001b[0m                   SP  \n",
       "\u001b[1;36m4951\u001b[0m                      \u001b[1;36m0.94\u001b[0m                   SP  \n",
       "\u001b[1;36m4952\u001b[0m                      \u001b[1;36m0.94\u001b[0m                   SP  \n",
       "\u001b[1;36m4953\u001b[0m                      \u001b[1;36m0.94\u001b[0m                   SP  \n",
       "\u001b[1;36m4954\u001b[0m                      \u001b[1;36m0.96\u001b[0m                   RJ  \n",
       "\n",
       "\u001b[1m[\u001b[0m\u001b[1;36m4900\u001b[0m rows x \u001b[1;36m16\u001b[0m columns\u001b[1m]\u001b[0m"
      ]
     },
     "execution_count": 2,
     "metadata": {},
     "output_type": "execute_result"
    }
   ],
   "source": [
    "%reload_kedro\n",
    "df = catalog.load(\"prim_mibolsillo\")\n",
    "df"
   ]
  },
  {
   "cell_type": "markdown",
   "metadata": {},
   "source": [
    "# Feature Engineering"
   ]
  },
  {
   "cell_type": "code",
   "execution_count": 3,
   "metadata": {},
   "outputs": [
    {
     "data": {
      "text/html": [
       "<pre style=\"white-space:pre;overflow-x:auto;line-height:normal;font-family:Menlo,'DejaVu Sans Mono',consolas,'Courier New',monospace\"></pre>\n"
      ],
      "text/plain": []
     },
     "metadata": {},
     "output_type": "display_data"
    },
    {
     "data": {
      "text/html": [
       "<div>\n",
       "<style scoped>\n",
       "    .dataframe tbody tr th:only-of-type {\n",
       "        vertical-align: middle;\n",
       "    }\n",
       "\n",
       "    .dataframe tbody tr th {\n",
       "        vertical-align: top;\n",
       "    }\n",
       "\n",
       "    .dataframe thead th {\n",
       "        text-align: right;\n",
       "    }\n",
       "</style>\n",
       "<table border=\"1\" class=\"dataframe\">\n",
       "  <thead>\n",
       "    <tr style=\"text-align: right;\">\n",
       "      <th></th>\n",
       "      <th>total_credit_card_limit</th>\n",
       "      <th>current_available_limit</th>\n",
       "      <th>amount</th>\n",
       "    </tr>\n",
       "  </thead>\n",
       "  <tbody>\n",
       "    <tr>\n",
       "      <th>0</th>\n",
       "      <td>4700</td>\n",
       "      <td>5605</td>\n",
       "      <td>31.0</td>\n",
       "    </tr>\n",
       "    <tr>\n",
       "      <th>1</th>\n",
       "      <td>4700</td>\n",
       "      <td>5343</td>\n",
       "      <td>15001.0</td>\n",
       "    </tr>\n",
       "    <tr>\n",
       "      <th>2</th>\n",
       "      <td>4700</td>\n",
       "      <td>2829</td>\n",
       "      <td>50.0</td>\n",
       "    </tr>\n",
       "    <tr>\n",
       "      <th>3</th>\n",
       "      <td>4700</td>\n",
       "      <td>2547</td>\n",
       "      <td>544.0</td>\n",
       "    </tr>\n",
       "    <tr>\n",
       "      <th>4</th>\n",
       "      <td>4700</td>\n",
       "      <td>2515</td>\n",
       "      <td>3279.0</td>\n",
       "    </tr>\n",
       "  </tbody>\n",
       "</table>\n",
       "</div>"
      ],
      "text/plain": [
       "\n",
       "   total_credit_card_limit  current_available_limit   amount\n",
       "\u001b[1;36m0\u001b[0m                     \u001b[1;36m4700\u001b[0m                     \u001b[1;36m5605\u001b[0m     \u001b[1;36m31.0\u001b[0m\n",
       "\u001b[1;36m1\u001b[0m                     \u001b[1;36m4700\u001b[0m                     \u001b[1;36m5343\u001b[0m  \u001b[1;36m15001.0\u001b[0m\n",
       "\u001b[1;36m2\u001b[0m                     \u001b[1;36m4700\u001b[0m                     \u001b[1;36m2829\u001b[0m     \u001b[1;36m50.0\u001b[0m\n",
       "\u001b[1;36m3\u001b[0m                     \u001b[1;36m4700\u001b[0m                     \u001b[1;36m2547\u001b[0m    \u001b[1;36m544.0\u001b[0m\n",
       "\u001b[1;36m4\u001b[0m                     \u001b[1;36m4700\u001b[0m                     \u001b[1;36m2515\u001b[0m   \u001b[1;36m3279.0\u001b[0m"
      ]
     },
     "execution_count": 3,
     "metadata": {},
     "output_type": "execute_result"
    }
   ],
   "source": [
    "model_data = df[['total_credit_card_limit', 'current_available_limit', 'amount']] # take only numerical columns\n",
    "model_data.head()"
   ]
  },
  {
   "cell_type": "code",
   "execution_count": 4,
   "metadata": {},
   "outputs": [
    {
     "data": {
      "text/html": [
       "<pre style=\"white-space:pre;overflow-x:auto;line-height:normal;font-family:Menlo,'DejaVu Sans Mono',consolas,'Courier New',monospace\"><span style=\"color: #7fbfbf; text-decoration-color: #7fbfbf\">[04/02/24 21:22:17] </span><span style=\"color: #800000; text-decoration-color: #800000\">WARNING </span> <span style=\"color: #800080; text-decoration-color: #800080\">/var/folders/qn/pq9pzsn51vx7lzwtkc1r1hxr0000gn/T/ipykernel_34204/</span><span style=\"color: #ff00ff; text-decoration-color: #ff00ff\">30728</span> <a href=\"file:///usr/local/Caskroom/miniforge/base/envs/kedro-environment/lib/python3.10/warnings.py\" target=\"_blank\"><span style=\"color: #7f7f7f; text-decoration-color: #7f7f7f\">warnings.py</span></a><span style=\"color: #7f7f7f; text-decoration-color: #7f7f7f\">:</span><a href=\"file:///usr/local/Caskroom/miniforge/base/envs/kedro-environment/lib/python3.10/warnings.py#109\" target=\"_blank\"><span style=\"color: #7f7f7f; text-decoration-color: #7f7f7f\">109</span></a>\n",
       "<span style=\"color: #7fbfbf; text-decoration-color: #7fbfbf\">                    </span>         <span style=\"color: #ff00ff; text-decoration-color: #ff00ff\">33996.py</span>:<span style=\"color: #008080; text-decoration-color: #008080; font-weight: bold\">1</span>: SettingWithCopyWarning:                                    <span style=\"color: #7f7f7f; text-decoration-color: #7f7f7f\">               </span>\n",
       "<span style=\"color: #7fbfbf; text-decoration-color: #7fbfbf\">                    </span>         A value is trying to be set on a copy of a slice from a DataFrame.     <span style=\"color: #7f7f7f; text-decoration-color: #7f7f7f\">               </span>\n",
       "<span style=\"color: #7fbfbf; text-decoration-color: #7fbfbf\">                    </span>         Try using .loc<span style=\"font-weight: bold\">[</span>row_indexer,col_indexer<span style=\"font-weight: bold\">]</span> = value instead                <span style=\"color: #7f7f7f; text-decoration-color: #7f7f7f\">               </span>\n",
       "<span style=\"color: #7fbfbf; text-decoration-color: #7fbfbf\">                    </span>                                                                                <span style=\"color: #7f7f7f; text-decoration-color: #7f7f7f\">               </span>\n",
       "<span style=\"color: #7fbfbf; text-decoration-color: #7fbfbf\">                    </span>         See the caveats in the documentation:                                  <span style=\"color: #7f7f7f; text-decoration-color: #7f7f7f\">               </span>\n",
       "<span style=\"color: #7fbfbf; text-decoration-color: #7fbfbf\">                    </span>         <span style=\"color: #0000ff; text-decoration-color: #0000ff; text-decoration: underline\">https://pandas.pydata.org/pandas-docs/stable/user_guide/indexing.html#</span> <span style=\"color: #7f7f7f; text-decoration-color: #7f7f7f\">               </span>\n",
       "<span style=\"color: #7fbfbf; text-decoration-color: #7fbfbf\">                    </span>         <span style=\"color: #0000ff; text-decoration-color: #0000ff; text-decoration: underline\">returning-a-view-versus-a-copy</span>                                         <span style=\"color: #7f7f7f; text-decoration-color: #7f7f7f\">               </span>\n",
       "<span style=\"color: #7fbfbf; text-decoration-color: #7fbfbf\">                    </span>           model_data<span style=\"font-weight: bold\">[</span><span style=\"color: #008000; text-decoration-color: #008000\">'total_minus_current'</span><span style=\"font-weight: bold\">]</span> =                                  <span style=\"color: #7f7f7f; text-decoration-color: #7f7f7f\">               </span>\n",
       "<span style=\"color: #7fbfbf; text-decoration-color: #7fbfbf\">                    </span>         model_data<span style=\"font-weight: bold\">[</span><span style=\"color: #008000; text-decoration-color: #008000\">'total_credit_card_limit'</span><span style=\"font-weight: bold\">]</span> -                                <span style=\"color: #7f7f7f; text-decoration-color: #7f7f7f\">               </span>\n",
       "<span style=\"color: #7fbfbf; text-decoration-color: #7fbfbf\">                    </span>         model_data<span style=\"font-weight: bold\">[</span><span style=\"color: #008000; text-decoration-color: #008000\">'current_available_limit'</span><span style=\"font-weight: bold\">]</span>                                  <span style=\"color: #7f7f7f; text-decoration-color: #7f7f7f\">               </span>\n",
       "<span style=\"color: #7fbfbf; text-decoration-color: #7fbfbf\">                    </span>                                                                                <span style=\"color: #7f7f7f; text-decoration-color: #7f7f7f\">               </span>\n",
       "</pre>\n"
      ],
      "text/plain": [
       "\u001b[2;36m[04/02/24 21:22:17]\u001b[0m\u001b[2;36m \u001b[0m\u001b[31mWARNING \u001b[0m \u001b[35m/var/folders/qn/pq9pzsn51vx7lzwtkc1r1hxr0000gn/T/ipykernel_34204/\u001b[0m\u001b[95m30728\u001b[0m \u001b]8;id=403314;file:///usr/local/Caskroom/miniforge/base/envs/kedro-environment/lib/python3.10/warnings.py\u001b\\\u001b[2mwarnings.py\u001b[0m\u001b]8;;\u001b\\\u001b[2m:\u001b[0m\u001b]8;id=389531;file:///usr/local/Caskroom/miniforge/base/envs/kedro-environment/lib/python3.10/warnings.py#109\u001b\\\u001b[2m109\u001b[0m\u001b]8;;\u001b\\\n",
       "\u001b[2;36m                    \u001b[0m         \u001b[95m33996.py\u001b[0m:\u001b[1;36m1\u001b[0m: SettingWithCopyWarning:                                    \u001b[2m               \u001b[0m\n",
       "\u001b[2;36m                    \u001b[0m         A value is trying to be set on a copy of a slice from a DataFrame.     \u001b[2m               \u001b[0m\n",
       "\u001b[2;36m                    \u001b[0m         Try using .loc\u001b[1m[\u001b[0mrow_indexer,col_indexer\u001b[1m]\u001b[0m = value instead                \u001b[2m               \u001b[0m\n",
       "\u001b[2;36m                    \u001b[0m                                                                                \u001b[2m               \u001b[0m\n",
       "\u001b[2;36m                    \u001b[0m         See the caveats in the documentation:                                  \u001b[2m               \u001b[0m\n",
       "\u001b[2;36m                    \u001b[0m         \u001b[4;94mhttps://pandas.pydata.org/pandas-docs/stable/user_guide/indexing.html#\u001b[0m \u001b[2m               \u001b[0m\n",
       "\u001b[2;36m                    \u001b[0m         \u001b[4;94mreturning-a-view-versus-a-copy\u001b[0m                                         \u001b[2m               \u001b[0m\n",
       "\u001b[2;36m                    \u001b[0m           model_data\u001b[1m[\u001b[0m\u001b[32m'total_minus_current'\u001b[0m\u001b[1m]\u001b[0m =                                  \u001b[2m               \u001b[0m\n",
       "\u001b[2;36m                    \u001b[0m         model_data\u001b[1m[\u001b[0m\u001b[32m'total_credit_card_limit'\u001b[0m\u001b[1m]\u001b[0m -                                \u001b[2m               \u001b[0m\n",
       "\u001b[2;36m                    \u001b[0m         model_data\u001b[1m[\u001b[0m\u001b[32m'current_available_limit'\u001b[0m\u001b[1m]\u001b[0m                                  \u001b[2m               \u001b[0m\n",
       "\u001b[2;36m                    \u001b[0m                                                                                \u001b[2m               \u001b[0m\n"
      ]
     },
     "metadata": {},
     "output_type": "display_data"
    },
    {
     "data": {
      "text/html": [
       "<pre style=\"white-space:pre;overflow-x:auto;line-height:normal;font-family:Menlo,'DejaVu Sans Mono',consolas,'Courier New',monospace\"><span style=\"color: #7fbfbf; text-decoration-color: #7fbfbf\">                    </span><span style=\"color: #800000; text-decoration-color: #800000\">WARNING </span> <span style=\"color: #800080; text-decoration-color: #800080\">/var/folders/qn/pq9pzsn51vx7lzwtkc1r1hxr0000gn/T/ipykernel_34204/</span><span style=\"color: #ff00ff; text-decoration-color: #ff00ff\">30728</span> <a href=\"file:///usr/local/Caskroom/miniforge/base/envs/kedro-environment/lib/python3.10/warnings.py\" target=\"_blank\"><span style=\"color: #7f7f7f; text-decoration-color: #7f7f7f\">warnings.py</span></a><span style=\"color: #7f7f7f; text-decoration-color: #7f7f7f\">:</span><a href=\"file:///usr/local/Caskroom/miniforge/base/envs/kedro-environment/lib/python3.10/warnings.py#109\" target=\"_blank\"><span style=\"color: #7f7f7f; text-decoration-color: #7f7f7f\">109</span></a>\n",
       "<span style=\"color: #7fbfbf; text-decoration-color: #7fbfbf\">                    </span>         <span style=\"color: #ff00ff; text-decoration-color: #ff00ff\">33996.py</span>:<span style=\"color: #008080; text-decoration-color: #008080; font-weight: bold\">2</span>: SettingWithCopyWarning:                                    <span style=\"color: #7f7f7f; text-decoration-color: #7f7f7f\">               </span>\n",
       "<span style=\"color: #7fbfbf; text-decoration-color: #7fbfbf\">                    </span>         A value is trying to be set on a copy of a slice from a DataFrame.     <span style=\"color: #7f7f7f; text-decoration-color: #7f7f7f\">               </span>\n",
       "<span style=\"color: #7fbfbf; text-decoration-color: #7fbfbf\">                    </span>         Try using .loc<span style=\"font-weight: bold\">[</span>row_indexer,col_indexer<span style=\"font-weight: bold\">]</span> = value instead                <span style=\"color: #7f7f7f; text-decoration-color: #7f7f7f\">               </span>\n",
       "<span style=\"color: #7fbfbf; text-decoration-color: #7fbfbf\">                    </span>                                                                                <span style=\"color: #7f7f7f; text-decoration-color: #7f7f7f\">               </span>\n",
       "<span style=\"color: #7fbfbf; text-decoration-color: #7fbfbf\">                    </span>         See the caveats in the documentation:                                  <span style=\"color: #7f7f7f; text-decoration-color: #7f7f7f\">               </span>\n",
       "<span style=\"color: #7fbfbf; text-decoration-color: #7fbfbf\">                    </span>         <span style=\"color: #0000ff; text-decoration-color: #0000ff; text-decoration: underline\">https://pandas.pydata.org/pandas-docs/stable/user_guide/indexing.html#</span> <span style=\"color: #7f7f7f; text-decoration-color: #7f7f7f\">               </span>\n",
       "<span style=\"color: #7fbfbf; text-decoration-color: #7fbfbf\">                    </span>         <span style=\"color: #0000ff; text-decoration-color: #0000ff; text-decoration: underline\">returning-a-view-versus-a-copy</span>                                         <span style=\"color: #7f7f7f; text-decoration-color: #7f7f7f\">               </span>\n",
       "<span style=\"color: #7fbfbf; text-decoration-color: #7fbfbf\">                    </span>           model_data<span style=\"font-weight: bold\">[</span><span style=\"color: #008000; text-decoration-color: #008000\">'current_available_limit_ratio'</span><span style=\"font-weight: bold\">]</span> =                        <span style=\"color: #7f7f7f; text-decoration-color: #7f7f7f\">               </span>\n",
       "<span style=\"color: #7fbfbf; text-decoration-color: #7fbfbf\">                    </span>         model_data<span style=\"font-weight: bold\">[</span><span style=\"color: #008000; text-decoration-color: #008000\">'current_available_limit'</span><span style=\"font-weight: bold\">]</span> <span style=\"color: #800080; text-decoration-color: #800080\">/</span>                                <span style=\"color: #7f7f7f; text-decoration-color: #7f7f7f\">               </span>\n",
       "<span style=\"color: #7fbfbf; text-decoration-color: #7fbfbf\">                    </span>         model_data<span style=\"font-weight: bold\">[</span><span style=\"color: #008000; text-decoration-color: #008000\">'total_credit_card_limit'</span><span style=\"font-weight: bold\">]</span>                                  <span style=\"color: #7f7f7f; text-decoration-color: #7f7f7f\">               </span>\n",
       "<span style=\"color: #7fbfbf; text-decoration-color: #7fbfbf\">                    </span>                                                                                <span style=\"color: #7f7f7f; text-decoration-color: #7f7f7f\">               </span>\n",
       "</pre>\n"
      ],
      "text/plain": [
       "\u001b[2;36m                   \u001b[0m\u001b[2;36m \u001b[0m\u001b[31mWARNING \u001b[0m \u001b[35m/var/folders/qn/pq9pzsn51vx7lzwtkc1r1hxr0000gn/T/ipykernel_34204/\u001b[0m\u001b[95m30728\u001b[0m \u001b]8;id=544802;file:///usr/local/Caskroom/miniforge/base/envs/kedro-environment/lib/python3.10/warnings.py\u001b\\\u001b[2mwarnings.py\u001b[0m\u001b]8;;\u001b\\\u001b[2m:\u001b[0m\u001b]8;id=693193;file:///usr/local/Caskroom/miniforge/base/envs/kedro-environment/lib/python3.10/warnings.py#109\u001b\\\u001b[2m109\u001b[0m\u001b]8;;\u001b\\\n",
       "\u001b[2;36m                    \u001b[0m         \u001b[95m33996.py\u001b[0m:\u001b[1;36m2\u001b[0m: SettingWithCopyWarning:                                    \u001b[2m               \u001b[0m\n",
       "\u001b[2;36m                    \u001b[0m         A value is trying to be set on a copy of a slice from a DataFrame.     \u001b[2m               \u001b[0m\n",
       "\u001b[2;36m                    \u001b[0m         Try using .loc\u001b[1m[\u001b[0mrow_indexer,col_indexer\u001b[1m]\u001b[0m = value instead                \u001b[2m               \u001b[0m\n",
       "\u001b[2;36m                    \u001b[0m                                                                                \u001b[2m               \u001b[0m\n",
       "\u001b[2;36m                    \u001b[0m         See the caveats in the documentation:                                  \u001b[2m               \u001b[0m\n",
       "\u001b[2;36m                    \u001b[0m         \u001b[4;94mhttps://pandas.pydata.org/pandas-docs/stable/user_guide/indexing.html#\u001b[0m \u001b[2m               \u001b[0m\n",
       "\u001b[2;36m                    \u001b[0m         \u001b[4;94mreturning-a-view-versus-a-copy\u001b[0m                                         \u001b[2m               \u001b[0m\n",
       "\u001b[2;36m                    \u001b[0m           model_data\u001b[1m[\u001b[0m\u001b[32m'current_available_limit_ratio'\u001b[0m\u001b[1m]\u001b[0m =                        \u001b[2m               \u001b[0m\n",
       "\u001b[2;36m                    \u001b[0m         model_data\u001b[1m[\u001b[0m\u001b[32m'current_available_limit'\u001b[0m\u001b[1m]\u001b[0m \u001b[35m/\u001b[0m                                \u001b[2m               \u001b[0m\n",
       "\u001b[2;36m                    \u001b[0m         model_data\u001b[1m[\u001b[0m\u001b[32m'total_credit_card_limit'\u001b[0m\u001b[1m]\u001b[0m                                  \u001b[2m               \u001b[0m\n",
       "\u001b[2;36m                    \u001b[0m                                                                                \u001b[2m               \u001b[0m\n"
      ]
     },
     "metadata": {},
     "output_type": "display_data"
    },
    {
     "data": {
      "text/html": [
       "<pre style=\"white-space:pre;overflow-x:auto;line-height:normal;font-family:Menlo,'DejaVu Sans Mono',consolas,'Courier New',monospace\"><span style=\"color: #7fbfbf; text-decoration-color: #7fbfbf\">                    </span><span style=\"color: #800000; text-decoration-color: #800000\">WARNING </span> <span style=\"color: #800080; text-decoration-color: #800080\">/var/folders/qn/pq9pzsn51vx7lzwtkc1r1hxr0000gn/T/ipykernel_34204/</span><span style=\"color: #ff00ff; text-decoration-color: #ff00ff\">30728</span> <a href=\"file:///usr/local/Caskroom/miniforge/base/envs/kedro-environment/lib/python3.10/warnings.py\" target=\"_blank\"><span style=\"color: #7f7f7f; text-decoration-color: #7f7f7f\">warnings.py</span></a><span style=\"color: #7f7f7f; text-decoration-color: #7f7f7f\">:</span><a href=\"file:///usr/local/Caskroom/miniforge/base/envs/kedro-environment/lib/python3.10/warnings.py#109\" target=\"_blank\"><span style=\"color: #7f7f7f; text-decoration-color: #7f7f7f\">109</span></a>\n",
       "<span style=\"color: #7fbfbf; text-decoration-color: #7fbfbf\">                    </span>         <span style=\"color: #ff00ff; text-decoration-color: #ff00ff\">33996.py</span>:<span style=\"color: #008080; text-decoration-color: #008080; font-weight: bold\">3</span>: SettingWithCopyWarning:                                    <span style=\"color: #7f7f7f; text-decoration-color: #7f7f7f\">               </span>\n",
       "<span style=\"color: #7fbfbf; text-decoration-color: #7fbfbf\">                    </span>         A value is trying to be set on a copy of a slice from a DataFrame.     <span style=\"color: #7f7f7f; text-decoration-color: #7f7f7f\">               </span>\n",
       "<span style=\"color: #7fbfbf; text-decoration-color: #7fbfbf\">                    </span>         Try using .loc<span style=\"font-weight: bold\">[</span>row_indexer,col_indexer<span style=\"font-weight: bold\">]</span> = value instead                <span style=\"color: #7f7f7f; text-decoration-color: #7f7f7f\">               </span>\n",
       "<span style=\"color: #7fbfbf; text-decoration-color: #7fbfbf\">                    </span>                                                                                <span style=\"color: #7f7f7f; text-decoration-color: #7f7f7f\">               </span>\n",
       "<span style=\"color: #7fbfbf; text-decoration-color: #7fbfbf\">                    </span>         See the caveats in the documentation:                                  <span style=\"color: #7f7f7f; text-decoration-color: #7f7f7f\">               </span>\n",
       "<span style=\"color: #7fbfbf; text-decoration-color: #7fbfbf\">                    </span>         <span style=\"color: #0000ff; text-decoration-color: #0000ff; text-decoration: underline\">https://pandas.pydata.org/pandas-docs/stable/user_guide/indexing.html#</span> <span style=\"color: #7f7f7f; text-decoration-color: #7f7f7f\">               </span>\n",
       "<span style=\"color: #7fbfbf; text-decoration-color: #7fbfbf\">                    </span>         <span style=\"color: #0000ff; text-decoration-color: #0000ff; text-decoration: underline\">returning-a-view-versus-a-copy</span>                                         <span style=\"color: #7f7f7f; text-decoration-color: #7f7f7f\">               </span>\n",
       "<span style=\"color: #7fbfbf; text-decoration-color: #7fbfbf\">                    </span>           model_data<span style=\"font-weight: bold\">[</span><span style=\"color: #008000; text-decoration-color: #008000\">'amount_ratio_from_total'</span><span style=\"font-weight: bold\">]</span> = model_data<span style=\"font-weight: bold\">[</span><span style=\"color: #008000; text-decoration-color: #008000\">'amount'</span><span style=\"font-weight: bold\">]</span> <span style=\"color: #800080; text-decoration-color: #800080\">/</span>       <span style=\"color: #7f7f7f; text-decoration-color: #7f7f7f\">               </span>\n",
       "<span style=\"color: #7fbfbf; text-decoration-color: #7fbfbf\">                    </span>         model_data<span style=\"font-weight: bold\">[</span><span style=\"color: #008000; text-decoration-color: #008000\">'total_credit_card_limit'</span><span style=\"font-weight: bold\">]</span>                                  <span style=\"color: #7f7f7f; text-decoration-color: #7f7f7f\">               </span>\n",
       "<span style=\"color: #7fbfbf; text-decoration-color: #7fbfbf\">                    </span>                                                                                <span style=\"color: #7f7f7f; text-decoration-color: #7f7f7f\">               </span>\n",
       "</pre>\n"
      ],
      "text/plain": [
       "\u001b[2;36m                   \u001b[0m\u001b[2;36m \u001b[0m\u001b[31mWARNING \u001b[0m \u001b[35m/var/folders/qn/pq9pzsn51vx7lzwtkc1r1hxr0000gn/T/ipykernel_34204/\u001b[0m\u001b[95m30728\u001b[0m \u001b]8;id=704;file:///usr/local/Caskroom/miniforge/base/envs/kedro-environment/lib/python3.10/warnings.py\u001b\\\u001b[2mwarnings.py\u001b[0m\u001b]8;;\u001b\\\u001b[2m:\u001b[0m\u001b]8;id=568649;file:///usr/local/Caskroom/miniforge/base/envs/kedro-environment/lib/python3.10/warnings.py#109\u001b\\\u001b[2m109\u001b[0m\u001b]8;;\u001b\\\n",
       "\u001b[2;36m                    \u001b[0m         \u001b[95m33996.py\u001b[0m:\u001b[1;36m3\u001b[0m: SettingWithCopyWarning:                                    \u001b[2m               \u001b[0m\n",
       "\u001b[2;36m                    \u001b[0m         A value is trying to be set on a copy of a slice from a DataFrame.     \u001b[2m               \u001b[0m\n",
       "\u001b[2;36m                    \u001b[0m         Try using .loc\u001b[1m[\u001b[0mrow_indexer,col_indexer\u001b[1m]\u001b[0m = value instead                \u001b[2m               \u001b[0m\n",
       "\u001b[2;36m                    \u001b[0m                                                                                \u001b[2m               \u001b[0m\n",
       "\u001b[2;36m                    \u001b[0m         See the caveats in the documentation:                                  \u001b[2m               \u001b[0m\n",
       "\u001b[2;36m                    \u001b[0m         \u001b[4;94mhttps://pandas.pydata.org/pandas-docs/stable/user_guide/indexing.html#\u001b[0m \u001b[2m               \u001b[0m\n",
       "\u001b[2;36m                    \u001b[0m         \u001b[4;94mreturning-a-view-versus-a-copy\u001b[0m                                         \u001b[2m               \u001b[0m\n",
       "\u001b[2;36m                    \u001b[0m           model_data\u001b[1m[\u001b[0m\u001b[32m'amount_ratio_from_total'\u001b[0m\u001b[1m]\u001b[0m = model_data\u001b[1m[\u001b[0m\u001b[32m'amount'\u001b[0m\u001b[1m]\u001b[0m \u001b[35m/\u001b[0m       \u001b[2m               \u001b[0m\n",
       "\u001b[2;36m                    \u001b[0m         model_data\u001b[1m[\u001b[0m\u001b[32m'total_credit_card_limit'\u001b[0m\u001b[1m]\u001b[0m                                  \u001b[2m               \u001b[0m\n",
       "\u001b[2;36m                    \u001b[0m                                                                                \u001b[2m               \u001b[0m\n"
      ]
     },
     "metadata": {},
     "output_type": "display_data"
    },
    {
     "data": {
      "text/html": [
       "<pre style=\"white-space:pre;overflow-x:auto;line-height:normal;font-family:Menlo,'DejaVu Sans Mono',consolas,'Courier New',monospace\"><span style=\"color: #7fbfbf; text-decoration-color: #7fbfbf\">                    </span><span style=\"color: #800000; text-decoration-color: #800000\">WARNING </span> <span style=\"color: #800080; text-decoration-color: #800080\">/var/folders/qn/pq9pzsn51vx7lzwtkc1r1hxr0000gn/T/ipykernel_34204/</span><span style=\"color: #ff00ff; text-decoration-color: #ff00ff\">30728</span> <a href=\"file:///usr/local/Caskroom/miniforge/base/envs/kedro-environment/lib/python3.10/warnings.py\" target=\"_blank\"><span style=\"color: #7f7f7f; text-decoration-color: #7f7f7f\">warnings.py</span></a><span style=\"color: #7f7f7f; text-decoration-color: #7f7f7f\">:</span><a href=\"file:///usr/local/Caskroom/miniforge/base/envs/kedro-environment/lib/python3.10/warnings.py#109\" target=\"_blank\"><span style=\"color: #7f7f7f; text-decoration-color: #7f7f7f\">109</span></a>\n",
       "<span style=\"color: #7fbfbf; text-decoration-color: #7fbfbf\">                    </span>         <span style=\"color: #ff00ff; text-decoration-color: #ff00ff\">33996.py</span>:<span style=\"color: #008080; text-decoration-color: #008080; font-weight: bold\">4</span>: SettingWithCopyWarning:                                    <span style=\"color: #7f7f7f; text-decoration-color: #7f7f7f\">               </span>\n",
       "<span style=\"color: #7fbfbf; text-decoration-color: #7fbfbf\">                    </span>         A value is trying to be set on a copy of a slice from a DataFrame.     <span style=\"color: #7f7f7f; text-decoration-color: #7f7f7f\">               </span>\n",
       "<span style=\"color: #7fbfbf; text-decoration-color: #7fbfbf\">                    </span>         Try using .loc<span style=\"font-weight: bold\">[</span>row_indexer,col_indexer<span style=\"font-weight: bold\">]</span> = value instead                <span style=\"color: #7f7f7f; text-decoration-color: #7f7f7f\">               </span>\n",
       "<span style=\"color: #7fbfbf; text-decoration-color: #7fbfbf\">                    </span>                                                                                <span style=\"color: #7f7f7f; text-decoration-color: #7f7f7f\">               </span>\n",
       "<span style=\"color: #7fbfbf; text-decoration-color: #7fbfbf\">                    </span>         See the caveats in the documentation:                                  <span style=\"color: #7f7f7f; text-decoration-color: #7f7f7f\">               </span>\n",
       "<span style=\"color: #7fbfbf; text-decoration-color: #7fbfbf\">                    </span>         <span style=\"color: #0000ff; text-decoration-color: #0000ff; text-decoration: underline\">https://pandas.pydata.org/pandas-docs/stable/user_guide/indexing.html#</span> <span style=\"color: #7f7f7f; text-decoration-color: #7f7f7f\">               </span>\n",
       "<span style=\"color: #7fbfbf; text-decoration-color: #7fbfbf\">                    </span>         <span style=\"color: #0000ff; text-decoration-color: #0000ff; text-decoration: underline\">returning-a-view-versus-a-copy</span>                                         <span style=\"color: #7f7f7f; text-decoration-color: #7f7f7f\">               </span>\n",
       "<span style=\"color: #7fbfbf; text-decoration-color: #7fbfbf\">                    </span>           model_data<span style=\"font-weight: bold\">[</span><span style=\"color: #008000; text-decoration-color: #008000\">'amount_ratio_from_current'</span><span style=\"font-weight: bold\">]</span> = model_data<span style=\"font-weight: bold\">[</span><span style=\"color: #008000; text-decoration-color: #008000\">'amount'</span><span style=\"font-weight: bold\">]</span> <span style=\"color: #800080; text-decoration-color: #800080\">/</span>     <span style=\"color: #7f7f7f; text-decoration-color: #7f7f7f\">               </span>\n",
       "<span style=\"color: #7fbfbf; text-decoration-color: #7fbfbf\">                    </span>         model_data<span style=\"font-weight: bold\">[</span><span style=\"color: #008000; text-decoration-color: #008000\">'current_available_limit'</span><span style=\"font-weight: bold\">]</span>                                  <span style=\"color: #7f7f7f; text-decoration-color: #7f7f7f\">               </span>\n",
       "<span style=\"color: #7fbfbf; text-decoration-color: #7fbfbf\">                    </span>                                                                                <span style=\"color: #7f7f7f; text-decoration-color: #7f7f7f\">               </span>\n",
       "</pre>\n"
      ],
      "text/plain": [
       "\u001b[2;36m                   \u001b[0m\u001b[2;36m \u001b[0m\u001b[31mWARNING \u001b[0m \u001b[35m/var/folders/qn/pq9pzsn51vx7lzwtkc1r1hxr0000gn/T/ipykernel_34204/\u001b[0m\u001b[95m30728\u001b[0m \u001b]8;id=534023;file:///usr/local/Caskroom/miniforge/base/envs/kedro-environment/lib/python3.10/warnings.py\u001b\\\u001b[2mwarnings.py\u001b[0m\u001b]8;;\u001b\\\u001b[2m:\u001b[0m\u001b]8;id=879467;file:///usr/local/Caskroom/miniforge/base/envs/kedro-environment/lib/python3.10/warnings.py#109\u001b\\\u001b[2m109\u001b[0m\u001b]8;;\u001b\\\n",
       "\u001b[2;36m                    \u001b[0m         \u001b[95m33996.py\u001b[0m:\u001b[1;36m4\u001b[0m: SettingWithCopyWarning:                                    \u001b[2m               \u001b[0m\n",
       "\u001b[2;36m                    \u001b[0m         A value is trying to be set on a copy of a slice from a DataFrame.     \u001b[2m               \u001b[0m\n",
       "\u001b[2;36m                    \u001b[0m         Try using .loc\u001b[1m[\u001b[0mrow_indexer,col_indexer\u001b[1m]\u001b[0m = value instead                \u001b[2m               \u001b[0m\n",
       "\u001b[2;36m                    \u001b[0m                                                                                \u001b[2m               \u001b[0m\n",
       "\u001b[2;36m                    \u001b[0m         See the caveats in the documentation:                                  \u001b[2m               \u001b[0m\n",
       "\u001b[2;36m                    \u001b[0m         \u001b[4;94mhttps://pandas.pydata.org/pandas-docs/stable/user_guide/indexing.html#\u001b[0m \u001b[2m               \u001b[0m\n",
       "\u001b[2;36m                    \u001b[0m         \u001b[4;94mreturning-a-view-versus-a-copy\u001b[0m                                         \u001b[2m               \u001b[0m\n",
       "\u001b[2;36m                    \u001b[0m           model_data\u001b[1m[\u001b[0m\u001b[32m'amount_ratio_from_current'\u001b[0m\u001b[1m]\u001b[0m = model_data\u001b[1m[\u001b[0m\u001b[32m'amount'\u001b[0m\u001b[1m]\u001b[0m \u001b[35m/\u001b[0m     \u001b[2m               \u001b[0m\n",
       "\u001b[2;36m                    \u001b[0m         model_data\u001b[1m[\u001b[0m\u001b[32m'current_available_limit'\u001b[0m\u001b[1m]\u001b[0m                                  \u001b[2m               \u001b[0m\n",
       "\u001b[2;36m                    \u001b[0m                                                                                \u001b[2m               \u001b[0m\n"
      ]
     },
     "metadata": {},
     "output_type": "display_data"
    },
    {
     "data": {
      "text/html": [
       "<pre style=\"white-space:pre;overflow-x:auto;line-height:normal;font-family:Menlo,'DejaVu Sans Mono',consolas,'Courier New',monospace\"></pre>\n"
      ],
      "text/plain": []
     },
     "metadata": {},
     "output_type": "display_data"
    },
    {
     "data": {
      "text/html": [
       "<div>\n",
       "<style scoped>\n",
       "    .dataframe tbody tr th:only-of-type {\n",
       "        vertical-align: middle;\n",
       "    }\n",
       "\n",
       "    .dataframe tbody tr th {\n",
       "        vertical-align: top;\n",
       "    }\n",
       "\n",
       "    .dataframe thead th {\n",
       "        text-align: right;\n",
       "    }\n",
       "</style>\n",
       "<table border=\"1\" class=\"dataframe\">\n",
       "  <thead>\n",
       "    <tr style=\"text-align: right;\">\n",
       "      <th></th>\n",
       "      <th>total_credit_card_limit</th>\n",
       "      <th>current_available_limit</th>\n",
       "      <th>amount</th>\n",
       "      <th>total_minus_current</th>\n",
       "      <th>current_available_limit_ratio</th>\n",
       "      <th>amount_ratio_from_total</th>\n",
       "      <th>amount_ratio_from_current</th>\n",
       "    </tr>\n",
       "  </thead>\n",
       "  <tbody>\n",
       "    <tr>\n",
       "      <th>0</th>\n",
       "      <td>4700</td>\n",
       "      <td>5605</td>\n",
       "      <td>31.0</td>\n",
       "      <td>-905</td>\n",
       "      <td>1.192553</td>\n",
       "      <td>0.006596</td>\n",
       "      <td>0.005531</td>\n",
       "    </tr>\n",
       "    <tr>\n",
       "      <th>1</th>\n",
       "      <td>4700</td>\n",
       "      <td>5343</td>\n",
       "      <td>15001.0</td>\n",
       "      <td>-643</td>\n",
       "      <td>1.136809</td>\n",
       "      <td>3.191702</td>\n",
       "      <td>2.807599</td>\n",
       "    </tr>\n",
       "    <tr>\n",
       "      <th>2</th>\n",
       "      <td>4700</td>\n",
       "      <td>2829</td>\n",
       "      <td>50.0</td>\n",
       "      <td>1871</td>\n",
       "      <td>0.601915</td>\n",
       "      <td>0.010638</td>\n",
       "      <td>0.017674</td>\n",
       "    </tr>\n",
       "    <tr>\n",
       "      <th>3</th>\n",
       "      <td>4700</td>\n",
       "      <td>2547</td>\n",
       "      <td>544.0</td>\n",
       "      <td>2153</td>\n",
       "      <td>0.541915</td>\n",
       "      <td>0.115745</td>\n",
       "      <td>0.213585</td>\n",
       "    </tr>\n",
       "    <tr>\n",
       "      <th>4</th>\n",
       "      <td>4700</td>\n",
       "      <td>2515</td>\n",
       "      <td>3279.0</td>\n",
       "      <td>2185</td>\n",
       "      <td>0.535106</td>\n",
       "      <td>0.697660</td>\n",
       "      <td>1.303777</td>\n",
       "    </tr>\n",
       "  </tbody>\n",
       "</table>\n",
       "</div>"
      ],
      "text/plain": [
       "\n",
       "   total_credit_card_limit  current_available_limit   amount  \\\n",
       "\u001b[1;36m0\u001b[0m                     \u001b[1;36m4700\u001b[0m                     \u001b[1;36m5605\u001b[0m     \u001b[1;36m31.0\u001b[0m   \n",
       "\u001b[1;36m1\u001b[0m                     \u001b[1;36m4700\u001b[0m                     \u001b[1;36m5343\u001b[0m  \u001b[1;36m15001.0\u001b[0m   \n",
       "\u001b[1;36m2\u001b[0m                     \u001b[1;36m4700\u001b[0m                     \u001b[1;36m2829\u001b[0m     \u001b[1;36m50.0\u001b[0m   \n",
       "\u001b[1;36m3\u001b[0m                     \u001b[1;36m4700\u001b[0m                     \u001b[1;36m2547\u001b[0m    \u001b[1;36m544.0\u001b[0m   \n",
       "\u001b[1;36m4\u001b[0m                     \u001b[1;36m4700\u001b[0m                     \u001b[1;36m2515\u001b[0m   \u001b[1;36m3279.0\u001b[0m   \n",
       "\n",
       "   total_minus_current  current_available_limit_ratio  \\\n",
       "\u001b[1;36m0\u001b[0m                 \u001b[1;36m-905\u001b[0m                       \u001b[1;36m1.192553\u001b[0m   \n",
       "\u001b[1;36m1\u001b[0m                 \u001b[1;36m-643\u001b[0m                       \u001b[1;36m1.136809\u001b[0m   \n",
       "\u001b[1;36m2\u001b[0m                 \u001b[1;36m1871\u001b[0m                       \u001b[1;36m0.601915\u001b[0m   \n",
       "\u001b[1;36m3\u001b[0m                 \u001b[1;36m2153\u001b[0m                       \u001b[1;36m0.541915\u001b[0m   \n",
       "\u001b[1;36m4\u001b[0m                 \u001b[1;36m2185\u001b[0m                       \u001b[1;36m0.535106\u001b[0m   \n",
       "\n",
       "   amount_ratio_from_total  amount_ratio_from_current  \n",
       "\u001b[1;36m0\u001b[0m                 \u001b[1;36m0.006596\u001b[0m                   \u001b[1;36m0.005531\u001b[0m  \n",
       "\u001b[1;36m1\u001b[0m                 \u001b[1;36m3.191702\u001b[0m                   \u001b[1;36m2.807599\u001b[0m  \n",
       "\u001b[1;36m2\u001b[0m                 \u001b[1;36m0.010638\u001b[0m                   \u001b[1;36m0.017674\u001b[0m  \n",
       "\u001b[1;36m3\u001b[0m                 \u001b[1;36m0.115745\u001b[0m                   \u001b[1;36m0.213585\u001b[0m  \n",
       "\u001b[1;36m4\u001b[0m                 \u001b[1;36m0.697660\u001b[0m                   \u001b[1;36m1.303777\u001b[0m  "
      ]
     },
     "execution_count": 4,
     "metadata": {},
     "output_type": "execute_result"
    }
   ],
   "source": [
    "model_data['total_minus_current'] = model_data['total_credit_card_limit'] - model_data['current_available_limit']\n",
    "model_data['current_available_limit_ratio'] = model_data['current_available_limit'] / model_data['total_credit_card_limit']\n",
    "model_data['amount_ratio_from_total'] = model_data['amount'] / model_data['total_credit_card_limit']\n",
    "model_data['amount_ratio_from_current'] = model_data['amount'] / model_data['current_available_limit']\n",
    "model_data.head()\n"
   ]
  },
  {
   "cell_type": "code",
   "execution_count": 5,
   "metadata": {},
   "outputs": [
    {
     "data": {
      "text/html": [
       "<pre style=\"white-space:pre;overflow-x:auto;line-height:normal;font-family:Menlo,'DejaVu Sans Mono',consolas,'Courier New',monospace\"><span style=\"color: #7fbfbf; text-decoration-color: #7fbfbf\">                    </span><span style=\"color: #800000; text-decoration-color: #800000\">WARNING </span> <span style=\"color: #800080; text-decoration-color: #800080\">/var/folders/qn/pq9pzsn51vx7lzwtkc1r1hxr0000gn/T/ipykernel_34204/</span><span style=\"color: #ff00ff; text-decoration-color: #ff00ff\">21878</span> <a href=\"file:///usr/local/Caskroom/miniforge/base/envs/kedro-environment/lib/python3.10/warnings.py\" target=\"_blank\"><span style=\"color: #7f7f7f; text-decoration-color: #7f7f7f\">warnings.py</span></a><span style=\"color: #7f7f7f; text-decoration-color: #7f7f7f\">:</span><a href=\"file:///usr/local/Caskroom/miniforge/base/envs/kedro-environment/lib/python3.10/warnings.py#109\" target=\"_blank\"><span style=\"color: #7f7f7f; text-decoration-color: #7f7f7f\">109</span></a>\n",
       "<span style=\"color: #7fbfbf; text-decoration-color: #7fbfbf\">                    </span>         <span style=\"color: #ff00ff; text-decoration-color: #ff00ff\">45388.py</span>:<span style=\"color: #008080; text-decoration-color: #008080; font-weight: bold\">1</span>: SettingWithCopyWarning:                                    <span style=\"color: #7f7f7f; text-decoration-color: #7f7f7f\">               </span>\n",
       "<span style=\"color: #7fbfbf; text-decoration-color: #7fbfbf\">                    </span>         A value is trying to be set on a copy of a slice from a DataFrame.     <span style=\"color: #7f7f7f; text-decoration-color: #7f7f7f\">               </span>\n",
       "<span style=\"color: #7fbfbf; text-decoration-color: #7fbfbf\">                    </span>         Try using .loc<span style=\"font-weight: bold\">[</span>row_indexer,col_indexer<span style=\"font-weight: bold\">]</span> = value instead                <span style=\"color: #7f7f7f; text-decoration-color: #7f7f7f\">               </span>\n",
       "<span style=\"color: #7fbfbf; text-decoration-color: #7fbfbf\">                    </span>                                                                                <span style=\"color: #7f7f7f; text-decoration-color: #7f7f7f\">               </span>\n",
       "<span style=\"color: #7fbfbf; text-decoration-color: #7fbfbf\">                    </span>         See the caveats in the documentation:                                  <span style=\"color: #7f7f7f; text-decoration-color: #7f7f7f\">               </span>\n",
       "<span style=\"color: #7fbfbf; text-decoration-color: #7fbfbf\">                    </span>         <span style=\"color: #0000ff; text-decoration-color: #0000ff; text-decoration: underline\">https://pandas.pydata.org/pandas-docs/stable/user_guide/indexing.html#</span> <span style=\"color: #7f7f7f; text-decoration-color: #7f7f7f\">               </span>\n",
       "<span style=\"color: #7fbfbf; text-decoration-color: #7fbfbf\">                    </span>         <span style=\"color: #0000ff; text-decoration-color: #0000ff; text-decoration: underline\">returning-a-view-versus-a-copy</span>                                         <span style=\"color: #7f7f7f; text-decoration-color: #7f7f7f\">               </span>\n",
       "<span style=\"color: #7fbfbf; text-decoration-color: #7fbfbf\">                    </span>           model_data<span style=\"font-weight: bold\">[</span><span style=\"color: #008000; text-decoration-color: #008000\">'is_F'</span><span style=\"font-weight: bold\">]</span> = <span style=\"color: #800080; text-decoration-color: #800080; font-weight: bold\">np.where</span><span style=\"font-weight: bold\">(</span>df.gender == <span style=\"color: #008000; text-decoration-color: #008000\">'F'</span>, <span style=\"color: #008080; text-decoration-color: #008080; font-weight: bold\">1</span>, <span style=\"color: #008080; text-decoration-color: #008080; font-weight: bold\">0</span><span style=\"font-weight: bold\">)</span>                <span style=\"color: #7f7f7f; text-decoration-color: #7f7f7f\">               </span>\n",
       "<span style=\"color: #7fbfbf; text-decoration-color: #7fbfbf\">                    </span>                                                                                <span style=\"color: #7f7f7f; text-decoration-color: #7f7f7f\">               </span>\n",
       "</pre>\n"
      ],
      "text/plain": [
       "\u001b[2;36m                   \u001b[0m\u001b[2;36m \u001b[0m\u001b[31mWARNING \u001b[0m \u001b[35m/var/folders/qn/pq9pzsn51vx7lzwtkc1r1hxr0000gn/T/ipykernel_34204/\u001b[0m\u001b[95m21878\u001b[0m \u001b]8;id=350375;file:///usr/local/Caskroom/miniforge/base/envs/kedro-environment/lib/python3.10/warnings.py\u001b\\\u001b[2mwarnings.py\u001b[0m\u001b]8;;\u001b\\\u001b[2m:\u001b[0m\u001b]8;id=994845;file:///usr/local/Caskroom/miniforge/base/envs/kedro-environment/lib/python3.10/warnings.py#109\u001b\\\u001b[2m109\u001b[0m\u001b]8;;\u001b\\\n",
       "\u001b[2;36m                    \u001b[0m         \u001b[95m45388.py\u001b[0m:\u001b[1;36m1\u001b[0m: SettingWithCopyWarning:                                    \u001b[2m               \u001b[0m\n",
       "\u001b[2;36m                    \u001b[0m         A value is trying to be set on a copy of a slice from a DataFrame.     \u001b[2m               \u001b[0m\n",
       "\u001b[2;36m                    \u001b[0m         Try using .loc\u001b[1m[\u001b[0mrow_indexer,col_indexer\u001b[1m]\u001b[0m = value instead                \u001b[2m               \u001b[0m\n",
       "\u001b[2;36m                    \u001b[0m                                                                                \u001b[2m               \u001b[0m\n",
       "\u001b[2;36m                    \u001b[0m         See the caveats in the documentation:                                  \u001b[2m               \u001b[0m\n",
       "\u001b[2;36m                    \u001b[0m         \u001b[4;94mhttps://pandas.pydata.org/pandas-docs/stable/user_guide/indexing.html#\u001b[0m \u001b[2m               \u001b[0m\n",
       "\u001b[2;36m                    \u001b[0m         \u001b[4;94mreturning-a-view-versus-a-copy\u001b[0m                                         \u001b[2m               \u001b[0m\n",
       "\u001b[2;36m                    \u001b[0m           model_data\u001b[1m[\u001b[0m\u001b[32m'is_F'\u001b[0m\u001b[1m]\u001b[0m = \u001b[1;35mnp.where\u001b[0m\u001b[1m(\u001b[0mdf.gender == \u001b[32m'F'\u001b[0m, \u001b[1;36m1\u001b[0m, \u001b[1;36m0\u001b[0m\u001b[1m)\u001b[0m                \u001b[2m               \u001b[0m\n",
       "\u001b[2;36m                    \u001b[0m                                                                                \u001b[2m               \u001b[0m\n"
      ]
     },
     "metadata": {},
     "output_type": "display_data"
    },
    {
     "data": {
      "text/html": [
       "<pre style=\"white-space:pre;overflow-x:auto;line-height:normal;font-family:Menlo,'DejaVu Sans Mono',consolas,'Courier New',monospace\"><span style=\"color: #7fbfbf; text-decoration-color: #7fbfbf\">                    </span><span style=\"color: #800000; text-decoration-color: #800000\">WARNING </span> <span style=\"color: #800080; text-decoration-color: #800080\">/var/folders/qn/pq9pzsn51vx7lzwtkc1r1hxr0000gn/T/ipykernel_34204/</span><span style=\"color: #ff00ff; text-decoration-color: #ff00ff\">21878</span> <a href=\"file:///usr/local/Caskroom/miniforge/base/envs/kedro-environment/lib/python3.10/warnings.py\" target=\"_blank\"><span style=\"color: #7f7f7f; text-decoration-color: #7f7f7f\">warnings.py</span></a><span style=\"color: #7f7f7f; text-decoration-color: #7f7f7f\">:</span><a href=\"file:///usr/local/Caskroom/miniforge/base/envs/kedro-environment/lib/python3.10/warnings.py#109\" target=\"_blank\"><span style=\"color: #7f7f7f; text-decoration-color: #7f7f7f\">109</span></a>\n",
       "<span style=\"color: #7fbfbf; text-decoration-color: #7fbfbf\">                    </span>         <span style=\"color: #ff00ff; text-decoration-color: #ff00ff\">45388.py</span>:<span style=\"color: #008080; text-decoration-color: #008080; font-weight: bold\">2</span>: SettingWithCopyWarning:                                    <span style=\"color: #7f7f7f; text-decoration-color: #7f7f7f\">               </span>\n",
       "<span style=\"color: #7fbfbf; text-decoration-color: #7fbfbf\">                    </span>         A value is trying to be set on a copy of a slice from a DataFrame.     <span style=\"color: #7f7f7f; text-decoration-color: #7f7f7f\">               </span>\n",
       "<span style=\"color: #7fbfbf; text-decoration-color: #7fbfbf\">                    </span>         Try using .loc<span style=\"font-weight: bold\">[</span>row_indexer,col_indexer<span style=\"font-weight: bold\">]</span> = value instead                <span style=\"color: #7f7f7f; text-decoration-color: #7f7f7f\">               </span>\n",
       "<span style=\"color: #7fbfbf; text-decoration-color: #7fbfbf\">                    </span>                                                                                <span style=\"color: #7f7f7f; text-decoration-color: #7f7f7f\">               </span>\n",
       "<span style=\"color: #7fbfbf; text-decoration-color: #7fbfbf\">                    </span>         See the caveats in the documentation:                                  <span style=\"color: #7f7f7f; text-decoration-color: #7f7f7f\">               </span>\n",
       "<span style=\"color: #7fbfbf; text-decoration-color: #7fbfbf\">                    </span>         <span style=\"color: #0000ff; text-decoration-color: #0000ff; text-decoration: underline\">https://pandas.pydata.org/pandas-docs/stable/user_guide/indexing.html#</span> <span style=\"color: #7f7f7f; text-decoration-color: #7f7f7f\">               </span>\n",
       "<span style=\"color: #7fbfbf; text-decoration-color: #7fbfbf\">                    </span>         <span style=\"color: #0000ff; text-decoration-color: #0000ff; text-decoration: underline\">returning-a-view-versus-a-copy</span>                                         <span style=\"color: #7f7f7f; text-decoration-color: #7f7f7f\">               </span>\n",
       "<span style=\"color: #7fbfbf; text-decoration-color: #7fbfbf\">                    </span>           model_data<span style=\"font-weight: bold\">[</span><span style=\"color: #008000; text-decoration-color: #008000\">'is_M'</span><span style=\"font-weight: bold\">]</span> = <span style=\"color: #800080; text-decoration-color: #800080; font-weight: bold\">np.where</span><span style=\"font-weight: bold\">(</span>df.gender == <span style=\"color: #008000; text-decoration-color: #008000\">'M'</span>, <span style=\"color: #008080; text-decoration-color: #008080; font-weight: bold\">1</span>, <span style=\"color: #008080; text-decoration-color: #008080; font-weight: bold\">0</span><span style=\"font-weight: bold\">)</span>                <span style=\"color: #7f7f7f; text-decoration-color: #7f7f7f\">               </span>\n",
       "<span style=\"color: #7fbfbf; text-decoration-color: #7fbfbf\">                    </span>                                                                                <span style=\"color: #7f7f7f; text-decoration-color: #7f7f7f\">               </span>\n",
       "</pre>\n"
      ],
      "text/plain": [
       "\u001b[2;36m                   \u001b[0m\u001b[2;36m \u001b[0m\u001b[31mWARNING \u001b[0m \u001b[35m/var/folders/qn/pq9pzsn51vx7lzwtkc1r1hxr0000gn/T/ipykernel_34204/\u001b[0m\u001b[95m21878\u001b[0m \u001b]8;id=817524;file:///usr/local/Caskroom/miniforge/base/envs/kedro-environment/lib/python3.10/warnings.py\u001b\\\u001b[2mwarnings.py\u001b[0m\u001b]8;;\u001b\\\u001b[2m:\u001b[0m\u001b]8;id=40281;file:///usr/local/Caskroom/miniforge/base/envs/kedro-environment/lib/python3.10/warnings.py#109\u001b\\\u001b[2m109\u001b[0m\u001b]8;;\u001b\\\n",
       "\u001b[2;36m                    \u001b[0m         \u001b[95m45388.py\u001b[0m:\u001b[1;36m2\u001b[0m: SettingWithCopyWarning:                                    \u001b[2m               \u001b[0m\n",
       "\u001b[2;36m                    \u001b[0m         A value is trying to be set on a copy of a slice from a DataFrame.     \u001b[2m               \u001b[0m\n",
       "\u001b[2;36m                    \u001b[0m         Try using .loc\u001b[1m[\u001b[0mrow_indexer,col_indexer\u001b[1m]\u001b[0m = value instead                \u001b[2m               \u001b[0m\n",
       "\u001b[2;36m                    \u001b[0m                                                                                \u001b[2m               \u001b[0m\n",
       "\u001b[2;36m                    \u001b[0m         See the caveats in the documentation:                                  \u001b[2m               \u001b[0m\n",
       "\u001b[2;36m                    \u001b[0m         \u001b[4;94mhttps://pandas.pydata.org/pandas-docs/stable/user_guide/indexing.html#\u001b[0m \u001b[2m               \u001b[0m\n",
       "\u001b[2;36m                    \u001b[0m         \u001b[4;94mreturning-a-view-versus-a-copy\u001b[0m                                         \u001b[2m               \u001b[0m\n",
       "\u001b[2;36m                    \u001b[0m           model_data\u001b[1m[\u001b[0m\u001b[32m'is_M'\u001b[0m\u001b[1m]\u001b[0m = \u001b[1;35mnp.where\u001b[0m\u001b[1m(\u001b[0mdf.gender == \u001b[32m'M'\u001b[0m, \u001b[1;36m1\u001b[0m, \u001b[1;36m0\u001b[0m\u001b[1m)\u001b[0m                \u001b[2m               \u001b[0m\n",
       "\u001b[2;36m                    \u001b[0m                                                                                \u001b[2m               \u001b[0m\n"
      ]
     },
     "metadata": {},
     "output_type": "display_data"
    },
    {
     "data": {
      "text/html": [
       "<pre style=\"white-space:pre;overflow-x:auto;line-height:normal;font-family:Menlo,'DejaVu Sans Mono',consolas,'Courier New',monospace\"></pre>\n"
      ],
      "text/plain": []
     },
     "metadata": {},
     "output_type": "display_data"
    },
    {
     "data": {
      "text/html": [
       "<div>\n",
       "<style scoped>\n",
       "    .dataframe tbody tr th:only-of-type {\n",
       "        vertical-align: middle;\n",
       "    }\n",
       "\n",
       "    .dataframe tbody tr th {\n",
       "        vertical-align: top;\n",
       "    }\n",
       "\n",
       "    .dataframe thead th {\n",
       "        text-align: right;\n",
       "    }\n",
       "</style>\n",
       "<table border=\"1\" class=\"dataframe\">\n",
       "  <thead>\n",
       "    <tr style=\"text-align: right;\">\n",
       "      <th></th>\n",
       "      <th>total_credit_card_limit</th>\n",
       "      <th>current_available_limit</th>\n",
       "      <th>amount</th>\n",
       "      <th>total_minus_current</th>\n",
       "      <th>current_available_limit_ratio</th>\n",
       "      <th>amount_ratio_from_total</th>\n",
       "      <th>amount_ratio_from_current</th>\n",
       "      <th>is_F</th>\n",
       "      <th>is_M</th>\n",
       "    </tr>\n",
       "  </thead>\n",
       "  <tbody>\n",
       "    <tr>\n",
       "      <th>0</th>\n",
       "      <td>4700</td>\n",
       "      <td>5605</td>\n",
       "      <td>31.0</td>\n",
       "      <td>-905</td>\n",
       "      <td>1.192553</td>\n",
       "      <td>0.006596</td>\n",
       "      <td>0.005531</td>\n",
       "      <td>1</td>\n",
       "      <td>0</td>\n",
       "    </tr>\n",
       "    <tr>\n",
       "      <th>1</th>\n",
       "      <td>4700</td>\n",
       "      <td>5343</td>\n",
       "      <td>15001.0</td>\n",
       "      <td>-643</td>\n",
       "      <td>1.136809</td>\n",
       "      <td>3.191702</td>\n",
       "      <td>2.807599</td>\n",
       "      <td>1</td>\n",
       "      <td>0</td>\n",
       "    </tr>\n",
       "    <tr>\n",
       "      <th>2</th>\n",
       "      <td>4700</td>\n",
       "      <td>2829</td>\n",
       "      <td>50.0</td>\n",
       "      <td>1871</td>\n",
       "      <td>0.601915</td>\n",
       "      <td>0.010638</td>\n",
       "      <td>0.017674</td>\n",
       "      <td>1</td>\n",
       "      <td>0</td>\n",
       "    </tr>\n",
       "    <tr>\n",
       "      <th>3</th>\n",
       "      <td>4700</td>\n",
       "      <td>2547</td>\n",
       "      <td>544.0</td>\n",
       "      <td>2153</td>\n",
       "      <td>0.541915</td>\n",
       "      <td>0.115745</td>\n",
       "      <td>0.213585</td>\n",
       "      <td>1</td>\n",
       "      <td>0</td>\n",
       "    </tr>\n",
       "    <tr>\n",
       "      <th>4</th>\n",
       "      <td>4700</td>\n",
       "      <td>2515</td>\n",
       "      <td>3279.0</td>\n",
       "      <td>2185</td>\n",
       "      <td>0.535106</td>\n",
       "      <td>0.697660</td>\n",
       "      <td>1.303777</td>\n",
       "      <td>1</td>\n",
       "      <td>0</td>\n",
       "    </tr>\n",
       "  </tbody>\n",
       "</table>\n",
       "</div>"
      ],
      "text/plain": [
       "\n",
       "   total_credit_card_limit  current_available_limit   amount  \\\n",
       "\u001b[1;36m0\u001b[0m                     \u001b[1;36m4700\u001b[0m                     \u001b[1;36m5605\u001b[0m     \u001b[1;36m31.0\u001b[0m   \n",
       "\u001b[1;36m1\u001b[0m                     \u001b[1;36m4700\u001b[0m                     \u001b[1;36m5343\u001b[0m  \u001b[1;36m15001.0\u001b[0m   \n",
       "\u001b[1;36m2\u001b[0m                     \u001b[1;36m4700\u001b[0m                     \u001b[1;36m2829\u001b[0m     \u001b[1;36m50.0\u001b[0m   \n",
       "\u001b[1;36m3\u001b[0m                     \u001b[1;36m4700\u001b[0m                     \u001b[1;36m2547\u001b[0m    \u001b[1;36m544.0\u001b[0m   \n",
       "\u001b[1;36m4\u001b[0m                     \u001b[1;36m4700\u001b[0m                     \u001b[1;36m2515\u001b[0m   \u001b[1;36m3279.0\u001b[0m   \n",
       "\n",
       "   total_minus_current  current_available_limit_ratio  \\\n",
       "\u001b[1;36m0\u001b[0m                 \u001b[1;36m-905\u001b[0m                       \u001b[1;36m1.192553\u001b[0m   \n",
       "\u001b[1;36m1\u001b[0m                 \u001b[1;36m-643\u001b[0m                       \u001b[1;36m1.136809\u001b[0m   \n",
       "\u001b[1;36m2\u001b[0m                 \u001b[1;36m1871\u001b[0m                       \u001b[1;36m0.601915\u001b[0m   \n",
       "\u001b[1;36m3\u001b[0m                 \u001b[1;36m2153\u001b[0m                       \u001b[1;36m0.541915\u001b[0m   \n",
       "\u001b[1;36m4\u001b[0m                 \u001b[1;36m2185\u001b[0m                       \u001b[1;36m0.535106\u001b[0m   \n",
       "\n",
       "   amount_ratio_from_total  amount_ratio_from_current  is_F  is_M  \n",
       "\u001b[1;36m0\u001b[0m                 \u001b[1;36m0.006596\u001b[0m                   \u001b[1;36m0.005531\u001b[0m     \u001b[1;36m1\u001b[0m     \u001b[1;36m0\u001b[0m  \n",
       "\u001b[1;36m1\u001b[0m                 \u001b[1;36m3.191702\u001b[0m                   \u001b[1;36m2.807599\u001b[0m     \u001b[1;36m1\u001b[0m     \u001b[1;36m0\u001b[0m  \n",
       "\u001b[1;36m2\u001b[0m                 \u001b[1;36m0.010638\u001b[0m                   \u001b[1;36m0.017674\u001b[0m     \u001b[1;36m1\u001b[0m     \u001b[1;36m0\u001b[0m  \n",
       "\u001b[1;36m3\u001b[0m                 \u001b[1;36m0.115745\u001b[0m                   \u001b[1;36m0.213585\u001b[0m     \u001b[1;36m1\u001b[0m     \u001b[1;36m0\u001b[0m  \n",
       "\u001b[1;36m4\u001b[0m                 \u001b[1;36m0.697660\u001b[0m                   \u001b[1;36m1.303777\u001b[0m     \u001b[1;36m1\u001b[0m     \u001b[1;36m0\u001b[0m  "
      ]
     },
     "execution_count": 5,
     "metadata": {},
     "output_type": "execute_result"
    }
   ],
   "source": [
    "model_data['is_F'] = np.where(df.gender == 'F', 1, 0)\n",
    "model_data['is_M'] = np.where(df.gender == 'M', 1, 0)\n",
    "model_data.head()"
   ]
  },
  {
   "cell_type": "code",
   "execution_count": 6,
   "metadata": {},
   "outputs": [
    {
     "data": {
      "text/html": [
       "<pre style=\"white-space:pre;overflow-x:auto;line-height:normal;font-family:Menlo,'DejaVu Sans Mono',consolas,'Courier New',monospace\"><span style=\"color: #7fbfbf; text-decoration-color: #7fbfbf\">                    </span><span style=\"color: #800000; text-decoration-color: #800000\">WARNING </span> <span style=\"color: #800080; text-decoration-color: #800080\">/var/folders/qn/pq9pzsn51vx7lzwtkc1r1hxr0000gn/T/ipykernel_34204/</span><span style=\"color: #ff00ff; text-decoration-color: #ff00ff\">12606</span> <a href=\"file:///usr/local/Caskroom/miniforge/base/envs/kedro-environment/lib/python3.10/warnings.py\" target=\"_blank\"><span style=\"color: #7f7f7f; text-decoration-color: #7f7f7f\">warnings.py</span></a><span style=\"color: #7f7f7f; text-decoration-color: #7f7f7f\">:</span><a href=\"file:///usr/local/Caskroom/miniforge/base/envs/kedro-environment/lib/python3.10/warnings.py#109\" target=\"_blank\"><span style=\"color: #7f7f7f; text-decoration-color: #7f7f7f\">109</span></a>\n",
       "<span style=\"color: #7fbfbf; text-decoration-color: #7fbfbf\">                    </span>         <span style=\"color: #ff00ff; text-decoration-color: #ff00ff\">68859.py</span>:<span style=\"color: #008080; text-decoration-color: #008080; font-weight: bold\">2</span>: SettingWithCopyWarning:                                    <span style=\"color: #7f7f7f; text-decoration-color: #7f7f7f\">               </span>\n",
       "<span style=\"color: #7fbfbf; text-decoration-color: #7fbfbf\">                    </span>         A value is trying to be set on a copy of a slice from a DataFrame.     <span style=\"color: #7f7f7f; text-decoration-color: #7f7f7f\">               </span>\n",
       "<span style=\"color: #7fbfbf; text-decoration-color: #7fbfbf\">                    </span>         Try using .loc<span style=\"font-weight: bold\">[</span>row_indexer,col_indexer<span style=\"font-weight: bold\">]</span> = value instead                <span style=\"color: #7f7f7f; text-decoration-color: #7f7f7f\">               </span>\n",
       "<span style=\"color: #7fbfbf; text-decoration-color: #7fbfbf\">                    </span>                                                                                <span style=\"color: #7f7f7f; text-decoration-color: #7f7f7f\">               </span>\n",
       "<span style=\"color: #7fbfbf; text-decoration-color: #7fbfbf\">                    </span>         See the caveats in the documentation:                                  <span style=\"color: #7f7f7f; text-decoration-color: #7f7f7f\">               </span>\n",
       "<span style=\"color: #7fbfbf; text-decoration-color: #7fbfbf\">                    </span>         <span style=\"color: #0000ff; text-decoration-color: #0000ff; text-decoration: underline\">https://pandas.pydata.org/pandas-docs/stable/user_guide/indexing.html#</span> <span style=\"color: #7f7f7f; text-decoration-color: #7f7f7f\">               </span>\n",
       "<span style=\"color: #7fbfbf; text-decoration-color: #7fbfbf\">                    </span>         <span style=\"color: #0000ff; text-decoration-color: #0000ff; text-decoration: underline\">returning-a-view-versus-a-copy</span>                                         <span style=\"color: #7f7f7f; text-decoration-color: #7f7f7f\">               </span>\n",
       "<span style=\"color: #7fbfbf; text-decoration-color: #7fbfbf\">                    </span>           model_data<span style=\"font-weight: bold\">[</span><span style=\"color: #008000; text-decoration-color: #008000\">'is_the_same_city'</span><span style=\"font-weight: bold\">]</span> = <span style=\"color: #800080; text-decoration-color: #800080; font-weight: bold\">df.apply</span><span style=\"font-weight: bold\">(</span>lambda row:                <span style=\"color: #7f7f7f; text-decoration-color: #7f7f7f\">               </span>\n",
       "<span style=\"color: #7fbfbf; text-decoration-color: #7fbfbf\">                    </span>         <span style=\"color: #800080; text-decoration-color: #800080; font-weight: bold\">fuzz.ratio</span><span style=\"font-weight: bold\">(</span>row.city, row.purchase_city<span style=\"font-weight: bold\">)</span><span style=\"color: #800080; text-decoration-color: #800080\">/</span><span style=\"color: #ff00ff; text-decoration-color: #ff00ff\">100</span>, <span style=\"color: #808000; text-decoration-color: #808000\">axis</span>=<span style=\"color: #008080; text-decoration-color: #008080; font-weight: bold\">1</span><span style=\"font-weight: bold\">)</span>                   <span style=\"color: #7f7f7f; text-decoration-color: #7f7f7f\">               </span>\n",
       "<span style=\"color: #7fbfbf; text-decoration-color: #7fbfbf\">                    </span>                                                                                <span style=\"color: #7f7f7f; text-decoration-color: #7f7f7f\">               </span>\n",
       "</pre>\n"
      ],
      "text/plain": [
       "\u001b[2;36m                   \u001b[0m\u001b[2;36m \u001b[0m\u001b[31mWARNING \u001b[0m \u001b[35m/var/folders/qn/pq9pzsn51vx7lzwtkc1r1hxr0000gn/T/ipykernel_34204/\u001b[0m\u001b[95m12606\u001b[0m \u001b]8;id=635699;file:///usr/local/Caskroom/miniforge/base/envs/kedro-environment/lib/python3.10/warnings.py\u001b\\\u001b[2mwarnings.py\u001b[0m\u001b]8;;\u001b\\\u001b[2m:\u001b[0m\u001b]8;id=639465;file:///usr/local/Caskroom/miniforge/base/envs/kedro-environment/lib/python3.10/warnings.py#109\u001b\\\u001b[2m109\u001b[0m\u001b]8;;\u001b\\\n",
       "\u001b[2;36m                    \u001b[0m         \u001b[95m68859.py\u001b[0m:\u001b[1;36m2\u001b[0m: SettingWithCopyWarning:                                    \u001b[2m               \u001b[0m\n",
       "\u001b[2;36m                    \u001b[0m         A value is trying to be set on a copy of a slice from a DataFrame.     \u001b[2m               \u001b[0m\n",
       "\u001b[2;36m                    \u001b[0m         Try using .loc\u001b[1m[\u001b[0mrow_indexer,col_indexer\u001b[1m]\u001b[0m = value instead                \u001b[2m               \u001b[0m\n",
       "\u001b[2;36m                    \u001b[0m                                                                                \u001b[2m               \u001b[0m\n",
       "\u001b[2;36m                    \u001b[0m         See the caveats in the documentation:                                  \u001b[2m               \u001b[0m\n",
       "\u001b[2;36m                    \u001b[0m         \u001b[4;94mhttps://pandas.pydata.org/pandas-docs/stable/user_guide/indexing.html#\u001b[0m \u001b[2m               \u001b[0m\n",
       "\u001b[2;36m                    \u001b[0m         \u001b[4;94mreturning-a-view-versus-a-copy\u001b[0m                                         \u001b[2m               \u001b[0m\n",
       "\u001b[2;36m                    \u001b[0m           model_data\u001b[1m[\u001b[0m\u001b[32m'is_the_same_city'\u001b[0m\u001b[1m]\u001b[0m = \u001b[1;35mdf.apply\u001b[0m\u001b[1m(\u001b[0mlambda row:                \u001b[2m               \u001b[0m\n",
       "\u001b[2;36m                    \u001b[0m         \u001b[1;35mfuzz.ratio\u001b[0m\u001b[1m(\u001b[0mrow.city, row.purchase_city\u001b[1m)\u001b[0m\u001b[35m/\u001b[0m\u001b[95m100\u001b[0m, \u001b[33maxis\u001b[0m=\u001b[1;36m1\u001b[0m\u001b[1m)\u001b[0m                   \u001b[2m               \u001b[0m\n",
       "\u001b[2;36m                    \u001b[0m                                                                                \u001b[2m               \u001b[0m\n"
      ]
     },
     "metadata": {},
     "output_type": "display_data"
    },
    {
     "data": {
      "text/html": [
       "<pre style=\"white-space:pre;overflow-x:auto;line-height:normal;font-family:Menlo,'DejaVu Sans Mono',consolas,'Courier New',monospace\"><span style=\"color: #7fbfbf; text-decoration-color: #7fbfbf\">[04/02/24 21:22:18] </span><span style=\"color: #800000; text-decoration-color: #800000\">WARNING </span> <span style=\"color: #800080; text-decoration-color: #800080\">/var/folders/qn/pq9pzsn51vx7lzwtkc1r1hxr0000gn/T/ipykernel_34204/</span><span style=\"color: #ff00ff; text-decoration-color: #ff00ff\">12606</span> <a href=\"file:///usr/local/Caskroom/miniforge/base/envs/kedro-environment/lib/python3.10/warnings.py\" target=\"_blank\"><span style=\"color: #7f7f7f; text-decoration-color: #7f7f7f\">warnings.py</span></a><span style=\"color: #7f7f7f; text-decoration-color: #7f7f7f\">:</span><a href=\"file:///usr/local/Caskroom/miniforge/base/envs/kedro-environment/lib/python3.10/warnings.py#109\" target=\"_blank\"><span style=\"color: #7f7f7f; text-decoration-color: #7f7f7f\">109</span></a>\n",
       "<span style=\"color: #7fbfbf; text-decoration-color: #7fbfbf\">                    </span>         <span style=\"color: #ff00ff; text-decoration-color: #ff00ff\">68859.py</span>:<span style=\"color: #008080; text-decoration-color: #008080; font-weight: bold\">3</span>: SettingWithCopyWarning:                                    <span style=\"color: #7f7f7f; text-decoration-color: #7f7f7f\">               </span>\n",
       "<span style=\"color: #7fbfbf; text-decoration-color: #7fbfbf\">                    </span>         A value is trying to be set on a copy of a slice from a DataFrame.     <span style=\"color: #7f7f7f; text-decoration-color: #7f7f7f\">               </span>\n",
       "<span style=\"color: #7fbfbf; text-decoration-color: #7fbfbf\">                    </span>         Try using .loc<span style=\"font-weight: bold\">[</span>row_indexer,col_indexer<span style=\"font-weight: bold\">]</span> = value instead                <span style=\"color: #7f7f7f; text-decoration-color: #7f7f7f\">               </span>\n",
       "<span style=\"color: #7fbfbf; text-decoration-color: #7fbfbf\">                    </span>                                                                                <span style=\"color: #7f7f7f; text-decoration-color: #7f7f7f\">               </span>\n",
       "<span style=\"color: #7fbfbf; text-decoration-color: #7fbfbf\">                    </span>         See the caveats in the documentation:                                  <span style=\"color: #7f7f7f; text-decoration-color: #7f7f7f\">               </span>\n",
       "<span style=\"color: #7fbfbf; text-decoration-color: #7fbfbf\">                    </span>         <span style=\"color: #0000ff; text-decoration-color: #0000ff; text-decoration: underline\">https://pandas.pydata.org/pandas-docs/stable/user_guide/indexing.html#</span> <span style=\"color: #7f7f7f; text-decoration-color: #7f7f7f\">               </span>\n",
       "<span style=\"color: #7fbfbf; text-decoration-color: #7fbfbf\">                    </span>         <span style=\"color: #0000ff; text-decoration-color: #0000ff; text-decoration: underline\">returning-a-view-versus-a-copy</span>                                         <span style=\"color: #7f7f7f; text-decoration-color: #7f7f7f\">               </span>\n",
       "<span style=\"color: #7fbfbf; text-decoration-color: #7fbfbf\">                    </span>           model_data<span style=\"font-weight: bold\">[</span><span style=\"color: #008000; text-decoration-color: #008000\">'is_the_state'</span><span style=\"font-weight: bold\">]</span> = <span style=\"color: #800080; text-decoration-color: #800080; font-weight: bold\">df.apply</span><span style=\"font-weight: bold\">(</span>lambda row:                    <span style=\"color: #7f7f7f; text-decoration-color: #7f7f7f\">               </span>\n",
       "<span style=\"color: #7fbfbf; text-decoration-color: #7fbfbf\">                    </span>         <span style=\"color: #800080; text-decoration-color: #800080; font-weight: bold\">fuzz.ratio</span><span style=\"font-weight: bold\">(</span>row.state, row.geobr_purchase_state<span style=\"font-weight: bold\">)</span><span style=\"color: #800080; text-decoration-color: #800080\">/</span><span style=\"color: #ff00ff; text-decoration-color: #ff00ff\">100</span>, <span style=\"color: #808000; text-decoration-color: #808000\">axis</span>=<span style=\"color: #008080; text-decoration-color: #008080; font-weight: bold\">1</span><span style=\"font-weight: bold\">)</span>           <span style=\"color: #7f7f7f; text-decoration-color: #7f7f7f\">               </span>\n",
       "<span style=\"color: #7fbfbf; text-decoration-color: #7fbfbf\">                    </span>                                                                                <span style=\"color: #7f7f7f; text-decoration-color: #7f7f7f\">               </span>\n",
       "</pre>\n"
      ],
      "text/plain": [
       "\u001b[2;36m[04/02/24 21:22:18]\u001b[0m\u001b[2;36m \u001b[0m\u001b[31mWARNING \u001b[0m \u001b[35m/var/folders/qn/pq9pzsn51vx7lzwtkc1r1hxr0000gn/T/ipykernel_34204/\u001b[0m\u001b[95m12606\u001b[0m \u001b]8;id=379717;file:///usr/local/Caskroom/miniforge/base/envs/kedro-environment/lib/python3.10/warnings.py\u001b\\\u001b[2mwarnings.py\u001b[0m\u001b]8;;\u001b\\\u001b[2m:\u001b[0m\u001b]8;id=542815;file:///usr/local/Caskroom/miniforge/base/envs/kedro-environment/lib/python3.10/warnings.py#109\u001b\\\u001b[2m109\u001b[0m\u001b]8;;\u001b\\\n",
       "\u001b[2;36m                    \u001b[0m         \u001b[95m68859.py\u001b[0m:\u001b[1;36m3\u001b[0m: SettingWithCopyWarning:                                    \u001b[2m               \u001b[0m\n",
       "\u001b[2;36m                    \u001b[0m         A value is trying to be set on a copy of a slice from a DataFrame.     \u001b[2m               \u001b[0m\n",
       "\u001b[2;36m                    \u001b[0m         Try using .loc\u001b[1m[\u001b[0mrow_indexer,col_indexer\u001b[1m]\u001b[0m = value instead                \u001b[2m               \u001b[0m\n",
       "\u001b[2;36m                    \u001b[0m                                                                                \u001b[2m               \u001b[0m\n",
       "\u001b[2;36m                    \u001b[0m         See the caveats in the documentation:                                  \u001b[2m               \u001b[0m\n",
       "\u001b[2;36m                    \u001b[0m         \u001b[4;94mhttps://pandas.pydata.org/pandas-docs/stable/user_guide/indexing.html#\u001b[0m \u001b[2m               \u001b[0m\n",
       "\u001b[2;36m                    \u001b[0m         \u001b[4;94mreturning-a-view-versus-a-copy\u001b[0m                                         \u001b[2m               \u001b[0m\n",
       "\u001b[2;36m                    \u001b[0m           model_data\u001b[1m[\u001b[0m\u001b[32m'is_the_state'\u001b[0m\u001b[1m]\u001b[0m = \u001b[1;35mdf.apply\u001b[0m\u001b[1m(\u001b[0mlambda row:                    \u001b[2m               \u001b[0m\n",
       "\u001b[2;36m                    \u001b[0m         \u001b[1;35mfuzz.ratio\u001b[0m\u001b[1m(\u001b[0mrow.state, row.geobr_purchase_state\u001b[1m)\u001b[0m\u001b[35m/\u001b[0m\u001b[95m100\u001b[0m, \u001b[33maxis\u001b[0m=\u001b[1;36m1\u001b[0m\u001b[1m)\u001b[0m           \u001b[2m               \u001b[0m\n",
       "\u001b[2;36m                    \u001b[0m                                                                                \u001b[2m               \u001b[0m\n"
      ]
     },
     "metadata": {},
     "output_type": "display_data"
    },
    {
     "data": {
      "text/html": [
       "<pre style=\"white-space:pre;overflow-x:auto;line-height:normal;font-family:Menlo,'DejaVu Sans Mono',consolas,'Courier New',monospace\"><span style=\"color: #7fbfbf; text-decoration-color: #7fbfbf\">                    </span><span style=\"color: #800000; text-decoration-color: #800000\">WARNING </span> <span style=\"color: #800080; text-decoration-color: #800080\">/var/folders/qn/pq9pzsn51vx7lzwtkc1r1hxr0000gn/T/ipykernel_34204/</span><span style=\"color: #ff00ff; text-decoration-color: #ff00ff\">12606</span> <a href=\"file:///usr/local/Caskroom/miniforge/base/envs/kedro-environment/lib/python3.10/warnings.py\" target=\"_blank\"><span style=\"color: #7f7f7f; text-decoration-color: #7f7f7f\">warnings.py</span></a><span style=\"color: #7f7f7f; text-decoration-color: #7f7f7f\">:</span><a href=\"file:///usr/local/Caskroom/miniforge/base/envs/kedro-environment/lib/python3.10/warnings.py#109\" target=\"_blank\"><span style=\"color: #7f7f7f; text-decoration-color: #7f7f7f\">109</span></a>\n",
       "<span style=\"color: #7fbfbf; text-decoration-color: #7fbfbf\">                    </span>         <span style=\"color: #ff00ff; text-decoration-color: #ff00ff\">68859.py</span>:<span style=\"color: #008080; text-decoration-color: #008080; font-weight: bold\">4</span>: SettingWithCopyWarning:                                    <span style=\"color: #7f7f7f; text-decoration-color: #7f7f7f\">               </span>\n",
       "<span style=\"color: #7fbfbf; text-decoration-color: #7fbfbf\">                    </span>         A value is trying to be set on a copy of a slice from a DataFrame.     <span style=\"color: #7f7f7f; text-decoration-color: #7f7f7f\">               </span>\n",
       "<span style=\"color: #7fbfbf; text-decoration-color: #7fbfbf\">                    </span>         Try using .loc<span style=\"font-weight: bold\">[</span>row_indexer,col_indexer<span style=\"font-weight: bold\">]</span> = value instead                <span style=\"color: #7f7f7f; text-decoration-color: #7f7f7f\">               </span>\n",
       "<span style=\"color: #7fbfbf; text-decoration-color: #7fbfbf\">                    </span>                                                                                <span style=\"color: #7f7f7f; text-decoration-color: #7f7f7f\">               </span>\n",
       "<span style=\"color: #7fbfbf; text-decoration-color: #7fbfbf\">                    </span>         See the caveats in the documentation:                                  <span style=\"color: #7f7f7f; text-decoration-color: #7f7f7f\">               </span>\n",
       "<span style=\"color: #7fbfbf; text-decoration-color: #7fbfbf\">                    </span>         <span style=\"color: #0000ff; text-decoration-color: #0000ff; text-decoration: underline\">https://pandas.pydata.org/pandas-docs/stable/user_guide/indexing.html#</span> <span style=\"color: #7f7f7f; text-decoration-color: #7f7f7f\">               </span>\n",
       "<span style=\"color: #7fbfbf; text-decoration-color: #7fbfbf\">                    </span>         <span style=\"color: #0000ff; text-decoration-color: #0000ff; text-decoration: underline\">returning-a-view-versus-a-copy</span>                                         <span style=\"color: #7f7f7f; text-decoration-color: #7f7f7f\">               </span>\n",
       "<span style=\"color: #7fbfbf; text-decoration-color: #7fbfbf\">                    </span>           model_data<span style=\"font-weight: bold\">[</span><span style=\"color: #008000; text-decoration-color: #008000\">'is_the_state_conf'</span><span style=\"font-weight: bold\">]</span> = model_data<span style=\"font-weight: bold\">[</span><span style=\"color: #008000; text-decoration-color: #008000\">'is_the_state'</span><span style=\"font-weight: bold\">]</span> *       <span style=\"color: #7f7f7f; text-decoration-color: #7f7f7f\">               </span>\n",
       "<span style=\"color: #7fbfbf; text-decoration-color: #7fbfbf\">                    </span>         df<span style=\"font-weight: bold\">[</span><span style=\"color: #008000; text-decoration-color: #008000\">'geobr_purchase_city_conf'</span><span style=\"font-weight: bold\">]</span>                                         <span style=\"color: #7f7f7f; text-decoration-color: #7f7f7f\">               </span>\n",
       "<span style=\"color: #7fbfbf; text-decoration-color: #7fbfbf\">                    </span>                                                                                <span style=\"color: #7f7f7f; text-decoration-color: #7f7f7f\">               </span>\n",
       "</pre>\n"
      ],
      "text/plain": [
       "\u001b[2;36m                   \u001b[0m\u001b[2;36m \u001b[0m\u001b[31mWARNING \u001b[0m \u001b[35m/var/folders/qn/pq9pzsn51vx7lzwtkc1r1hxr0000gn/T/ipykernel_34204/\u001b[0m\u001b[95m12606\u001b[0m \u001b]8;id=653234;file:///usr/local/Caskroom/miniforge/base/envs/kedro-environment/lib/python3.10/warnings.py\u001b\\\u001b[2mwarnings.py\u001b[0m\u001b]8;;\u001b\\\u001b[2m:\u001b[0m\u001b]8;id=27128;file:///usr/local/Caskroom/miniforge/base/envs/kedro-environment/lib/python3.10/warnings.py#109\u001b\\\u001b[2m109\u001b[0m\u001b]8;;\u001b\\\n",
       "\u001b[2;36m                    \u001b[0m         \u001b[95m68859.py\u001b[0m:\u001b[1;36m4\u001b[0m: SettingWithCopyWarning:                                    \u001b[2m               \u001b[0m\n",
       "\u001b[2;36m                    \u001b[0m         A value is trying to be set on a copy of a slice from a DataFrame.     \u001b[2m               \u001b[0m\n",
       "\u001b[2;36m                    \u001b[0m         Try using .loc\u001b[1m[\u001b[0mrow_indexer,col_indexer\u001b[1m]\u001b[0m = value instead                \u001b[2m               \u001b[0m\n",
       "\u001b[2;36m                    \u001b[0m                                                                                \u001b[2m               \u001b[0m\n",
       "\u001b[2;36m                    \u001b[0m         See the caveats in the documentation:                                  \u001b[2m               \u001b[0m\n",
       "\u001b[2;36m                    \u001b[0m         \u001b[4;94mhttps://pandas.pydata.org/pandas-docs/stable/user_guide/indexing.html#\u001b[0m \u001b[2m               \u001b[0m\n",
       "\u001b[2;36m                    \u001b[0m         \u001b[4;94mreturning-a-view-versus-a-copy\u001b[0m                                         \u001b[2m               \u001b[0m\n",
       "\u001b[2;36m                    \u001b[0m           model_data\u001b[1m[\u001b[0m\u001b[32m'is_the_state_conf'\u001b[0m\u001b[1m]\u001b[0m = model_data\u001b[1m[\u001b[0m\u001b[32m'is_the_state'\u001b[0m\u001b[1m]\u001b[0m *       \u001b[2m               \u001b[0m\n",
       "\u001b[2;36m                    \u001b[0m         df\u001b[1m[\u001b[0m\u001b[32m'geobr_purchase_city_conf'\u001b[0m\u001b[1m]\u001b[0m                                         \u001b[2m               \u001b[0m\n",
       "\u001b[2;36m                    \u001b[0m                                                                                \u001b[2m               \u001b[0m\n"
      ]
     },
     "metadata": {},
     "output_type": "display_data"
    },
    {
     "data": {
      "text/html": [
       "<pre style=\"white-space:pre;overflow-x:auto;line-height:normal;font-family:Menlo,'DejaVu Sans Mono',consolas,'Courier New',monospace\"></pre>\n"
      ],
      "text/plain": []
     },
     "metadata": {},
     "output_type": "display_data"
    },
    {
     "data": {
      "text/html": [
       "<div>\n",
       "<style scoped>\n",
       "    .dataframe tbody tr th:only-of-type {\n",
       "        vertical-align: middle;\n",
       "    }\n",
       "\n",
       "    .dataframe tbody tr th {\n",
       "        vertical-align: top;\n",
       "    }\n",
       "\n",
       "    .dataframe thead th {\n",
       "        text-align: right;\n",
       "    }\n",
       "</style>\n",
       "<table border=\"1\" class=\"dataframe\">\n",
       "  <thead>\n",
       "    <tr style=\"text-align: right;\">\n",
       "      <th></th>\n",
       "      <th>total_credit_card_limit</th>\n",
       "      <th>current_available_limit</th>\n",
       "      <th>amount</th>\n",
       "      <th>total_minus_current</th>\n",
       "      <th>current_available_limit_ratio</th>\n",
       "      <th>amount_ratio_from_total</th>\n",
       "      <th>amount_ratio_from_current</th>\n",
       "      <th>is_F</th>\n",
       "      <th>is_M</th>\n",
       "      <th>is_the_same_city</th>\n",
       "      <th>is_the_state</th>\n",
       "      <th>is_the_state_conf</th>\n",
       "    </tr>\n",
       "  </thead>\n",
       "  <tbody>\n",
       "    <tr>\n",
       "      <th>0</th>\n",
       "      <td>4700</td>\n",
       "      <td>5605</td>\n",
       "      <td>31.0</td>\n",
       "      <td>-905</td>\n",
       "      <td>1.192553</td>\n",
       "      <td>0.006596</td>\n",
       "      <td>0.005531</td>\n",
       "      <td>1</td>\n",
       "      <td>0</td>\n",
       "      <td>0.48</td>\n",
       "      <td>1.0</td>\n",
       "      <td>0.94</td>\n",
       "    </tr>\n",
       "    <tr>\n",
       "      <th>1</th>\n",
       "      <td>4700</td>\n",
       "      <td>5343</td>\n",
       "      <td>15001.0</td>\n",
       "      <td>-643</td>\n",
       "      <td>1.136809</td>\n",
       "      <td>3.191702</td>\n",
       "      <td>2.807599</td>\n",
       "      <td>1</td>\n",
       "      <td>0</td>\n",
       "      <td>0.23</td>\n",
       "      <td>1.0</td>\n",
       "      <td>1.00</td>\n",
       "    </tr>\n",
       "    <tr>\n",
       "      <th>2</th>\n",
       "      <td>4700</td>\n",
       "      <td>2829</td>\n",
       "      <td>50.0</td>\n",
       "      <td>1871</td>\n",
       "      <td>0.601915</td>\n",
       "      <td>0.010638</td>\n",
       "      <td>0.017674</td>\n",
       "      <td>1</td>\n",
       "      <td>0</td>\n",
       "      <td>0.48</td>\n",
       "      <td>1.0</td>\n",
       "      <td>0.94</td>\n",
       "    </tr>\n",
       "    <tr>\n",
       "      <th>3</th>\n",
       "      <td>4700</td>\n",
       "      <td>2547</td>\n",
       "      <td>544.0</td>\n",
       "      <td>2153</td>\n",
       "      <td>0.541915</td>\n",
       "      <td>0.115745</td>\n",
       "      <td>0.213585</td>\n",
       "      <td>1</td>\n",
       "      <td>0</td>\n",
       "      <td>0.23</td>\n",
       "      <td>1.0</td>\n",
       "      <td>1.00</td>\n",
       "    </tr>\n",
       "    <tr>\n",
       "      <th>4</th>\n",
       "      <td>4700</td>\n",
       "      <td>2515</td>\n",
       "      <td>3279.0</td>\n",
       "      <td>2185</td>\n",
       "      <td>0.535106</td>\n",
       "      <td>0.697660</td>\n",
       "      <td>1.303777</td>\n",
       "      <td>1</td>\n",
       "      <td>0</td>\n",
       "      <td>0.23</td>\n",
       "      <td>1.0</td>\n",
       "      <td>1.00</td>\n",
       "    </tr>\n",
       "  </tbody>\n",
       "</table>\n",
       "</div>"
      ],
      "text/plain": [
       "\n",
       "   total_credit_card_limit  current_available_limit   amount  \\\n",
       "\u001b[1;36m0\u001b[0m                     \u001b[1;36m4700\u001b[0m                     \u001b[1;36m5605\u001b[0m     \u001b[1;36m31.0\u001b[0m   \n",
       "\u001b[1;36m1\u001b[0m                     \u001b[1;36m4700\u001b[0m                     \u001b[1;36m5343\u001b[0m  \u001b[1;36m15001.0\u001b[0m   \n",
       "\u001b[1;36m2\u001b[0m                     \u001b[1;36m4700\u001b[0m                     \u001b[1;36m2829\u001b[0m     \u001b[1;36m50.0\u001b[0m   \n",
       "\u001b[1;36m3\u001b[0m                     \u001b[1;36m4700\u001b[0m                     \u001b[1;36m2547\u001b[0m    \u001b[1;36m544.0\u001b[0m   \n",
       "\u001b[1;36m4\u001b[0m                     \u001b[1;36m4700\u001b[0m                     \u001b[1;36m2515\u001b[0m   \u001b[1;36m3279.0\u001b[0m   \n",
       "\n",
       "   total_minus_current  current_available_limit_ratio  \\\n",
       "\u001b[1;36m0\u001b[0m                 \u001b[1;36m-905\u001b[0m                       \u001b[1;36m1.192553\u001b[0m   \n",
       "\u001b[1;36m1\u001b[0m                 \u001b[1;36m-643\u001b[0m                       \u001b[1;36m1.136809\u001b[0m   \n",
       "\u001b[1;36m2\u001b[0m                 \u001b[1;36m1871\u001b[0m                       \u001b[1;36m0.601915\u001b[0m   \n",
       "\u001b[1;36m3\u001b[0m                 \u001b[1;36m2153\u001b[0m                       \u001b[1;36m0.541915\u001b[0m   \n",
       "\u001b[1;36m4\u001b[0m                 \u001b[1;36m2185\u001b[0m                       \u001b[1;36m0.535106\u001b[0m   \n",
       "\n",
       "   amount_ratio_from_total  amount_ratio_from_current  is_F  is_M  \\\n",
       "\u001b[1;36m0\u001b[0m                 \u001b[1;36m0.006596\u001b[0m                   \u001b[1;36m0.005531\u001b[0m     \u001b[1;36m1\u001b[0m     \u001b[1;36m0\u001b[0m   \n",
       "\u001b[1;36m1\u001b[0m                 \u001b[1;36m3.191702\u001b[0m                   \u001b[1;36m2.807599\u001b[0m     \u001b[1;36m1\u001b[0m     \u001b[1;36m0\u001b[0m   \n",
       "\u001b[1;36m2\u001b[0m                 \u001b[1;36m0.010638\u001b[0m                   \u001b[1;36m0.017674\u001b[0m     \u001b[1;36m1\u001b[0m     \u001b[1;36m0\u001b[0m   \n",
       "\u001b[1;36m3\u001b[0m                 \u001b[1;36m0.115745\u001b[0m                   \u001b[1;36m0.213585\u001b[0m     \u001b[1;36m1\u001b[0m     \u001b[1;36m0\u001b[0m   \n",
       "\u001b[1;36m4\u001b[0m                 \u001b[1;36m0.697660\u001b[0m                   \u001b[1;36m1.303777\u001b[0m     \u001b[1;36m1\u001b[0m     \u001b[1;36m0\u001b[0m   \n",
       "\n",
       "   is_the_same_city  is_the_state  is_the_state_conf  \n",
       "\u001b[1;36m0\u001b[0m              \u001b[1;36m0.48\u001b[0m           \u001b[1;36m1.0\u001b[0m               \u001b[1;36m0.94\u001b[0m  \n",
       "\u001b[1;36m1\u001b[0m              \u001b[1;36m0.23\u001b[0m           \u001b[1;36m1.0\u001b[0m               \u001b[1;36m1.00\u001b[0m  \n",
       "\u001b[1;36m2\u001b[0m              \u001b[1;36m0.48\u001b[0m           \u001b[1;36m1.0\u001b[0m               \u001b[1;36m0.94\u001b[0m  \n",
       "\u001b[1;36m3\u001b[0m              \u001b[1;36m0.23\u001b[0m           \u001b[1;36m1.0\u001b[0m               \u001b[1;36m1.00\u001b[0m  \n",
       "\u001b[1;36m4\u001b[0m              \u001b[1;36m0.23\u001b[0m           \u001b[1;36m1.0\u001b[0m               \u001b[1;36m1.00\u001b[0m  "
      ]
     },
     "execution_count": 6,
     "metadata": {},
     "output_type": "execute_result"
    }
   ],
   "source": [
    "# model_data['is_the_same_city'] = df[['city', 'purchase_city']].apply(lambda city, purchase_city: fuzz.ratio(city, purchase_city))\n",
    "model_data['is_the_same_city'] = df.apply(lambda row: fuzz.ratio(row.city, row.purchase_city)/100, axis=1)\n",
    "model_data['is_the_state'] = df.apply(lambda row: fuzz.ratio(row.state, row.geobr_purchase_state)/100, axis=1)\n",
    "model_data['is_the_state_conf'] = model_data['is_the_state'] * df['geobr_purchase_city_conf']\n",
    "model_data.head()"
   ]
  },
  {
   "cell_type": "markdown",
   "metadata": {},
   "source": [
    "# Labels\n",
    "\n",
    "Due to the significant imbalance in label counts, I opted for a more meaningful grouping approach: grouping by purpose. Here's the breakdown:\n",
    "\n",
    "- Necessities: SERVI‚O, SUPERMERCADOS, FARMACIAS, POSTO DE GAS, M.O.T.O.\n",
    "- Discretionary: RESTAURANTE, VAREJO, VESTUARIO, ARTIGOS ELETRO, MOVEIS E DECOR, AUTO PE‚AS, JOALHERIA\n",
    "- Travel: CIA AEREAS, HOTEIS, AGENCIA DE TUR\""
   ]
  },
  {
   "cell_type": "code",
   "execution_count": 7,
   "metadata": {},
   "outputs": [
    {
     "data": {
      "text/html": [
       "<pre style=\"white-space:pre;overflow-x:auto;line-height:normal;font-family:Menlo,'DejaVu Sans Mono',consolas,'Courier New',monospace\"></pre>\n"
      ],
      "text/plain": []
     },
     "metadata": {},
     "output_type": "display_data"
    },
    {
     "data": {
      "text/plain": [
       "\n",
       "category_expense\n",
       "SERVI‚O           \u001b[1;36m1769\u001b[0m\n",
       "RESTAURANTE        \u001b[1;36m871\u001b[0m\n",
       "VAREJO             \u001b[1;36m599\u001b[0m\n",
       "SUPERMERCADOS      \u001b[1;36m468\u001b[0m\n",
       "VESTUARIO          \u001b[1;36m236\u001b[0m\n",
       "FARMACIAS          \u001b[1;36m222\u001b[0m\n",
       "POSTO DE GAS       \u001b[1;36m199\u001b[0m\n",
       "M.O.T.O.           \u001b[1;36m177\u001b[0m\n",
       "ARTIGOS ELETRO     \u001b[1;36m122\u001b[0m\n",
       "LOJA DE DEPART      \u001b[1;36m80\u001b[0m\n",
       "CIA AEREAS          \u001b[1;36m36\u001b[0m\n",
       "HOTEIS              \u001b[1;36m24\u001b[0m\n",
       "HOSP E CLINICA      \u001b[1;36m18\u001b[0m\n",
       "SEM RAMO            \u001b[1;36m16\u001b[0m\n",
       "MOVEIS E DECOR      \u001b[1;36m15\u001b[0m\n",
       "MAT CONSTRUCAO      \u001b[1;36m15\u001b[0m\n",
       "AUTO PE‚AS          \u001b[1;36m14\u001b[0m\n",
       "AGENCIA DE TUR      \u001b[1;36m12\u001b[0m\n",
       "JOALHERIA            \u001b[1;36m6\u001b[0m\n",
       "ALUG DE CARROS       \u001b[1;36m1\u001b[0m\n",
       "Name: count, dtype: int64"
      ]
     },
     "execution_count": 7,
     "metadata": {},
     "output_type": "execute_result"
    }
   ],
   "source": [
    "df['category_expense'].value_counts()"
   ]
  },
  {
   "cell_type": "code",
   "execution_count": 8,
   "metadata": {},
   "outputs": [
    {
     "data": {
      "text/html": [
       "<pre style=\"white-space:pre;overflow-x:auto;line-height:normal;font-family:Menlo,'DejaVu Sans Mono',consolas,'Courier New',monospace\"><span style=\"color: #7fbfbf; text-decoration-color: #7fbfbf\">                    </span><span style=\"color: #000080; text-decoration-color: #000080\">INFO    </span> Resolved project path as:                                              <a href=\"file:///usr/local/Caskroom/miniforge/base/envs/kedro-environment/lib/python3.10/site-packages/kedro/ipython/__init__.py\" target=\"_blank\"><span style=\"color: #7f7f7f; text-decoration-color: #7f7f7f\">__init__.py</span></a><span style=\"color: #7f7f7f; text-decoration-color: #7f7f7f\">:</span><a href=\"file:///usr/local/Caskroom/miniforge/base/envs/kedro-environment/lib/python3.10/site-packages/kedro/ipython/__init__.py#164\" target=\"_blank\"><span style=\"color: #7f7f7f; text-decoration-color: #7f7f7f\">164</span></a>\n",
       "<span style=\"color: #7fbfbf; text-decoration-color: #7fbfbf\">                    </span>         <span style=\"color: #800080; text-decoration-color: #800080\">/Users/richarddegaki/repos/xrhd/</span><span style=\"color: #ff00ff; text-decoration-color: #ff00ff\">brazilian-credit-card-spending.</span>        <span style=\"color: #7f7f7f; text-decoration-color: #7f7f7f\">               </span>\n",
       "<span style=\"color: #7fbfbf; text-decoration-color: #7fbfbf\">                    </span>         To set a different path, run <span style=\"color: #008000; text-decoration-color: #008000\">'%reload_kedro &lt;project_root&gt;'</span>            <span style=\"color: #7f7f7f; text-decoration-color: #7f7f7f\">               </span>\n",
       "</pre>\n"
      ],
      "text/plain": [
       "\u001b[2;36m                   \u001b[0m\u001b[2;36m \u001b[0m\u001b[34mINFO    \u001b[0m Resolved project path as:                                              \u001b]8;id=631200;file:///usr/local/Caskroom/miniforge/base/envs/kedro-environment/lib/python3.10/site-packages/kedro/ipython/__init__.py\u001b\\\u001b[2m__init__.py\u001b[0m\u001b]8;;\u001b\\\u001b[2m:\u001b[0m\u001b]8;id=207076;file:///usr/local/Caskroom/miniforge/base/envs/kedro-environment/lib/python3.10/site-packages/kedro/ipython/__init__.py#164\u001b\\\u001b[2m164\u001b[0m\u001b]8;;\u001b\\\n",
       "\u001b[2;36m                    \u001b[0m         \u001b[35m/Users/richarddegaki/repos/xrhd/\u001b[0m\u001b[95mbrazilian-credit-card-spending.\u001b[0m        \u001b[2m               \u001b[0m\n",
       "\u001b[2;36m                    \u001b[0m         To set a different path, run \u001b[32m'%reload_kedro \u001b[0m\u001b[32m<\u001b[0m\u001b[32mproject_root\u001b[0m\u001b[32m>\u001b[0m\u001b[32m'\u001b[0m            \u001b[2m               \u001b[0m\n"
      ]
     },
     "metadata": {},
     "output_type": "display_data"
    },
    {
     "data": {
      "text/html": [
       "<pre style=\"white-space:pre;overflow-x:auto;line-height:normal;font-family:Menlo,'DejaVu Sans Mono',consolas,'Courier New',monospace\"><span style=\"color: #7fbfbf; text-decoration-color: #7fbfbf\">[04/02/24 21:22:19] </span><span style=\"color: #000080; text-decoration-color: #000080\">INFO    </span> Kedro project Brazilian Credit Card Spending                           <a href=\"file:///usr/local/Caskroom/miniforge/base/envs/kedro-environment/lib/python3.10/site-packages/kedro/ipython/__init__.py\" target=\"_blank\"><span style=\"color: #7f7f7f; text-decoration-color: #7f7f7f\">__init__.py</span></a><span style=\"color: #7f7f7f; text-decoration-color: #7f7f7f\">:</span><a href=\"file:///usr/local/Caskroom/miniforge/base/envs/kedro-environment/lib/python3.10/site-packages/kedro/ipython/__init__.py#134\" target=\"_blank\"><span style=\"color: #7f7f7f; text-decoration-color: #7f7f7f\">134</span></a>\n",
       "</pre>\n"
      ],
      "text/plain": [
       "\u001b[2;36m[04/02/24 21:22:19]\u001b[0m\u001b[2;36m \u001b[0m\u001b[34mINFO    \u001b[0m Kedro project Brazilian Credit Card Spending                           \u001b]8;id=16417;file:///usr/local/Caskroom/miniforge/base/envs/kedro-environment/lib/python3.10/site-packages/kedro/ipython/__init__.py\u001b\\\u001b[2m__init__.py\u001b[0m\u001b]8;;\u001b\\\u001b[2m:\u001b[0m\u001b]8;id=902874;file:///usr/local/Caskroom/miniforge/base/envs/kedro-environment/lib/python3.10/site-packages/kedro/ipython/__init__.py#134\u001b\\\u001b[2m134\u001b[0m\u001b]8;;\u001b\\\n"
      ]
     },
     "metadata": {},
     "output_type": "display_data"
    },
    {
     "data": {
      "text/html": [
       "<pre style=\"white-space:pre;overflow-x:auto;line-height:normal;font-family:Menlo,'DejaVu Sans Mono',consolas,'Courier New',monospace\"><span style=\"color: #7fbfbf; text-decoration-color: #7fbfbf\">                    </span><span style=\"color: #000080; text-decoration-color: #000080\">INFO    </span> Defined global variable <span style=\"color: #008000; text-decoration-color: #008000\">'context'</span>, <span style=\"color: #008000; text-decoration-color: #008000\">'session'</span>, <span style=\"color: #008000; text-decoration-color: #008000\">'catalog'</span> and            <a href=\"file:///usr/local/Caskroom/miniforge/base/envs/kedro-environment/lib/python3.10/site-packages/kedro/ipython/__init__.py\" target=\"_blank\"><span style=\"color: #7f7f7f; text-decoration-color: #7f7f7f\">__init__.py</span></a><span style=\"color: #7f7f7f; text-decoration-color: #7f7f7f\">:</span><a href=\"file:///usr/local/Caskroom/miniforge/base/envs/kedro-environment/lib/python3.10/site-packages/kedro/ipython/__init__.py#135\" target=\"_blank\"><span style=\"color: #7f7f7f; text-decoration-color: #7f7f7f\">135</span></a>\n",
       "<span style=\"color: #7fbfbf; text-decoration-color: #7fbfbf\">                    </span>         <span style=\"color: #008000; text-decoration-color: #008000\">'pipelines'</span>                                                            <span style=\"color: #7f7f7f; text-decoration-color: #7f7f7f\">               </span>\n",
       "</pre>\n"
      ],
      "text/plain": [
       "\u001b[2;36m                   \u001b[0m\u001b[2;36m \u001b[0m\u001b[34mINFO    \u001b[0m Defined global variable \u001b[32m'context'\u001b[0m, \u001b[32m'session'\u001b[0m, \u001b[32m'catalog'\u001b[0m and            \u001b]8;id=700017;file:///usr/local/Caskroom/miniforge/base/envs/kedro-environment/lib/python3.10/site-packages/kedro/ipython/__init__.py\u001b\\\u001b[2m__init__.py\u001b[0m\u001b]8;;\u001b\\\u001b[2m:\u001b[0m\u001b]8;id=936952;file:///usr/local/Caskroom/miniforge/base/envs/kedro-environment/lib/python3.10/site-packages/kedro/ipython/__init__.py#135\u001b\\\u001b[2m135\u001b[0m\u001b]8;;\u001b\\\n",
       "\u001b[2;36m                    \u001b[0m         \u001b[32m'pipelines'\u001b[0m                                                            \u001b[2m               \u001b[0m\n"
      ]
     },
     "metadata": {},
     "output_type": "display_data"
    },
    {
     "data": {
      "text/html": [
       "<pre style=\"white-space:pre;overflow-x:auto;line-height:normal;font-family:Menlo,'DejaVu Sans Mono',consolas,'Courier New',monospace\"><span style=\"color: #7fbfbf; text-decoration-color: #7fbfbf\">                    </span><span style=\"color: #000080; text-decoration-color: #000080\">INFO    </span> Registered line magic <span style=\"color: #008000; text-decoration-color: #008000\">'run_viz'</span>                                        <a href=\"file:///usr/local/Caskroom/miniforge/base/envs/kedro-environment/lib/python3.10/site-packages/kedro/ipython/__init__.py\" target=\"_blank\"><span style=\"color: #7f7f7f; text-decoration-color: #7f7f7f\">__init__.py</span></a><span style=\"color: #7f7f7f; text-decoration-color: #7f7f7f\">:</span><a href=\"file:///usr/local/Caskroom/miniforge/base/envs/kedro-environment/lib/python3.10/site-packages/kedro/ipython/__init__.py#141\" target=\"_blank\"><span style=\"color: #7f7f7f; text-decoration-color: #7f7f7f\">141</span></a>\n",
       "</pre>\n"
      ],
      "text/plain": [
       "\u001b[2;36m                   \u001b[0m\u001b[2;36m \u001b[0m\u001b[34mINFO    \u001b[0m Registered line magic \u001b[32m'run_viz'\u001b[0m                                        \u001b]8;id=643713;file:///usr/local/Caskroom/miniforge/base/envs/kedro-environment/lib/python3.10/site-packages/kedro/ipython/__init__.py\u001b\\\u001b[2m__init__.py\u001b[0m\u001b]8;;\u001b\\\u001b[2m:\u001b[0m\u001b]8;id=50211;file:///usr/local/Caskroom/miniforge/base/envs/kedro-environment/lib/python3.10/site-packages/kedro/ipython/__init__.py#141\u001b\\\u001b[2m141\u001b[0m\u001b]8;;\u001b\\\n"
      ]
     },
     "metadata": {},
     "output_type": "display_data"
    }
   ],
   "source": [
    "%reload_kedro"
   ]
  },
  {
   "cell_type": "code",
   "execution_count": 9,
   "metadata": {},
   "outputs": [
    {
     "data": {
      "text/html": [
       "<pre style=\"white-space:pre;overflow-x:auto;line-height:normal;font-family:Menlo,'DejaVu Sans Mono',consolas,'Courier New',monospace\"><span style=\"color: #7fbfbf; text-decoration-color: #7fbfbf\">                    </span><span style=\"color: #000080; text-decoration-color: #000080\">INFO    </span> Loading data from <span style=\"color: #ff8700; text-decoration-color: #ff8700\">params:expense_groups</span> <span style=\"font-weight: bold\">(</span>MemoryDataset<span style=\"font-weight: bold\">)</span><span style=\"color: #808000; text-decoration-color: #808000\">...</span>         <a href=\"file:///usr/local/Caskroom/miniforge/base/envs/kedro-environment/lib/python3.10/site-packages/kedro/io/data_catalog.py\" target=\"_blank\"><span style=\"color: #7f7f7f; text-decoration-color: #7f7f7f\">data_catalog.py</span></a><span style=\"color: #7f7f7f; text-decoration-color: #7f7f7f\">:</span><a href=\"file:///usr/local/Caskroom/miniforge/base/envs/kedro-environment/lib/python3.10/site-packages/kedro/io/data_catalog.py#483\" target=\"_blank\"><span style=\"color: #7f7f7f; text-decoration-color: #7f7f7f\">483</span></a>\n",
       "</pre>\n"
      ],
      "text/plain": [
       "\u001b[2;36m                   \u001b[0m\u001b[2;36m \u001b[0m\u001b[34mINFO    \u001b[0m Loading data from \u001b[38;5;208mparams:expense_groups\u001b[0m \u001b[1m(\u001b[0mMemoryDataset\u001b[1m)\u001b[0m\u001b[33m...\u001b[0m         \u001b]8;id=108919;file:///usr/local/Caskroom/miniforge/base/envs/kedro-environment/lib/python3.10/site-packages/kedro/io/data_catalog.py\u001b\\\u001b[2mdata_catalog.py\u001b[0m\u001b]8;;\u001b\\\u001b[2m:\u001b[0m\u001b]8;id=845100;file:///usr/local/Caskroom/miniforge/base/envs/kedro-environment/lib/python3.10/site-packages/kedro/io/data_catalog.py#483\u001b\\\u001b[2m483\u001b[0m\u001b]8;;\u001b\\\n"
      ]
     },
     "metadata": {},
     "output_type": "display_data"
    },
    {
     "data": {
      "text/html": [
       "<pre style=\"white-space:pre;overflow-x:auto;line-height:normal;font-family:Menlo,'DejaVu Sans Mono',consolas,'Courier New',monospace\"></pre>\n"
      ],
      "text/plain": []
     },
     "metadata": {},
     "output_type": "display_data"
    },
    {
     "data": {
      "text/plain": [
       "\n",
       "\u001b[1m{\u001b[0m\n",
       "    \u001b[32m'Necessities'\u001b[0m: \u001b[1m[\u001b[0m\u001b[32m'SERVI‚O'\u001b[0m, \u001b[32m'SUPERMERCADOS'\u001b[0m, \u001b[32m'FARMACIAS'\u001b[0m, \u001b[32m'POSTO DE GAS'\u001b[0m, \u001b[32m'M.O.T.O.'\u001b[0m\u001b[1m]\u001b[0m,\n",
       "    \u001b[32m'Discretionary'\u001b[0m: \u001b[1m[\u001b[0m\n",
       "        \u001b[32m'RESTAURANTE'\u001b[0m,\n",
       "        \u001b[32m'VAREJO'\u001b[0m,\n",
       "        \u001b[32m'VESTUARIO'\u001b[0m,\n",
       "        \u001b[32m'ARTIGOS ELETRO'\u001b[0m,\n",
       "        \u001b[32m'MOVEIS E DECOR'\u001b[0m,\n",
       "        \u001b[32m'AUTO PE‚AS'\u001b[0m,\n",
       "        \u001b[32m'JOALHERIA'\u001b[0m\n",
       "    \u001b[1m]\u001b[0m,\n",
       "    \u001b[32m'Travel'\u001b[0m: \u001b[1m[\u001b[0m\u001b[32m'CIA AEREAS'\u001b[0m, \u001b[32m'HOTEIS'\u001b[0m, \u001b[32m'AGENCIA DE TUR'\u001b[0m\u001b[1m]\u001b[0m\n",
       "\u001b[1m}\u001b[0m"
      ]
     },
     "metadata": {},
     "output_type": "display_data"
    },
    {
     "data": {
      "text/html": [
       "<pre style=\"white-space:pre;overflow-x:auto;line-height:normal;font-family:Menlo,'DejaVu Sans Mono',consolas,'Courier New',monospace\"><span style=\"color: #7fbfbf; text-decoration-color: #7fbfbf\">                    </span><span style=\"color: #800000; text-decoration-color: #800000\">WARNING </span> <span style=\"color: #800080; text-decoration-color: #800080\">/var/folders/qn/pq9pzsn51vx7lzwtkc1r1hxr0000gn/T/ipykernel_34204/</span><span style=\"color: #ff00ff; text-decoration-color: #ff00ff\">97070</span> <a href=\"file:///usr/local/Caskroom/miniforge/base/envs/kedro-environment/lib/python3.10/warnings.py\" target=\"_blank\"><span style=\"color: #7f7f7f; text-decoration-color: #7f7f7f\">warnings.py</span></a><span style=\"color: #7f7f7f; text-decoration-color: #7f7f7f\">:</span><a href=\"file:///usr/local/Caskroom/miniforge/base/envs/kedro-environment/lib/python3.10/warnings.py#109\" target=\"_blank\"><span style=\"color: #7f7f7f; text-decoration-color: #7f7f7f\">109</span></a>\n",
       "<span style=\"color: #7fbfbf; text-decoration-color: #7fbfbf\">                    </span>         <span style=\"color: #ff00ff; text-decoration-color: #ff00ff\">2585.py</span>:<span style=\"color: #008080; text-decoration-color: #008080; font-weight: bold\">11</span>: SettingWithCopyWarning:                                    <span style=\"color: #7f7f7f; text-decoration-color: #7f7f7f\">               </span>\n",
       "<span style=\"color: #7fbfbf; text-decoration-color: #7fbfbf\">                    </span>         A value is trying to be set on a copy of a slice from a DataFrame.     <span style=\"color: #7f7f7f; text-decoration-color: #7f7f7f\">               </span>\n",
       "<span style=\"color: #7fbfbf; text-decoration-color: #7fbfbf\">                    </span>         Try using .loc<span style=\"font-weight: bold\">[</span>row_indexer,col_indexer<span style=\"font-weight: bold\">]</span> = value instead                <span style=\"color: #7f7f7f; text-decoration-color: #7f7f7f\">               </span>\n",
       "<span style=\"color: #7fbfbf; text-decoration-color: #7fbfbf\">                    </span>                                                                                <span style=\"color: #7f7f7f; text-decoration-color: #7f7f7f\">               </span>\n",
       "<span style=\"color: #7fbfbf; text-decoration-color: #7fbfbf\">                    </span>         See the caveats in the documentation:                                  <span style=\"color: #7f7f7f; text-decoration-color: #7f7f7f\">               </span>\n",
       "<span style=\"color: #7fbfbf; text-decoration-color: #7fbfbf\">                    </span>         <span style=\"color: #0000ff; text-decoration-color: #0000ff; text-decoration: underline\">https://pandas.pydata.org/pandas-docs/stable/user_guide/indexing.html#</span> <span style=\"color: #7f7f7f; text-decoration-color: #7f7f7f\">               </span>\n",
       "<span style=\"color: #7fbfbf; text-decoration-color: #7fbfbf\">                    </span>         <span style=\"color: #0000ff; text-decoration-color: #0000ff; text-decoration: underline\">returning-a-view-versus-a-copy</span>                                         <span style=\"color: #7f7f7f; text-decoration-color: #7f7f7f\">               </span>\n",
       "<span style=\"color: #7fbfbf; text-decoration-color: #7fbfbf\">                    </span>           model_data<span style=\"font-weight: bold\">[</span><span style=\"color: #008000; text-decoration-color: #008000\">'label'</span><span style=\"font-weight: bold\">]</span> = df<span style=\"font-weight: bold\">[</span><span style=\"color: #008000; text-decoration-color: #008000\">'category_expense'</span><span style=\"font-weight: bold\">]</span><span style=\"color: #800080; text-decoration-color: #800080; font-weight: bold\">.apply</span><span style=\"font-weight: bold\">(</span>assign_label<span style=\"font-weight: bold\">)</span>     <span style=\"color: #7f7f7f; text-decoration-color: #7f7f7f\">               </span>\n",
       "<span style=\"color: #7fbfbf; text-decoration-color: #7fbfbf\">                    </span>                                                                                <span style=\"color: #7f7f7f; text-decoration-color: #7f7f7f\">               </span>\n",
       "</pre>\n"
      ],
      "text/plain": [
       "\u001b[2;36m                   \u001b[0m\u001b[2;36m \u001b[0m\u001b[31mWARNING \u001b[0m \u001b[35m/var/folders/qn/pq9pzsn51vx7lzwtkc1r1hxr0000gn/T/ipykernel_34204/\u001b[0m\u001b[95m97070\u001b[0m \u001b]8;id=544962;file:///usr/local/Caskroom/miniforge/base/envs/kedro-environment/lib/python3.10/warnings.py\u001b\\\u001b[2mwarnings.py\u001b[0m\u001b]8;;\u001b\\\u001b[2m:\u001b[0m\u001b]8;id=586783;file:///usr/local/Caskroom/miniforge/base/envs/kedro-environment/lib/python3.10/warnings.py#109\u001b\\\u001b[2m109\u001b[0m\u001b]8;;\u001b\\\n",
       "\u001b[2;36m                    \u001b[0m         \u001b[95m2585.py\u001b[0m:\u001b[1;36m11\u001b[0m: SettingWithCopyWarning:                                    \u001b[2m               \u001b[0m\n",
       "\u001b[2;36m                    \u001b[0m         A value is trying to be set on a copy of a slice from a DataFrame.     \u001b[2m               \u001b[0m\n",
       "\u001b[2;36m                    \u001b[0m         Try using .loc\u001b[1m[\u001b[0mrow_indexer,col_indexer\u001b[1m]\u001b[0m = value instead                \u001b[2m               \u001b[0m\n",
       "\u001b[2;36m                    \u001b[0m                                                                                \u001b[2m               \u001b[0m\n",
       "\u001b[2;36m                    \u001b[0m         See the caveats in the documentation:                                  \u001b[2m               \u001b[0m\n",
       "\u001b[2;36m                    \u001b[0m         \u001b[4;94mhttps://pandas.pydata.org/pandas-docs/stable/user_guide/indexing.html#\u001b[0m \u001b[2m               \u001b[0m\n",
       "\u001b[2;36m                    \u001b[0m         \u001b[4;94mreturning-a-view-versus-a-copy\u001b[0m                                         \u001b[2m               \u001b[0m\n",
       "\u001b[2;36m                    \u001b[0m           model_data\u001b[1m[\u001b[0m\u001b[32m'label'\u001b[0m\u001b[1m]\u001b[0m = df\u001b[1m[\u001b[0m\u001b[32m'category_expense'\u001b[0m\u001b[1m]\u001b[0m\u001b[1;35m.apply\u001b[0m\u001b[1m(\u001b[0massign_label\u001b[1m)\u001b[0m     \u001b[2m               \u001b[0m\n",
       "\u001b[2;36m                    \u001b[0m                                                                                \u001b[2m               \u001b[0m\n"
      ]
     },
     "metadata": {},
     "output_type": "display_data"
    },
    {
     "data": {
      "text/html": [
       "<pre style=\"white-space:pre;overflow-x:auto;line-height:normal;font-family:Menlo,'DejaVu Sans Mono',consolas,'Courier New',monospace\"></pre>\n"
      ],
      "text/plain": []
     },
     "metadata": {},
     "output_type": "display_data"
    },
    {
     "data": {
      "text/plain": [
       "\n",
       "label\n",
       "Necessities      \u001b[1;36m2835\u001b[0m\n",
       "Discretionary    \u001b[1;36m1863\u001b[0m\n",
       "Other             \u001b[1;36m130\u001b[0m\n",
       "Travel             \u001b[1;36m72\u001b[0m\n",
       "Name: count, dtype: int64"
      ]
     },
     "execution_count": 9,
     "metadata": {},
     "output_type": "execute_result"
    }
   ],
   "source": [
    "expense_groups = catalog.load(\"params:expense_groups\")\n",
    "display(expense_groups)\n",
    "\n",
    "# Create a function to assign labels based on expense groups\n",
    "def assign_label(expense):\n",
    "    for group, labels in expense_groups.items():\n",
    "        if expense in labels:\n",
    "            return group\n",
    "    return \"Other\"\n",
    "\n",
    "model_data['label'] = df['category_expense'].apply(assign_label)\n",
    "model_data.label.value_counts()"
   ]
  },
  {
   "cell_type": "markdown",
   "metadata": {},
   "source": [
    "# Visualization"
   ]
  },
  {
   "cell_type": "code",
   "execution_count": 4,
   "metadata": {},
   "outputs": [
    {
     "data": {
      "text/html": [
       "<pre style=\"white-space:pre;overflow-x:auto;line-height:normal;font-family:Menlo,'DejaVu Sans Mono',consolas,'Courier New',monospace\"><span style=\"color: #7fbfbf; text-decoration-color: #7fbfbf\">                    </span><span style=\"color: #000080; text-decoration-color: #000080\">INFO    </span> Resolved project path as:                                              <a href=\"file:///usr/local/Caskroom/miniforge/base/envs/kedro-environment/lib/python3.10/site-packages/kedro/ipython/__init__.py\" target=\"_blank\"><span style=\"color: #7f7f7f; text-decoration-color: #7f7f7f\">__init__.py</span></a><span style=\"color: #7f7f7f; text-decoration-color: #7f7f7f\">:</span><a href=\"file:///usr/local/Caskroom/miniforge/base/envs/kedro-environment/lib/python3.10/site-packages/kedro/ipython/__init__.py#164\" target=\"_blank\"><span style=\"color: #7f7f7f; text-decoration-color: #7f7f7f\">164</span></a>\n",
       "<span style=\"color: #7fbfbf; text-decoration-color: #7fbfbf\">                    </span>         <span style=\"color: #800080; text-decoration-color: #800080\">/Users/richarddegaki/repos/xrhd/</span><span style=\"color: #ff00ff; text-decoration-color: #ff00ff\">brazilian-credit-card-spending.</span>        <span style=\"color: #7f7f7f; text-decoration-color: #7f7f7f\">               </span>\n",
       "<span style=\"color: #7fbfbf; text-decoration-color: #7fbfbf\">                    </span>         To set a different path, run <span style=\"color: #008000; text-decoration-color: #008000\">'%reload_kedro &lt;project_root&gt;'</span>            <span style=\"color: #7f7f7f; text-decoration-color: #7f7f7f\">               </span>\n",
       "</pre>\n"
      ],
      "text/plain": [
       "\u001b[2;36m                   \u001b[0m\u001b[2;36m \u001b[0m\u001b[34mINFO    \u001b[0m Resolved project path as:                                              \u001b]8;id=261152;file:///usr/local/Caskroom/miniforge/base/envs/kedro-environment/lib/python3.10/site-packages/kedro/ipython/__init__.py\u001b\\\u001b[2m__init__.py\u001b[0m\u001b]8;;\u001b\\\u001b[2m:\u001b[0m\u001b]8;id=84940;file:///usr/local/Caskroom/miniforge/base/envs/kedro-environment/lib/python3.10/site-packages/kedro/ipython/__init__.py#164\u001b\\\u001b[2m164\u001b[0m\u001b]8;;\u001b\\\n",
       "\u001b[2;36m                    \u001b[0m         \u001b[35m/Users/richarddegaki/repos/xrhd/\u001b[0m\u001b[95mbrazilian-credit-card-spending.\u001b[0m        \u001b[2m               \u001b[0m\n",
       "\u001b[2;36m                    \u001b[0m         To set a different path, run \u001b[32m'%reload_kedro \u001b[0m\u001b[32m<\u001b[0m\u001b[32mproject_root\u001b[0m\u001b[32m>\u001b[0m\u001b[32m'\u001b[0m            \u001b[2m               \u001b[0m\n"
      ]
     },
     "metadata": {},
     "output_type": "display_data"
    },
    {
     "data": {
      "text/html": [
       "<pre style=\"white-space:pre;overflow-x:auto;line-height:normal;font-family:Menlo,'DejaVu Sans Mono',consolas,'Courier New',monospace\"><span style=\"color: #7fbfbf; text-decoration-color: #7fbfbf\">[04/02/24 21:24:11] </span><span style=\"color: #000080; text-decoration-color: #000080\">INFO    </span> Kedro project Brazilian Credit Card Spending                           <a href=\"file:///usr/local/Caskroom/miniforge/base/envs/kedro-environment/lib/python3.10/site-packages/kedro/ipython/__init__.py\" target=\"_blank\"><span style=\"color: #7f7f7f; text-decoration-color: #7f7f7f\">__init__.py</span></a><span style=\"color: #7f7f7f; text-decoration-color: #7f7f7f\">:</span><a href=\"file:///usr/local/Caskroom/miniforge/base/envs/kedro-environment/lib/python3.10/site-packages/kedro/ipython/__init__.py#134\" target=\"_blank\"><span style=\"color: #7f7f7f; text-decoration-color: #7f7f7f\">134</span></a>\n",
       "</pre>\n"
      ],
      "text/plain": [
       "\u001b[2;36m[04/02/24 21:24:11]\u001b[0m\u001b[2;36m \u001b[0m\u001b[34mINFO    \u001b[0m Kedro project Brazilian Credit Card Spending                           \u001b]8;id=5158;file:///usr/local/Caskroom/miniforge/base/envs/kedro-environment/lib/python3.10/site-packages/kedro/ipython/__init__.py\u001b\\\u001b[2m__init__.py\u001b[0m\u001b]8;;\u001b\\\u001b[2m:\u001b[0m\u001b]8;id=425252;file:///usr/local/Caskroom/miniforge/base/envs/kedro-environment/lib/python3.10/site-packages/kedro/ipython/__init__.py#134\u001b\\\u001b[2m134\u001b[0m\u001b]8;;\u001b\\\n"
      ]
     },
     "metadata": {},
     "output_type": "display_data"
    },
    {
     "data": {
      "text/html": [
       "<pre style=\"white-space:pre;overflow-x:auto;line-height:normal;font-family:Menlo,'DejaVu Sans Mono',consolas,'Courier New',monospace\"><span style=\"color: #7fbfbf; text-decoration-color: #7fbfbf\">                    </span><span style=\"color: #000080; text-decoration-color: #000080\">INFO    </span> Defined global variable <span style=\"color: #008000; text-decoration-color: #008000\">'context'</span>, <span style=\"color: #008000; text-decoration-color: #008000\">'session'</span>, <span style=\"color: #008000; text-decoration-color: #008000\">'catalog'</span> and            <a href=\"file:///usr/local/Caskroom/miniforge/base/envs/kedro-environment/lib/python3.10/site-packages/kedro/ipython/__init__.py\" target=\"_blank\"><span style=\"color: #7f7f7f; text-decoration-color: #7f7f7f\">__init__.py</span></a><span style=\"color: #7f7f7f; text-decoration-color: #7f7f7f\">:</span><a href=\"file:///usr/local/Caskroom/miniforge/base/envs/kedro-environment/lib/python3.10/site-packages/kedro/ipython/__init__.py#135\" target=\"_blank\"><span style=\"color: #7f7f7f; text-decoration-color: #7f7f7f\">135</span></a>\n",
       "<span style=\"color: #7fbfbf; text-decoration-color: #7fbfbf\">                    </span>         <span style=\"color: #008000; text-decoration-color: #008000\">'pipelines'</span>                                                            <span style=\"color: #7f7f7f; text-decoration-color: #7f7f7f\">               </span>\n",
       "</pre>\n"
      ],
      "text/plain": [
       "\u001b[2;36m                   \u001b[0m\u001b[2;36m \u001b[0m\u001b[34mINFO    \u001b[0m Defined global variable \u001b[32m'context'\u001b[0m, \u001b[32m'session'\u001b[0m, \u001b[32m'catalog'\u001b[0m and            \u001b]8;id=161373;file:///usr/local/Caskroom/miniforge/base/envs/kedro-environment/lib/python3.10/site-packages/kedro/ipython/__init__.py\u001b\\\u001b[2m__init__.py\u001b[0m\u001b]8;;\u001b\\\u001b[2m:\u001b[0m\u001b]8;id=491090;file:///usr/local/Caskroom/miniforge/base/envs/kedro-environment/lib/python3.10/site-packages/kedro/ipython/__init__.py#135\u001b\\\u001b[2m135\u001b[0m\u001b]8;;\u001b\\\n",
       "\u001b[2;36m                    \u001b[0m         \u001b[32m'pipelines'\u001b[0m                                                            \u001b[2m               \u001b[0m\n"
      ]
     },
     "metadata": {},
     "output_type": "display_data"
    },
    {
     "data": {
      "text/html": [
       "<pre style=\"white-space:pre;overflow-x:auto;line-height:normal;font-family:Menlo,'DejaVu Sans Mono',consolas,'Courier New',monospace\"><span style=\"color: #7fbfbf; text-decoration-color: #7fbfbf\">                    </span><span style=\"color: #000080; text-decoration-color: #000080\">INFO    </span> Registered line magic <span style=\"color: #008000; text-decoration-color: #008000\">'run_viz'</span>                                        <a href=\"file:///usr/local/Caskroom/miniforge/base/envs/kedro-environment/lib/python3.10/site-packages/kedro/ipython/__init__.py\" target=\"_blank\"><span style=\"color: #7f7f7f; text-decoration-color: #7f7f7f\">__init__.py</span></a><span style=\"color: #7f7f7f; text-decoration-color: #7f7f7f\">:</span><a href=\"file:///usr/local/Caskroom/miniforge/base/envs/kedro-environment/lib/python3.10/site-packages/kedro/ipython/__init__.py#141\" target=\"_blank\"><span style=\"color: #7f7f7f; text-decoration-color: #7f7f7f\">141</span></a>\n",
       "</pre>\n"
      ],
      "text/plain": [
       "\u001b[2;36m                   \u001b[0m\u001b[2;36m \u001b[0m\u001b[34mINFO    \u001b[0m Registered line magic \u001b[32m'run_viz'\u001b[0m                                        \u001b]8;id=907930;file:///usr/local/Caskroom/miniforge/base/envs/kedro-environment/lib/python3.10/site-packages/kedro/ipython/__init__.py\u001b\\\u001b[2m__init__.py\u001b[0m\u001b]8;;\u001b\\\u001b[2m:\u001b[0m\u001b]8;id=704879;file:///usr/local/Caskroom/miniforge/base/envs/kedro-environment/lib/python3.10/site-packages/kedro/ipython/__init__.py#141\u001b\\\u001b[2m141\u001b[0m\u001b]8;;\u001b\\\n"
      ]
     },
     "metadata": {},
     "output_type": "display_data"
    },
    {
     "data": {
      "text/html": [
       "<pre style=\"white-space:pre;overflow-x:auto;line-height:normal;font-family:Menlo,'DejaVu Sans Mono',consolas,'Courier New',monospace\"><span style=\"color: #7fbfbf; text-decoration-color: #7fbfbf\">                    </span><span style=\"color: #000080; text-decoration-color: #000080\">INFO    </span> Loading data from <span style=\"color: #ff8700; text-decoration-color: #ff8700\">model_data</span> <span style=\"font-weight: bold\">(</span>ParquetDataset<span style=\"font-weight: bold\">)</span><span style=\"color: #808000; text-decoration-color: #808000\">...</span>                   <a href=\"file:///usr/local/Caskroom/miniforge/base/envs/kedro-environment/lib/python3.10/site-packages/kedro/io/data_catalog.py\" target=\"_blank\"><span style=\"color: #7f7f7f; text-decoration-color: #7f7f7f\">data_catalog.py</span></a><span style=\"color: #7f7f7f; text-decoration-color: #7f7f7f\">:</span><a href=\"file:///usr/local/Caskroom/miniforge/base/envs/kedro-environment/lib/python3.10/site-packages/kedro/io/data_catalog.py#483\" target=\"_blank\"><span style=\"color: #7f7f7f; text-decoration-color: #7f7f7f\">483</span></a>\n",
       "</pre>\n"
      ],
      "text/plain": [
       "\u001b[2;36m                   \u001b[0m\u001b[2;36m \u001b[0m\u001b[34mINFO    \u001b[0m Loading data from \u001b[38;5;208mmodel_data\u001b[0m \u001b[1m(\u001b[0mParquetDataset\u001b[1m)\u001b[0m\u001b[33m...\u001b[0m                   \u001b]8;id=659168;file:///usr/local/Caskroom/miniforge/base/envs/kedro-environment/lib/python3.10/site-packages/kedro/io/data_catalog.py\u001b\\\u001b[2mdata_catalog.py\u001b[0m\u001b]8;;\u001b\\\u001b[2m:\u001b[0m\u001b]8;id=814632;file:///usr/local/Caskroom/miniforge/base/envs/kedro-environment/lib/python3.10/site-packages/kedro/io/data_catalog.py#483\u001b\\\u001b[2m483\u001b[0m\u001b]8;;\u001b\\\n"
      ]
     },
     "metadata": {},
     "output_type": "display_data"
    },
    {
     "data": {
      "text/html": [
       "<pre style=\"white-space:pre;overflow-x:auto;line-height:normal;font-family:Menlo,'DejaVu Sans Mono',consolas,'Courier New',monospace\"></pre>\n"
      ],
      "text/plain": []
     },
     "metadata": {},
     "output_type": "display_data"
    },
    {
     "data": {
      "text/html": [
       "<div>\n",
       "<style scoped>\n",
       "    .dataframe tbody tr th:only-of-type {\n",
       "        vertical-align: middle;\n",
       "    }\n",
       "\n",
       "    .dataframe tbody tr th {\n",
       "        vertical-align: top;\n",
       "    }\n",
       "\n",
       "    .dataframe thead th {\n",
       "        text-align: right;\n",
       "    }\n",
       "</style>\n",
       "<table border=\"1\" class=\"dataframe\">\n",
       "  <thead>\n",
       "    <tr style=\"text-align: right;\">\n",
       "      <th></th>\n",
       "      <th>total_credit_card_limit</th>\n",
       "      <th>current_available_limit</th>\n",
       "      <th>amount</th>\n",
       "      <th>total_minus_current</th>\n",
       "      <th>current_available_limit_ratio</th>\n",
       "      <th>amount_ratio_from_total</th>\n",
       "      <th>amount_ratio_from_current</th>\n",
       "      <th>is_F</th>\n",
       "      <th>is_M</th>\n",
       "      <th>is_the_same_city</th>\n",
       "      <th>is_the_state</th>\n",
       "      <th>is_the_state_conf</th>\n",
       "      <th>label</th>\n",
       "    </tr>\n",
       "  </thead>\n",
       "  <tbody>\n",
       "    <tr>\n",
       "      <th>0</th>\n",
       "      <td>4700</td>\n",
       "      <td>5605</td>\n",
       "      <td>31.0</td>\n",
       "      <td>-905</td>\n",
       "      <td>1.192553</td>\n",
       "      <td>0.006596</td>\n",
       "      <td>0.005531</td>\n",
       "      <td>1</td>\n",
       "      <td>0</td>\n",
       "      <td>0.48</td>\n",
       "      <td>1.0</td>\n",
       "      <td>0.94</td>\n",
       "      <td>Necessities</td>\n",
       "    </tr>\n",
       "    <tr>\n",
       "      <th>1</th>\n",
       "      <td>4700</td>\n",
       "      <td>5343</td>\n",
       "      <td>15001.0</td>\n",
       "      <td>-643</td>\n",
       "      <td>1.136809</td>\n",
       "      <td>3.191702</td>\n",
       "      <td>2.807599</td>\n",
       "      <td>1</td>\n",
       "      <td>0</td>\n",
       "      <td>0.23</td>\n",
       "      <td>1.0</td>\n",
       "      <td>1.00</td>\n",
       "      <td>Necessities</td>\n",
       "    </tr>\n",
       "    <tr>\n",
       "      <th>2</th>\n",
       "      <td>4700</td>\n",
       "      <td>2829</td>\n",
       "      <td>50.0</td>\n",
       "      <td>1871</td>\n",
       "      <td>0.601915</td>\n",
       "      <td>0.010638</td>\n",
       "      <td>0.017674</td>\n",
       "      <td>1</td>\n",
       "      <td>0</td>\n",
       "      <td>0.48</td>\n",
       "      <td>1.0</td>\n",
       "      <td>0.94</td>\n",
       "      <td>Necessities</td>\n",
       "    </tr>\n",
       "    <tr>\n",
       "      <th>3</th>\n",
       "      <td>4700</td>\n",
       "      <td>2547</td>\n",
       "      <td>544.0</td>\n",
       "      <td>2153</td>\n",
       "      <td>0.541915</td>\n",
       "      <td>0.115745</td>\n",
       "      <td>0.213585</td>\n",
       "      <td>1</td>\n",
       "      <td>0</td>\n",
       "      <td>0.23</td>\n",
       "      <td>1.0</td>\n",
       "      <td>1.00</td>\n",
       "      <td>Necessities</td>\n",
       "    </tr>\n",
       "    <tr>\n",
       "      <th>4</th>\n",
       "      <td>4700</td>\n",
       "      <td>2515</td>\n",
       "      <td>3279.0</td>\n",
       "      <td>2185</td>\n",
       "      <td>0.535106</td>\n",
       "      <td>0.697660</td>\n",
       "      <td>1.303777</td>\n",
       "      <td>1</td>\n",
       "      <td>0</td>\n",
       "      <td>0.23</td>\n",
       "      <td>1.0</td>\n",
       "      <td>1.00</td>\n",
       "      <td>Necessities</td>\n",
       "    </tr>\n",
       "    <tr>\n",
       "      <th>...</th>\n",
       "      <td>...</td>\n",
       "      <td>...</td>\n",
       "      <td>...</td>\n",
       "      <td>...</td>\n",
       "      <td>...</td>\n",
       "      <td>...</td>\n",
       "      <td>...</td>\n",
       "      <td>...</td>\n",
       "      <td>...</td>\n",
       "      <td>...</td>\n",
       "      <td>...</td>\n",
       "      <td>...</td>\n",
       "      <td>...</td>\n",
       "    </tr>\n",
       "    <tr>\n",
       "      <th>4950</th>\n",
       "      <td>8500</td>\n",
       "      <td>5305</td>\n",
       "      <td>255.0</td>\n",
       "      <td>3195</td>\n",
       "      <td>0.624118</td>\n",
       "      <td>0.030000</td>\n",
       "      <td>0.048068</td>\n",
       "      <td>0</td>\n",
       "      <td>1</td>\n",
       "      <td>1.00</td>\n",
       "      <td>1.0</td>\n",
       "      <td>0.94</td>\n",
       "      <td>Discretionary</td>\n",
       "    </tr>\n",
       "    <tr>\n",
       "      <th>4951</th>\n",
       "      <td>8500</td>\n",
       "      <td>5266</td>\n",
       "      <td>395.0</td>\n",
       "      <td>3234</td>\n",
       "      <td>0.619529</td>\n",
       "      <td>0.046471</td>\n",
       "      <td>0.075009</td>\n",
       "      <td>0</td>\n",
       "      <td>1</td>\n",
       "      <td>1.00</td>\n",
       "      <td>1.0</td>\n",
       "      <td>0.94</td>\n",
       "      <td>Necessities</td>\n",
       "    </tr>\n",
       "    <tr>\n",
       "      <th>4952</th>\n",
       "      <td>8500</td>\n",
       "      <td>5445</td>\n",
       "      <td>7556.0</td>\n",
       "      <td>3055</td>\n",
       "      <td>0.640588</td>\n",
       "      <td>0.888941</td>\n",
       "      <td>1.387695</td>\n",
       "      <td>0</td>\n",
       "      <td>1</td>\n",
       "      <td>1.00</td>\n",
       "      <td>1.0</td>\n",
       "      <td>0.94</td>\n",
       "      <td>Discretionary</td>\n",
       "    </tr>\n",
       "    <tr>\n",
       "      <th>4953</th>\n",
       "      <td>8500</td>\n",
       "      <td>5002</td>\n",
       "      <td>59.0</td>\n",
       "      <td>3498</td>\n",
       "      <td>0.588471</td>\n",
       "      <td>0.006941</td>\n",
       "      <td>0.011795</td>\n",
       "      <td>0</td>\n",
       "      <td>1</td>\n",
       "      <td>1.00</td>\n",
       "      <td>1.0</td>\n",
       "      <td>0.94</td>\n",
       "      <td>Necessities</td>\n",
       "    </tr>\n",
       "    <tr>\n",
       "      <th>4954</th>\n",
       "      <td>8500</td>\n",
       "      <td>5222</td>\n",
       "      <td>4369.0</td>\n",
       "      <td>3278</td>\n",
       "      <td>0.614353</td>\n",
       "      <td>0.514000</td>\n",
       "      <td>0.836653</td>\n",
       "      <td>0</td>\n",
       "      <td>1</td>\n",
       "      <td>0.27</td>\n",
       "      <td>0.0</td>\n",
       "      <td>0.00</td>\n",
       "      <td>Necessities</td>\n",
       "    </tr>\n",
       "  </tbody>\n",
       "</table>\n",
       "<p>4900 rows × 13 columns</p>\n",
       "</div>"
      ],
      "text/plain": [
       "\n",
       "      total_credit_card_limit  current_available_limit   amount  \\\n",
       "\u001b[1;36m0\u001b[0m                        \u001b[1;36m4700\u001b[0m                     \u001b[1;36m5605\u001b[0m     \u001b[1;36m31.0\u001b[0m   \n",
       "\u001b[1;36m1\u001b[0m                        \u001b[1;36m4700\u001b[0m                     \u001b[1;36m5343\u001b[0m  \u001b[1;36m15001.0\u001b[0m   \n",
       "\u001b[1;36m2\u001b[0m                        \u001b[1;36m4700\u001b[0m                     \u001b[1;36m2829\u001b[0m     \u001b[1;36m50.0\u001b[0m   \n",
       "\u001b[1;36m3\u001b[0m                        \u001b[1;36m4700\u001b[0m                     \u001b[1;36m2547\u001b[0m    \u001b[1;36m544.0\u001b[0m   \n",
       "\u001b[1;36m4\u001b[0m                        \u001b[1;36m4700\u001b[0m                     \u001b[1;36m2515\u001b[0m   \u001b[1;36m3279.0\u001b[0m   \n",
       "\u001b[33m...\u001b[0m                       \u001b[33m...\u001b[0m                      \u001b[33m...\u001b[0m      \u001b[33m...\u001b[0m   \n",
       "\u001b[1;36m4950\u001b[0m                     \u001b[1;36m8500\u001b[0m                     \u001b[1;36m5305\u001b[0m    \u001b[1;36m255.0\u001b[0m   \n",
       "\u001b[1;36m4951\u001b[0m                     \u001b[1;36m8500\u001b[0m                     \u001b[1;36m5266\u001b[0m    \u001b[1;36m395.0\u001b[0m   \n",
       "\u001b[1;36m4952\u001b[0m                     \u001b[1;36m8500\u001b[0m                     \u001b[1;36m5445\u001b[0m   \u001b[1;36m7556.0\u001b[0m   \n",
       "\u001b[1;36m4953\u001b[0m                     \u001b[1;36m8500\u001b[0m                     \u001b[1;36m5002\u001b[0m     \u001b[1;36m59.0\u001b[0m   \n",
       "\u001b[1;36m4954\u001b[0m                     \u001b[1;36m8500\u001b[0m                     \u001b[1;36m5222\u001b[0m   \u001b[1;36m4369.0\u001b[0m   \n",
       "\n",
       "      total_minus_current  current_available_limit_ratio  \\\n",
       "\u001b[1;36m0\u001b[0m                    \u001b[1;36m-905\u001b[0m                       \u001b[1;36m1.192553\u001b[0m   \n",
       "\u001b[1;36m1\u001b[0m                    \u001b[1;36m-643\u001b[0m                       \u001b[1;36m1.136809\u001b[0m   \n",
       "\u001b[1;36m2\u001b[0m                    \u001b[1;36m1871\u001b[0m                       \u001b[1;36m0.601915\u001b[0m   \n",
       "\u001b[1;36m3\u001b[0m                    \u001b[1;36m2153\u001b[0m                       \u001b[1;36m0.541915\u001b[0m   \n",
       "\u001b[1;36m4\u001b[0m                    \u001b[1;36m2185\u001b[0m                       \u001b[1;36m0.535106\u001b[0m   \n",
       "\u001b[33m...\u001b[0m                   \u001b[33m...\u001b[0m                            \u001b[33m...\u001b[0m   \n",
       "\u001b[1;36m4950\u001b[0m                 \u001b[1;36m3195\u001b[0m                       \u001b[1;36m0.624118\u001b[0m   \n",
       "\u001b[1;36m4951\u001b[0m                 \u001b[1;36m3234\u001b[0m                       \u001b[1;36m0.619529\u001b[0m   \n",
       "\u001b[1;36m4952\u001b[0m                 \u001b[1;36m3055\u001b[0m                       \u001b[1;36m0.640588\u001b[0m   \n",
       "\u001b[1;36m4953\u001b[0m                 \u001b[1;36m3498\u001b[0m                       \u001b[1;36m0.588471\u001b[0m   \n",
       "\u001b[1;36m4954\u001b[0m                 \u001b[1;36m3278\u001b[0m                       \u001b[1;36m0.614353\u001b[0m   \n",
       "\n",
       "      amount_ratio_from_total  amount_ratio_from_current  is_F  is_M  \\\n",
       "\u001b[1;36m0\u001b[0m                    \u001b[1;36m0.006596\u001b[0m                   \u001b[1;36m0.005531\u001b[0m     \u001b[1;36m1\u001b[0m     \u001b[1;36m0\u001b[0m   \n",
       "\u001b[1;36m1\u001b[0m                    \u001b[1;36m3.191702\u001b[0m                   \u001b[1;36m2.807599\u001b[0m     \u001b[1;36m1\u001b[0m     \u001b[1;36m0\u001b[0m   \n",
       "\u001b[1;36m2\u001b[0m                    \u001b[1;36m0.010638\u001b[0m                   \u001b[1;36m0.017674\u001b[0m     \u001b[1;36m1\u001b[0m     \u001b[1;36m0\u001b[0m   \n",
       "\u001b[1;36m3\u001b[0m                    \u001b[1;36m0.115745\u001b[0m                   \u001b[1;36m0.213585\u001b[0m     \u001b[1;36m1\u001b[0m     \u001b[1;36m0\u001b[0m   \n",
       "\u001b[1;36m4\u001b[0m                    \u001b[1;36m0.697660\u001b[0m                   \u001b[1;36m1.303777\u001b[0m     \u001b[1;36m1\u001b[0m     \u001b[1;36m0\u001b[0m   \n",
       "\u001b[33m...\u001b[0m                       \u001b[33m...\u001b[0m                        \u001b[33m...\u001b[0m   \u001b[33m...\u001b[0m   \u001b[33m...\u001b[0m   \n",
       "\u001b[1;36m4950\u001b[0m                 \u001b[1;36m0.030000\u001b[0m                   \u001b[1;36m0.048068\u001b[0m     \u001b[1;36m0\u001b[0m     \u001b[1;36m1\u001b[0m   \n",
       "\u001b[1;36m4951\u001b[0m                 \u001b[1;36m0.046471\u001b[0m                   \u001b[1;36m0.075009\u001b[0m     \u001b[1;36m0\u001b[0m     \u001b[1;36m1\u001b[0m   \n",
       "\u001b[1;36m4952\u001b[0m                 \u001b[1;36m0.888941\u001b[0m                   \u001b[1;36m1.387695\u001b[0m     \u001b[1;36m0\u001b[0m     \u001b[1;36m1\u001b[0m   \n",
       "\u001b[1;36m4953\u001b[0m                 \u001b[1;36m0.006941\u001b[0m                   \u001b[1;36m0.011795\u001b[0m     \u001b[1;36m0\u001b[0m     \u001b[1;36m1\u001b[0m   \n",
       "\u001b[1;36m4954\u001b[0m                 \u001b[1;36m0.514000\u001b[0m                   \u001b[1;36m0.836653\u001b[0m     \u001b[1;36m0\u001b[0m     \u001b[1;36m1\u001b[0m   \n",
       "\n",
       "      is_the_same_city  is_the_state  is_the_state_conf          label  \n",
       "\u001b[1;36m0\u001b[0m                 \u001b[1;36m0.48\u001b[0m           \u001b[1;36m1.0\u001b[0m               \u001b[1;36m0.94\u001b[0m    Necessities  \n",
       "\u001b[1;36m1\u001b[0m                 \u001b[1;36m0.23\u001b[0m           \u001b[1;36m1.0\u001b[0m               \u001b[1;36m1.00\u001b[0m    Necessities  \n",
       "\u001b[1;36m2\u001b[0m                 \u001b[1;36m0.48\u001b[0m           \u001b[1;36m1.0\u001b[0m               \u001b[1;36m0.94\u001b[0m    Necessities  \n",
       "\u001b[1;36m3\u001b[0m                 \u001b[1;36m0.23\u001b[0m           \u001b[1;36m1.0\u001b[0m               \u001b[1;36m1.00\u001b[0m    Necessities  \n",
       "\u001b[1;36m4\u001b[0m                 \u001b[1;36m0.23\u001b[0m           \u001b[1;36m1.0\u001b[0m               \u001b[1;36m1.00\u001b[0m    Necessities  \n",
       "\u001b[33m...\u001b[0m                \u001b[33m...\u001b[0m           \u001b[33m...\u001b[0m                \u001b[33m...\u001b[0m            \u001b[33m...\u001b[0m  \n",
       "\u001b[1;36m4950\u001b[0m              \u001b[1;36m1.00\u001b[0m           \u001b[1;36m1.0\u001b[0m               \u001b[1;36m0.94\u001b[0m  Discretionary  \n",
       "\u001b[1;36m4951\u001b[0m              \u001b[1;36m1.00\u001b[0m           \u001b[1;36m1.0\u001b[0m               \u001b[1;36m0.94\u001b[0m    Necessities  \n",
       "\u001b[1;36m4952\u001b[0m              \u001b[1;36m1.00\u001b[0m           \u001b[1;36m1.0\u001b[0m               \u001b[1;36m0.94\u001b[0m  Discretionary  \n",
       "\u001b[1;36m4953\u001b[0m              \u001b[1;36m1.00\u001b[0m           \u001b[1;36m1.0\u001b[0m               \u001b[1;36m0.94\u001b[0m    Necessities  \n",
       "\u001b[1;36m4954\u001b[0m              \u001b[1;36m0.27\u001b[0m           \u001b[1;36m0.0\u001b[0m               \u001b[1;36m0.00\u001b[0m    Necessities  \n",
       "\n",
       "\u001b[1m[\u001b[0m\u001b[1;36m4900\u001b[0m rows x \u001b[1;36m13\u001b[0m columns\u001b[1m]\u001b[0m"
      ]
     },
     "execution_count": 4,
     "metadata": {},
     "output_type": "execute_result"
    }
   ],
   "source": [
    "%reload_kedro\n",
    "df = catalog.load(\"model_data\")\n",
    "df"
   ]
  },
  {
   "cell_type": "code",
   "execution_count": 10,
   "metadata": {},
   "outputs": [
    {
     "data": {
      "text/html": [
       "<pre style=\"white-space:pre;overflow-x:auto;line-height:normal;font-family:Menlo,'DejaVu Sans Mono',consolas,'Courier New',monospace\"></pre>\n"
      ],
      "text/plain": []
     },
     "metadata": {},
     "output_type": "display_data"
    },
    {
     "data": {
      "text/html": [
       "<div>\n",
       "<style scoped>\n",
       "    .dataframe tbody tr th:only-of-type {\n",
       "        vertical-align: middle;\n",
       "    }\n",
       "\n",
       "    .dataframe tbody tr th {\n",
       "        vertical-align: top;\n",
       "    }\n",
       "\n",
       "    .dataframe thead th {\n",
       "        text-align: right;\n",
       "    }\n",
       "</style>\n",
       "<table border=\"1\" class=\"dataframe\">\n",
       "  <thead>\n",
       "    <tr style=\"text-align: right;\">\n",
       "      <th></th>\n",
       "      <th>total_minus_current</th>\n",
       "      <th>current_available_limit_ratio</th>\n",
       "      <th>is_the_state_conf</th>\n",
       "      <th>is_the_same_city</th>\n",
       "      <th>label</th>\n",
       "    </tr>\n",
       "  </thead>\n",
       "  <tbody>\n",
       "    <tr>\n",
       "      <th>3340</th>\n",
       "      <td>2637</td>\n",
       "      <td>0.023333</td>\n",
       "      <td>0.94</td>\n",
       "      <td>1.0</td>\n",
       "      <td>Discretionary</td>\n",
       "    </tr>\n",
       "    <tr>\n",
       "      <th>1148</th>\n",
       "      <td>441</td>\n",
       "      <td>0.632500</td>\n",
       "      <td>0.94</td>\n",
       "      <td>1.0</td>\n",
       "      <td>Discretionary</td>\n",
       "    </tr>\n",
       "    <tr>\n",
       "      <th>4467</th>\n",
       "      <td>416</td>\n",
       "      <td>0.168000</td>\n",
       "      <td>0.94</td>\n",
       "      <td>1.0</td>\n",
       "      <td>Necessities</td>\n",
       "    </tr>\n",
       "    <tr>\n",
       "      <th>3122</th>\n",
       "      <td>1598</td>\n",
       "      <td>0.500625</td>\n",
       "      <td>0.94</td>\n",
       "      <td>1.0</td>\n",
       "      <td>Discretionary</td>\n",
       "    </tr>\n",
       "    <tr>\n",
       "      <th>2547</th>\n",
       "      <td>1337</td>\n",
       "      <td>0.966575</td>\n",
       "      <td>0.00</td>\n",
       "      <td>0.4</td>\n",
       "      <td>Travel</td>\n",
       "    </tr>\n",
       "    <tr>\n",
       "      <th>...</th>\n",
       "      <td>...</td>\n",
       "      <td>...</td>\n",
       "      <td>...</td>\n",
       "      <td>...</td>\n",
       "      <td>...</td>\n",
       "    </tr>\n",
       "    <tr>\n",
       "      <th>2728</th>\n",
       "      <td>-166</td>\n",
       "      <td>1.030182</td>\n",
       "      <td>0.94</td>\n",
       "      <td>1.0</td>\n",
       "      <td>Necessities</td>\n",
       "    </tr>\n",
       "    <tr>\n",
       "      <th>381</th>\n",
       "      <td>-441</td>\n",
       "      <td>1.080182</td>\n",
       "      <td>0.94</td>\n",
       "      <td>0.4</td>\n",
       "      <td>Necessities</td>\n",
       "    </tr>\n",
       "    <tr>\n",
       "      <th>149</th>\n",
       "      <td>2633</td>\n",
       "      <td>0.307105</td>\n",
       "      <td>0.94</td>\n",
       "      <td>1.0</td>\n",
       "      <td>Necessities</td>\n",
       "    </tr>\n",
       "    <tr>\n",
       "      <th>3315</th>\n",
       "      <td>3355</td>\n",
       "      <td>0.161250</td>\n",
       "      <td>0.94</td>\n",
       "      <td>1.0</td>\n",
       "      <td>Discretionary</td>\n",
       "    </tr>\n",
       "    <tr>\n",
       "      <th>534</th>\n",
       "      <td>478</td>\n",
       "      <td>0.869041</td>\n",
       "      <td>0.94</td>\n",
       "      <td>1.0</td>\n",
       "      <td>Necessities</td>\n",
       "    </tr>\n",
       "  </tbody>\n",
       "</table>\n",
       "<p>100 rows × 5 columns</p>\n",
       "</div>"
      ],
      "text/plain": [
       "\n",
       "      total_minus_current  current_available_limit_ratio  is_the_state_conf  \\\n",
       "\u001b[1;36m3340\u001b[0m                 \u001b[1;36m2637\u001b[0m                       \u001b[1;36m0.023333\u001b[0m               \u001b[1;36m0.94\u001b[0m   \n",
       "\u001b[1;36m1148\u001b[0m                  \u001b[1;36m441\u001b[0m                       \u001b[1;36m0.632500\u001b[0m               \u001b[1;36m0.94\u001b[0m   \n",
       "\u001b[1;36m4467\u001b[0m                  \u001b[1;36m416\u001b[0m                       \u001b[1;36m0.168000\u001b[0m               \u001b[1;36m0.94\u001b[0m   \n",
       "\u001b[1;36m3122\u001b[0m                 \u001b[1;36m1598\u001b[0m                       \u001b[1;36m0.500625\u001b[0m               \u001b[1;36m0.94\u001b[0m   \n",
       "\u001b[1;36m2547\u001b[0m                 \u001b[1;36m1337\u001b[0m                       \u001b[1;36m0.966575\u001b[0m               \u001b[1;36m0.00\u001b[0m   \n",
       "\u001b[33m...\u001b[0m                   \u001b[33m...\u001b[0m                            \u001b[33m...\u001b[0m                \u001b[33m...\u001b[0m   \n",
       "\u001b[1;36m2728\u001b[0m                 \u001b[1;36m-166\u001b[0m                       \u001b[1;36m1.030182\u001b[0m               \u001b[1;36m0.94\u001b[0m   \n",
       "\u001b[1;36m381\u001b[0m                  \u001b[1;36m-441\u001b[0m                       \u001b[1;36m1.080182\u001b[0m               \u001b[1;36m0.94\u001b[0m   \n",
       "\u001b[1;36m149\u001b[0m                  \u001b[1;36m2633\u001b[0m                       \u001b[1;36m0.307105\u001b[0m               \u001b[1;36m0.94\u001b[0m   \n",
       "\u001b[1;36m3315\u001b[0m                 \u001b[1;36m3355\u001b[0m                       \u001b[1;36m0.161250\u001b[0m               \u001b[1;36m0.94\u001b[0m   \n",
       "\u001b[1;36m534\u001b[0m                   \u001b[1;36m478\u001b[0m                       \u001b[1;36m0.869041\u001b[0m               \u001b[1;36m0.94\u001b[0m   \n",
       "\n",
       "      is_the_same_city          label  \n",
       "\u001b[1;36m3340\u001b[0m               \u001b[1;36m1.0\u001b[0m  Discretionary  \n",
       "\u001b[1;36m1148\u001b[0m               \u001b[1;36m1.0\u001b[0m  Discretionary  \n",
       "\u001b[1;36m4467\u001b[0m               \u001b[1;36m1.0\u001b[0m    Necessities  \n",
       "\u001b[1;36m3122\u001b[0m               \u001b[1;36m1.0\u001b[0m  Discretionary  \n",
       "\u001b[1;36m2547\u001b[0m               \u001b[1;36m0.4\u001b[0m         Travel  \n",
       "\u001b[33m...\u001b[0m                \u001b[33m...\u001b[0m            \u001b[33m...\u001b[0m  \n",
       "\u001b[1;36m2728\u001b[0m               \u001b[1;36m1.0\u001b[0m    Necessities  \n",
       "\u001b[1;36m381\u001b[0m                \u001b[1;36m0.4\u001b[0m    Necessities  \n",
       "\u001b[1;36m149\u001b[0m                \u001b[1;36m1.0\u001b[0m    Necessities  \n",
       "\u001b[1;36m3315\u001b[0m               \u001b[1;36m1.0\u001b[0m  Discretionary  \n",
       "\u001b[1;36m534\u001b[0m                \u001b[1;36m1.0\u001b[0m    Necessities  \n",
       "\n",
       "\u001b[1m[\u001b[0m\u001b[1;36m100\u001b[0m rows x \u001b[1;36m5\u001b[0m columns\u001b[1m]\u001b[0m"
      ]
     },
     "execution_count": 10,
     "metadata": {},
     "output_type": "execute_result"
    }
   ],
   "source": [
    "min_df = df[['total_minus_current', 'current_available_limit_ratio', 'is_the_state_conf', 'is_the_same_city', 'label']].sample(100, random_state=0)\n",
    "min_df"
   ]
  },
  {
   "cell_type": "code",
   "execution_count": 13,
   "metadata": {},
   "outputs": [
    {
     "data": {
      "text/html": [
       "<pre style=\"white-space:pre;overflow-x:auto;line-height:normal;font-family:Menlo,'DejaVu Sans Mono',consolas,'Courier New',monospace\"></pre>\n"
      ],
      "text/plain": []
     },
     "metadata": {},
     "output_type": "display_data"
    },
    {
     "data": {
      "text/plain": [
       "\u001b[1m<\u001b[0m\u001b[1;95mseaborn.axisgrid.PairGrid\u001b[0m\u001b[39m object at \u001b[0m\u001b[1;36m0x13f85f670\u001b[0m\u001b[1m>\u001b[0m"
      ]
     },
     "execution_count": 13,
     "metadata": {},
     "output_type": "execute_result"
    },
    {
     "data": {
      "text/html": [
       "<pre style=\"white-space:pre;overflow-x:auto;line-height:normal;font-family:Menlo,'DejaVu Sans Mono',consolas,'Courier New',monospace\"></pre>\n"
      ],
      "text/plain": []
     },
     "metadata": {},
     "output_type": "display_data"
    },
    {
     "data": {
      "image/png": "[encoded data removed]",
      "text/plain": [
       "\u001b[1m<\u001b[0m\u001b[1;95mFigure\u001b[0m\u001b[39m size \u001b[0m\u001b[1;36m1144.\u001b[0m\u001b[39m12x1000 with \u001b[0m\u001b[1;36m20\u001b[0m\u001b[39m Axes\u001b[0m\u001b[1m>\u001b[0m"
      ]
     },
     "metadata": {},
     "output_type": "display_data"
    }
   ],
   "source": [
    "sns.set_theme(style=\"ticks\")\n",
    "sns.pairplot(min_df, hue=\"label\")"
   ]
  },
  {
   "cell_type": "code",
   "execution_count": null,
   "metadata": {},
   "outputs": [],
   "source": []
  }
 ],
 "metadata": {
  "kernelspec": {
   "display_name": "kedro-environment",
   "language": "python",
   "name": "python3"
  },
  "language_info": {
   "codemirror_mode": {
    "name": "ipython",
    "version": 3
   },
   "file_extension": ".py",
   "mimetype": "text/x-python",
   "name": "python",
   "nbconvert_exporter": "python",
   "pygments_lexer": "ipython3",
   "version": "3.10.14"
  }
 },
 "nbformat": 4,
 "nbformat_minor": 2
}
