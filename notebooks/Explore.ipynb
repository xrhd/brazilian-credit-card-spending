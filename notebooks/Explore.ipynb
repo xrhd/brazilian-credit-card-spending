{
 "cells": [
  {
   "cell_type": "markdown",
   "metadata": {},
   "source": [
    "# Setup"
   ]
  },
  {
   "cell_type": "code",
   "execution_count": 237,
   "metadata": {},
   "outputs": [],
   "source": [
    "import pandas as pd\n",
    "import numpy as np"
   ]
  },
  {
   "cell_type": "code",
   "execution_count": 238,
   "metadata": {},
   "outputs": [
    {
     "name": "stdout",
     "output_type": "stream",
     "text": [
      "The kedro.ipython extension is already loaded. To reload it, use:\n",
      "  %reload_ext kedro.ipython\n"
     ]
    }
   ],
   "source": [
    "%load_ext kedro.ipython"
   ]
  },
  {
   "cell_type": "code",
   "execution_count": 239,
   "metadata": {},
   "outputs": [
    {
     "data": {
      "text/html": [
       "<pre style=\"white-space:pre;overflow-x:auto;line-height:normal;font-family:Menlo,'DejaVu Sans Mono',consolas,'Courier New',monospace\"></pre>\n"
      ],
      "text/plain": []
     },
     "metadata": {},
     "output_type": "display_data"
    },
    {
     "data": {
      "text/plain": [
       "\u001b[1m[\u001b[0m\u001b[32m'mibolsillo'\u001b[0m, \u001b[32m'preprocessed_mibolsillo'\u001b[0m, \u001b[32m'parameters'\u001b[0m\u001b[1m]\u001b[0m"
      ]
     },
     "execution_count": 239,
     "metadata": {},
     "output_type": "execute_result"
    }
   ],
   "source": [
    "catalog.list()"
   ]
  },
  {
   "cell_type": "markdown",
   "metadata": {},
   "source": [
    "# Raw data"
   ]
  },
  {
   "cell_type": "code",
   "execution_count": 240,
   "metadata": {},
   "outputs": [
    {
     "data": {
      "text/html": [
       "<pre style=\"white-space:pre;overflow-x:auto;line-height:normal;font-family:Menlo,'DejaVu Sans Mono',consolas,'Courier New',monospace\"><span style=\"color: #7fbfbf; text-decoration-color: #7fbfbf\">[03/31/24 21:08:57] </span><span style=\"color: #000080; text-decoration-color: #000080\">INFO    </span> Resolved project path as:                                              <a href=\"file:///usr/local/Caskroom/miniforge/base/envs/kedro-environment/lib/python3.10/site-packages/kedro/ipython/__init__.py\" target=\"_blank\"><span style=\"color: #7f7f7f; text-decoration-color: #7f7f7f\">__init__.py</span></a><span style=\"color: #7f7f7f; text-decoration-color: #7f7f7f\">:</span><a href=\"file:///usr/local/Caskroom/miniforge/base/envs/kedro-environment/lib/python3.10/site-packages/kedro/ipython/__init__.py#164\" target=\"_blank\"><span style=\"color: #7f7f7f; text-decoration-color: #7f7f7f\">164</span></a>\n",
       "<span style=\"color: #7fbfbf; text-decoration-color: #7fbfbf\">                    </span>         <span style=\"color: #800080; text-decoration-color: #800080\">/Users/richarddegaki/repos/xrhd/</span><span style=\"color: #ff00ff; text-decoration-color: #ff00ff\">brazilian-credit-card-spending.</span>        <span style=\"color: #7f7f7f; text-decoration-color: #7f7f7f\">               </span>\n",
       "<span style=\"color: #7fbfbf; text-decoration-color: #7fbfbf\">                    </span>         To set a different path, run <span style=\"color: #008000; text-decoration-color: #008000\">'%reload_kedro &lt;project_root&gt;'</span>            <span style=\"color: #7f7f7f; text-decoration-color: #7f7f7f\">               </span>\n",
       "</pre>\n"
      ],
      "text/plain": [
       "\u001b[2;36m[03/31/24 21:08:57]\u001b[0m\u001b[2;36m \u001b[0m\u001b[34mINFO    \u001b[0m Resolved project path as:                                              \u001b]8;id=173396;file:///usr/local/Caskroom/miniforge/base/envs/kedro-environment/lib/python3.10/site-packages/kedro/ipython/__init__.py\u001b\\\u001b[2m__init__.py\u001b[0m\u001b]8;;\u001b\\\u001b[2m:\u001b[0m\u001b]8;id=789840;file:///usr/local/Caskroom/miniforge/base/envs/kedro-environment/lib/python3.10/site-packages/kedro/ipython/__init__.py#164\u001b\\\u001b[2m164\u001b[0m\u001b]8;;\u001b\\\n",
       "\u001b[2;36m                    \u001b[0m         \u001b[35m/Users/richarddegaki/repos/xrhd/\u001b[0m\u001b[95mbrazilian-credit-card-spending.\u001b[0m        \u001b[2m               \u001b[0m\n",
       "\u001b[2;36m                    \u001b[0m         To set a different path, run \u001b[32m'%reload_kedro \u001b[0m\u001b[32m<\u001b[0m\u001b[32mproject_root\u001b[0m\u001b[32m>\u001b[0m\u001b[32m'\u001b[0m            \u001b[2m               \u001b[0m\n"
      ]
     },
     "metadata": {},
     "output_type": "display_data"
    },
    {
     "data": {
      "text/html": [
       "<pre style=\"white-space:pre;overflow-x:auto;line-height:normal;font-family:Menlo,'DejaVu Sans Mono',consolas,'Courier New',monospace\"><span style=\"color: #7fbfbf; text-decoration-color: #7fbfbf\">[03/31/24 21:08:58] </span><span style=\"color: #000080; text-decoration-color: #000080\">INFO    </span> Kedro project Brazilian Credit Card Spending                           <a href=\"file:///usr/local/Caskroom/miniforge/base/envs/kedro-environment/lib/python3.10/site-packages/kedro/ipython/__init__.py\" target=\"_blank\"><span style=\"color: #7f7f7f; text-decoration-color: #7f7f7f\">__init__.py</span></a><span style=\"color: #7f7f7f; text-decoration-color: #7f7f7f\">:</span><a href=\"file:///usr/local/Caskroom/miniforge/base/envs/kedro-environment/lib/python3.10/site-packages/kedro/ipython/__init__.py#134\" target=\"_blank\"><span style=\"color: #7f7f7f; text-decoration-color: #7f7f7f\">134</span></a>\n",
       "</pre>\n"
      ],
      "text/plain": [
       "\u001b[2;36m[03/31/24 21:08:58]\u001b[0m\u001b[2;36m \u001b[0m\u001b[34mINFO    \u001b[0m Kedro project Brazilian Credit Card Spending                           \u001b]8;id=334499;file:///usr/local/Caskroom/miniforge/base/envs/kedro-environment/lib/python3.10/site-packages/kedro/ipython/__init__.py\u001b\\\u001b[2m__init__.py\u001b[0m\u001b]8;;\u001b\\\u001b[2m:\u001b[0m\u001b]8;id=905549;file:///usr/local/Caskroom/miniforge/base/envs/kedro-environment/lib/python3.10/site-packages/kedro/ipython/__init__.py#134\u001b\\\u001b[2m134\u001b[0m\u001b]8;;\u001b\\\n"
      ]
     },
     "metadata": {},
     "output_type": "display_data"
    },
    {
     "data": {
      "text/html": [
       "<pre style=\"white-space:pre;overflow-x:auto;line-height:normal;font-family:Menlo,'DejaVu Sans Mono',consolas,'Courier New',monospace\"><span style=\"color: #7fbfbf; text-decoration-color: #7fbfbf\">                    </span><span style=\"color: #000080; text-decoration-color: #000080\">INFO    </span> Defined global variable <span style=\"color: #008000; text-decoration-color: #008000\">'context'</span>, <span style=\"color: #008000; text-decoration-color: #008000\">'session'</span>, <span style=\"color: #008000; text-decoration-color: #008000\">'catalog'</span> and            <a href=\"file:///usr/local/Caskroom/miniforge/base/envs/kedro-environment/lib/python3.10/site-packages/kedro/ipython/__init__.py\" target=\"_blank\"><span style=\"color: #7f7f7f; text-decoration-color: #7f7f7f\">__init__.py</span></a><span style=\"color: #7f7f7f; text-decoration-color: #7f7f7f\">:</span><a href=\"file:///usr/local/Caskroom/miniforge/base/envs/kedro-environment/lib/python3.10/site-packages/kedro/ipython/__init__.py#135\" target=\"_blank\"><span style=\"color: #7f7f7f; text-decoration-color: #7f7f7f\">135</span></a>\n",
       "<span style=\"color: #7fbfbf; text-decoration-color: #7fbfbf\">                    </span>         <span style=\"color: #008000; text-decoration-color: #008000\">'pipelines'</span>                                                            <span style=\"color: #7f7f7f; text-decoration-color: #7f7f7f\">               </span>\n",
       "</pre>\n"
      ],
      "text/plain": [
       "\u001b[2;36m                   \u001b[0m\u001b[2;36m \u001b[0m\u001b[34mINFO    \u001b[0m Defined global variable \u001b[32m'context'\u001b[0m, \u001b[32m'session'\u001b[0m, \u001b[32m'catalog'\u001b[0m and            \u001b]8;id=174616;file:///usr/local/Caskroom/miniforge/base/envs/kedro-environment/lib/python3.10/site-packages/kedro/ipython/__init__.py\u001b\\\u001b[2m__init__.py\u001b[0m\u001b]8;;\u001b\\\u001b[2m:\u001b[0m\u001b]8;id=377623;file:///usr/local/Caskroom/miniforge/base/envs/kedro-environment/lib/python3.10/site-packages/kedro/ipython/__init__.py#135\u001b\\\u001b[2m135\u001b[0m\u001b]8;;\u001b\\\n",
       "\u001b[2;36m                    \u001b[0m         \u001b[32m'pipelines'\u001b[0m                                                            \u001b[2m               \u001b[0m\n"
      ]
     },
     "metadata": {},
     "output_type": "display_data"
    },
    {
     "data": {
      "text/html": [
       "<pre style=\"white-space:pre;overflow-x:auto;line-height:normal;font-family:Menlo,'DejaVu Sans Mono',consolas,'Courier New',monospace\"><span style=\"color: #7fbfbf; text-decoration-color: #7fbfbf\">                    </span><span style=\"color: #000080; text-decoration-color: #000080\">INFO    </span> Registered line magic <span style=\"color: #008000; text-decoration-color: #008000\">'run_viz'</span>                                        <a href=\"file:///usr/local/Caskroom/miniforge/base/envs/kedro-environment/lib/python3.10/site-packages/kedro/ipython/__init__.py\" target=\"_blank\"><span style=\"color: #7f7f7f; text-decoration-color: #7f7f7f\">__init__.py</span></a><span style=\"color: #7f7f7f; text-decoration-color: #7f7f7f\">:</span><a href=\"file:///usr/local/Caskroom/miniforge/base/envs/kedro-environment/lib/python3.10/site-packages/kedro/ipython/__init__.py#141\" target=\"_blank\"><span style=\"color: #7f7f7f; text-decoration-color: #7f7f7f\">141</span></a>\n",
       "</pre>\n"
      ],
      "text/plain": [
       "\u001b[2;36m                   \u001b[0m\u001b[2;36m \u001b[0m\u001b[34mINFO    \u001b[0m Registered line magic \u001b[32m'run_viz'\u001b[0m                                        \u001b]8;id=721570;file:///usr/local/Caskroom/miniforge/base/envs/kedro-environment/lib/python3.10/site-packages/kedro/ipython/__init__.py\u001b\\\u001b[2m__init__.py\u001b[0m\u001b]8;;\u001b\\\u001b[2m:\u001b[0m\u001b]8;id=176555;file:///usr/local/Caskroom/miniforge/base/envs/kedro-environment/lib/python3.10/site-packages/kedro/ipython/__init__.py#141\u001b\\\u001b[2m141\u001b[0m\u001b]8;;\u001b\\\n"
      ]
     },
     "metadata": {},
     "output_type": "display_data"
    },
    {
     "data": {
      "text/html": [
       "<pre style=\"white-space:pre;overflow-x:auto;line-height:normal;font-family:Menlo,'DejaVu Sans Mono',consolas,'Courier New',monospace\"><span style=\"color: #7fbfbf; text-decoration-color: #7fbfbf\">                    </span><span style=\"color: #000080; text-decoration-color: #000080\">INFO    </span> Loading data from <span style=\"color: #ff8700; text-decoration-color: #ff8700\">mibolsillo</span> <span style=\"font-weight: bold\">(</span>CSVDataset<span style=\"font-weight: bold\">)</span><span style=\"color: #808000; text-decoration-color: #808000\">...</span>                       <a href=\"file:///usr/local/Caskroom/miniforge/base/envs/kedro-environment/lib/python3.10/site-packages/kedro/io/data_catalog.py\" target=\"_blank\"><span style=\"color: #7f7f7f; text-decoration-color: #7f7f7f\">data_catalog.py</span></a><span style=\"color: #7f7f7f; text-decoration-color: #7f7f7f\">:</span><a href=\"file:///usr/local/Caskroom/miniforge/base/envs/kedro-environment/lib/python3.10/site-packages/kedro/io/data_catalog.py#483\" target=\"_blank\"><span style=\"color: #7f7f7f; text-decoration-color: #7f7f7f\">483</span></a>\n",
       "</pre>\n"
      ],
      "text/plain": [
       "\u001b[2;36m                   \u001b[0m\u001b[2;36m \u001b[0m\u001b[34mINFO    \u001b[0m Loading data from \u001b[38;5;208mmibolsillo\u001b[0m \u001b[1m(\u001b[0mCSVDataset\u001b[1m)\u001b[0m\u001b[33m...\u001b[0m                       \u001b]8;id=167356;file:///usr/local/Caskroom/miniforge/base/envs/kedro-environment/lib/python3.10/site-packages/kedro/io/data_catalog.py\u001b\\\u001b[2mdata_catalog.py\u001b[0m\u001b]8;;\u001b\\\u001b[2m:\u001b[0m\u001b]8;id=967761;file:///usr/local/Caskroom/miniforge/base/envs/kedro-environment/lib/python3.10/site-packages/kedro/io/data_catalog.py#483\u001b\\\u001b[2m483\u001b[0m\u001b]8;;\u001b\\\n"
      ]
     },
     "metadata": {},
     "output_type": "display_data"
    },
    {
     "data": {
      "text/html": [
       "<pre style=\"white-space:pre;overflow-x:auto;line-height:normal;font-family:Menlo,'DejaVu Sans Mono',consolas,'Courier New',monospace\"></pre>\n"
      ],
      "text/plain": []
     },
     "metadata": {},
     "output_type": "display_data"
    },
    {
     "data": {
      "text/html": [
       "<div>\n",
       "<style scoped>\n",
       "    .dataframe tbody tr th:only-of-type {\n",
       "        vertical-align: middle;\n",
       "    }\n",
       "\n",
       "    .dataframe tbody tr th {\n",
       "        vertical-align: top;\n",
       "    }\n",
       "\n",
       "    .dataframe thead th {\n",
       "        text-align: right;\n",
       "    }\n",
       "</style>\n",
       "<table border=\"1\" class=\"dataframe\">\n",
       "  <thead>\n",
       "    <tr style=\"text-align: right;\">\n",
       "      <th></th>\n",
       "      <th>id</th>\n",
       "      <th>branch_number</th>\n",
       "      <th>city</th>\n",
       "      <th>state</th>\n",
       "      <th>age</th>\n",
       "      <th>gender</th>\n",
       "      <th>total_credit_card_limit</th>\n",
       "      <th>current_available_limit</th>\n",
       "      <th>date</th>\n",
       "      <th>amount</th>\n",
       "      <th>category_expense</th>\n",
       "      <th>purchase_city</th>\n",
       "      <th>purchase_country</th>\n",
       "    </tr>\n",
       "  </thead>\n",
       "  <tbody>\n",
       "    <tr>\n",
       "      <th>0</th>\n",
       "      <td>4,53E+11</td>\n",
       "      <td>201405</td>\n",
       "      <td>CAMPO LIMPO PAULISTA</td>\n",
       "      <td>SP</td>\n",
       "      <td>37</td>\n",
       "      <td>F</td>\n",
       "      <td>4700</td>\n",
       "      <td>5605</td>\n",
       "      <td>2019-12-04</td>\n",
       "      <td>31</td>\n",
       "      <td>SERVI‚O</td>\n",
       "      <td>SAO PAULO</td>\n",
       "      <td>BR</td>\n",
       "    </tr>\n",
       "    <tr>\n",
       "      <th>1</th>\n",
       "      <td>4,53E+11</td>\n",
       "      <td>201405</td>\n",
       "      <td>CAMPO LIMPO PAULISTA</td>\n",
       "      <td>SP</td>\n",
       "      <td>37</td>\n",
       "      <td>F</td>\n",
       "      <td>4700</td>\n",
       "      <td>5343</td>\n",
       "      <td>2019-11-09</td>\n",
       "      <td>150,01</td>\n",
       "      <td>FARMACIAS</td>\n",
       "      <td>SANTOS</td>\n",
       "      <td>BR</td>\n",
       "    </tr>\n",
       "    <tr>\n",
       "      <th>2</th>\n",
       "      <td>4,53E+11</td>\n",
       "      <td>201405</td>\n",
       "      <td>CAMPO LIMPO PAULISTA</td>\n",
       "      <td>SP</td>\n",
       "      <td>37</td>\n",
       "      <td>F</td>\n",
       "      <td>4700</td>\n",
       "      <td>2829</td>\n",
       "      <td>2019-05-06</td>\n",
       "      <td>50</td>\n",
       "      <td>SERVI‚O</td>\n",
       "      <td>SAO PAULO</td>\n",
       "      <td>BR</td>\n",
       "    </tr>\n",
       "    <tr>\n",
       "      <th>3</th>\n",
       "      <td>4,53E+11</td>\n",
       "      <td>201405</td>\n",
       "      <td>CAMPO LIMPO PAULISTA</td>\n",
       "      <td>SP</td>\n",
       "      <td>37</td>\n",
       "      <td>F</td>\n",
       "      <td>4700</td>\n",
       "      <td>2547</td>\n",
       "      <td>2019-06-01</td>\n",
       "      <td>54,4</td>\n",
       "      <td>M.O.T.O.</td>\n",
       "      <td>OSASCO</td>\n",
       "      <td>BR</td>\n",
       "    </tr>\n",
       "    <tr>\n",
       "      <th>4</th>\n",
       "      <td>4,53E+11</td>\n",
       "      <td>201405</td>\n",
       "      <td>CAMPO LIMPO PAULISTA</td>\n",
       "      <td>SP</td>\n",
       "      <td>37</td>\n",
       "      <td>F</td>\n",
       "      <td>4700</td>\n",
       "      <td>2515</td>\n",
       "      <td>2019-06-01</td>\n",
       "      <td>32,79</td>\n",
       "      <td>M.O.T.O.</td>\n",
       "      <td>OSASCO</td>\n",
       "      <td>BR</td>\n",
       "    </tr>\n",
       "  </tbody>\n",
       "</table>\n",
       "</div>"
      ],
      "text/plain": [
       "\n",
       "         id  branch_number                    city state  age gender  \\\n",
       "\u001b[1;36m0\u001b[0m  \u001b[1;36m4\u001b[0m,53E+\u001b[1;36m11\u001b[0m         \u001b[1;36m201405\u001b[0m  CAMPO LIMPO PAULISTA     SP    \u001b[1;36m37\u001b[0m      F   \n",
       "\u001b[1;36m1\u001b[0m  \u001b[1;36m4\u001b[0m,53E+\u001b[1;36m11\u001b[0m         \u001b[1;36m201405\u001b[0m  CAMPO LIMPO PAULISTA     SP    \u001b[1;36m37\u001b[0m      F   \n",
       "\u001b[1;36m2\u001b[0m  \u001b[1;36m4\u001b[0m,53E+\u001b[1;36m11\u001b[0m         \u001b[1;36m201405\u001b[0m  CAMPO LIMPO PAULISTA     SP    \u001b[1;36m37\u001b[0m      F   \n",
       "\u001b[1;36m3\u001b[0m  \u001b[1;36m4\u001b[0m,53E+\u001b[1;36m11\u001b[0m         \u001b[1;36m201405\u001b[0m  CAMPO LIMPO PAULISTA     SP    \u001b[1;36m37\u001b[0m      F   \n",
       "\u001b[1;36m4\u001b[0m  \u001b[1;36m4\u001b[0m,53E+\u001b[1;36m11\u001b[0m         \u001b[1;36m201405\u001b[0m  CAMPO LIMPO PAULISTA     SP    \u001b[1;36m37\u001b[0m      F   \n",
       "\n",
       "   total_credit_card_limit  current_available_limit       date  amount  \\\n",
       "\u001b[1;36m0\u001b[0m                     \u001b[1;36m4700\u001b[0m                     \u001b[1;36m5605\u001b[0m \u001b[1;36m2019\u001b[0m-\u001b[1;36m12\u001b[0m-\u001b[1;36m04\u001b[0m      \u001b[1;36m31\u001b[0m   \n",
       "\u001b[1;36m1\u001b[0m                     \u001b[1;36m4700\u001b[0m                     \u001b[1;36m5343\u001b[0m \u001b[1;36m2019\u001b[0m-\u001b[1;36m11\u001b[0m-\u001b[1;36m09\u001b[0m  \u001b[1;36m150\u001b[0m,\u001b[1;36m01\u001b[0m   \n",
       "\u001b[1;36m2\u001b[0m                     \u001b[1;36m4700\u001b[0m                     \u001b[1;36m2829\u001b[0m \u001b[1;36m2019\u001b[0m-\u001b[1;36m05\u001b[0m-\u001b[1;36m06\u001b[0m      \u001b[1;36m50\u001b[0m   \n",
       "\u001b[1;36m3\u001b[0m                     \u001b[1;36m4700\u001b[0m                     \u001b[1;36m2547\u001b[0m \u001b[1;36m2019\u001b[0m-\u001b[1;36m06\u001b[0m-\u001b[1;36m01\u001b[0m    \u001b[1;36m54\u001b[0m,\u001b[1;36m4\u001b[0m   \n",
       "\u001b[1;36m4\u001b[0m                     \u001b[1;36m4700\u001b[0m                     \u001b[1;36m2515\u001b[0m \u001b[1;36m2019\u001b[0m-\u001b[1;36m06\u001b[0m-\u001b[1;36m01\u001b[0m   \u001b[1;36m32\u001b[0m,\u001b[1;36m79\u001b[0m   \n",
       "\n",
       "  category_expense purchase_city purchase_country  \n",
       "\u001b[1;36m0\u001b[0m          SERVI‚O     SAO PAULO               BR  \n",
       "\u001b[1;36m1\u001b[0m        FARMACIAS        SANTOS               BR  \n",
       "\u001b[1;36m2\u001b[0m          SERVI‚O     SAO PAULO               BR  \n",
       "\u001b[1;36m3\u001b[0m         M.O.T.O.        OSASCO               BR  \n",
       "\u001b[1;36m4\u001b[0m         M.O.T.O.        OSASCO               BR  "
      ]
     },
     "execution_count": 240,
     "metadata": {},
     "output_type": "execute_result"
    }
   ],
   "source": [
    "%reload_kedro\n",
    "df = catalog.load(\"mibolsillo\")\n",
    "df.head()"
   ]
  },
  {
   "cell_type": "code",
   "execution_count": 241,
   "metadata": {},
   "outputs": [
    {
     "data": {
      "text/html": [
       "<pre style=\"white-space:pre;overflow-x:auto;line-height:normal;font-family:Menlo,'DejaVu Sans Mono',consolas,'Courier New',monospace\"></pre>\n"
      ],
      "text/plain": []
     },
     "metadata": {},
     "output_type": "display_data"
    },
    {
     "data": {
      "text/plain": [
       "\u001b[1m(\u001b[0m\u001b[1;36m4955\u001b[0m, \u001b[1;36m13\u001b[0m\u001b[1m)\u001b[0m"
      ]
     },
     "metadata": {},
     "output_type": "display_data"
    },
    {
     "data": {
      "text/html": [
       "<pre style=\"white-space:pre;overflow-x:auto;line-height:normal;font-family:Menlo,'DejaVu Sans Mono',consolas,'Courier New',monospace\"></pre>\n"
      ],
      "text/plain": []
     },
     "metadata": {},
     "output_type": "display_data"
    },
    {
     "data": {
      "text/plain": [
       "\n",
       "id                                 object\n",
       "branch_number                       int64\n",
       "city                               object\n",
       "state                              object\n",
       "age                                 int64\n",
       "gender                             object\n",
       "total_credit_card_limit             int64\n",
       "current_available_limit             int64\n",
       "date                       datetime64\u001b[1m[\u001b[0mns\u001b[1m]\u001b[0m\n",
       "amount                             object\n",
       "category_expense                   object\n",
       "purchase_city                      object\n",
       "purchase_country                   object\n",
       "dtype: object"
      ]
     },
     "metadata": {},
     "output_type": "display_data"
    },
    {
     "data": {
      "text/html": [
       "<pre style=\"white-space:pre;overflow-x:auto;line-height:normal;font-family:Menlo,'DejaVu Sans Mono',consolas,'Courier New',monospace\"></pre>\n"
      ],
      "text/plain": []
     },
     "metadata": {},
     "output_type": "display_data"
    },
    {
     "data": {
      "text/plain": [
       "\u001b[1;36m3\u001b[0m"
      ]
     },
     "metadata": {},
     "output_type": "display_data"
    },
    {
     "data": {
      "text/html": [
       "<pre style=\"white-space:pre;overflow-x:auto;line-height:normal;font-family:Menlo,'DejaVu Sans Mono',consolas,'Courier New',monospace\"></pre>\n"
      ],
      "text/plain": []
     },
     "metadata": {},
     "output_type": "display_data"
    },
    {
     "data": {
      "text/plain": [
       "\n",
       "id                          \u001b[1;36m0\u001b[0m\n",
       "branch_number               \u001b[1;36m0\u001b[0m\n",
       "city                        \u001b[1;36m0\u001b[0m\n",
       "state                       \u001b[1;36m0\u001b[0m\n",
       "age                         \u001b[1;36m0\u001b[0m\n",
       "gender                      \u001b[1;36m0\u001b[0m\n",
       "total_credit_card_limit     \u001b[1;36m0\u001b[0m\n",
       "current_available_limit     \u001b[1;36m0\u001b[0m\n",
       "date                        \u001b[1;36m0\u001b[0m\n",
       "amount                      \u001b[1;36m0\u001b[0m\n",
       "category_expense            \u001b[1;36m0\u001b[0m\n",
       "purchase_city              \u001b[1;36m19\u001b[0m\n",
       "purchase_country           \u001b[1;36m18\u001b[0m\n",
       "dtype: int64"
      ]
     },
     "metadata": {},
     "output_type": "display_data"
    },
    {
     "data": {
      "text/html": [
       "<pre style=\"white-space:pre;overflow-x:auto;line-height:normal;font-family:Menlo,'DejaVu Sans Mono',consolas,'Courier New',monospace\"></pre>\n"
      ],
      "text/plain": []
     },
     "metadata": {},
     "output_type": "display_data"
    },
    {
     "data": {
      "text/html": [
       "<div>\n",
       "<style scoped>\n",
       "    .dataframe tbody tr th:only-of-type {\n",
       "        vertical-align: middle;\n",
       "    }\n",
       "\n",
       "    .dataframe tbody tr th {\n",
       "        vertical-align: top;\n",
       "    }\n",
       "\n",
       "    .dataframe thead th {\n",
       "        text-align: right;\n",
       "    }\n",
       "</style>\n",
       "<table border=\"1\" class=\"dataframe\">\n",
       "  <thead>\n",
       "    <tr style=\"text-align: right;\">\n",
       "      <th></th>\n",
       "      <th>branch_number</th>\n",
       "      <th>age</th>\n",
       "      <th>total_credit_card_limit</th>\n",
       "      <th>current_available_limit</th>\n",
       "      <th>date</th>\n",
       "    </tr>\n",
       "  </thead>\n",
       "  <tbody>\n",
       "    <tr>\n",
       "      <th>count</th>\n",
       "      <td>4955.000000</td>\n",
       "      <td>4955.000000</td>\n",
       "      <td>4955.000000</td>\n",
       "      <td>4955.000000</td>\n",
       "      <td>4955</td>\n",
       "    </tr>\n",
       "    <tr>\n",
       "      <th>mean</th>\n",
       "      <td>201681.845207</td>\n",
       "      <td>34.115439</td>\n",
       "      <td>8776.958224</td>\n",
       "      <td>6588.513623</td>\n",
       "      <td>2019-10-15 05:53:23.309787904</td>\n",
       "    </tr>\n",
       "    <tr>\n",
       "      <th>min</th>\n",
       "      <td>201008.000000</td>\n",
       "      <td>20.000000</td>\n",
       "      <td>300.000000</td>\n",
       "      <td>0.000000</td>\n",
       "      <td>2019-04-01 00:00:00</td>\n",
       "    </tr>\n",
       "    <tr>\n",
       "      <th>25%</th>\n",
       "      <td>201602.000000</td>\n",
       "      <td>28.000000</td>\n",
       "      <td>3650.000000</td>\n",
       "      <td>1164.500000</td>\n",
       "      <td>2019-07-19 00:00:00</td>\n",
       "    </tr>\n",
       "    <tr>\n",
       "      <th>50%</th>\n",
       "      <td>201710.000000</td>\n",
       "      <td>33.000000</td>\n",
       "      <td>4700.000000</td>\n",
       "      <td>2851.000000</td>\n",
       "      <td>2019-10-21 00:00:00</td>\n",
       "    </tr>\n",
       "    <tr>\n",
       "      <th>75%</th>\n",
       "      <td>201901.000000</td>\n",
       "      <td>37.000000</td>\n",
       "      <td>7500.000000</td>\n",
       "      <td>6089.500000</td>\n",
       "      <td>2020-01-12 00:00:00</td>\n",
       "    </tr>\n",
       "    <tr>\n",
       "      <th>max</th>\n",
       "      <td>201910.000000</td>\n",
       "      <td>53.000000</td>\n",
       "      <td>40000.000000</td>\n",
       "      <td>50000.000000</td>\n",
       "      <td>2020-05-07 00:00:00</td>\n",
       "    </tr>\n",
       "    <tr>\n",
       "      <th>std</th>\n",
       "      <td>228.883487</td>\n",
       "      <td>6.803725</td>\n",
       "      <td>10339.737837</td>\n",
       "      <td>10079.933982</td>\n",
       "      <td>NaN</td>\n",
       "    </tr>\n",
       "  </tbody>\n",
       "</table>\n",
       "</div>"
      ],
      "text/plain": [
       "\n",
       "       branch_number          age  total_credit_card_limit  \\\n",
       "count    \u001b[1;36m4955.000000\u001b[0m  \u001b[1;36m4955.000000\u001b[0m              \u001b[1;36m4955.000000\u001b[0m   \n",
       "mean   \u001b[1;36m201681.845207\u001b[0m    \u001b[1;36m34.115439\u001b[0m              \u001b[1;36m8776.958224\u001b[0m   \n",
       "min    \u001b[1;36m201008.000000\u001b[0m    \u001b[1;36m20.000000\u001b[0m               \u001b[1;36m300.000000\u001b[0m   \n",
       "\u001b[1;36m25\u001b[0m%    \u001b[1;36m201602.000000\u001b[0m    \u001b[1;36m28.000000\u001b[0m              \u001b[1;36m3650.000000\u001b[0m   \n",
       "\u001b[1;36m50\u001b[0m%    \u001b[1;36m201710.000000\u001b[0m    \u001b[1;36m33.000000\u001b[0m              \u001b[1;36m4700.000000\u001b[0m   \n",
       "\u001b[1;36m75\u001b[0m%    \u001b[1;36m201901.000000\u001b[0m    \u001b[1;36m37.000000\u001b[0m              \u001b[1;36m7500.000000\u001b[0m   \n",
       "max    \u001b[1;36m201910.000000\u001b[0m    \u001b[1;36m53.000000\u001b[0m             \u001b[1;36m40000.000000\u001b[0m   \n",
       "std       \u001b[1;36m228.883487\u001b[0m     \u001b[1;36m6.803725\u001b[0m             \u001b[1;36m10339.737837\u001b[0m   \n",
       "\n",
       "       current_available_limit                           date  \n",
       "count              \u001b[1;36m4955.000000\u001b[0m                           \u001b[1;36m4955\u001b[0m  \n",
       "mean               \u001b[1;36m6588.513623\u001b[0m  \u001b[1;36m2019\u001b[0m-\u001b[1;36m10\u001b[0m-\u001b[1;36m15\u001b[0m \u001b[1;92m05:53:23\u001b[0m.\u001b[1;36m309787904\u001b[0m  \n",
       "min                   \u001b[1;36m0.000000\u001b[0m            \u001b[1;36m2019\u001b[0m-\u001b[1;36m04\u001b[0m-\u001b[1;36m01\u001b[0m \u001b[1;92m00:00:00\u001b[0m  \n",
       "\u001b[1;36m25\u001b[0m%                \u001b[1;36m1164.500000\u001b[0m            \u001b[1;36m2019\u001b[0m-\u001b[1;36m07\u001b[0m-\u001b[1;36m19\u001b[0m \u001b[1;92m00:00:00\u001b[0m  \n",
       "\u001b[1;36m50\u001b[0m%                \u001b[1;36m2851.000000\u001b[0m            \u001b[1;36m2019\u001b[0m-\u001b[1;36m10\u001b[0m-\u001b[1;36m21\u001b[0m \u001b[1;92m00:00:00\u001b[0m  \n",
       "\u001b[1;36m75\u001b[0m%                \u001b[1;36m6089.500000\u001b[0m            \u001b[1;36m2020\u001b[0m-\u001b[1;36m01\u001b[0m-\u001b[1;36m12\u001b[0m \u001b[1;92m00:00:00\u001b[0m  \n",
       "max               \u001b[1;36m50000.000000\u001b[0m            \u001b[1;36m2020\u001b[0m-\u001b[1;36m05\u001b[0m-\u001b[1;36m07\u001b[0m \u001b[1;92m00:00:00\u001b[0m  \n",
       "std               \u001b[1;36m10079.933982\u001b[0m                            NaN  "
      ]
     },
     "metadata": {},
     "output_type": "display_data"
    }
   ],
   "source": [
    "display(df.shape, df.dtypes, df.dtypes.nunique(), df.isnull().sum(), df.describe())"
   ]
  },
  {
   "cell_type": "markdown",
   "metadata": {},
   "source": [
    "numerical data"
   ]
  },
  {
   "cell_type": "code",
   "execution_count": 242,
   "metadata": {},
   "outputs": [
    {
     "data": {
      "text/html": [
       "<pre style=\"white-space:pre;overflow-x:auto;line-height:normal;font-family:Menlo,'DejaVu Sans Mono',consolas,'Courier New',monospace\"></pre>\n"
      ],
      "text/plain": []
     },
     "metadata": {},
     "output_type": "display_data"
    },
    {
     "data": {
      "text/html": [
       "<div>\n",
       "<style scoped>\n",
       "    .dataframe tbody tr th:only-of-type {\n",
       "        vertical-align: middle;\n",
       "    }\n",
       "\n",
       "    .dataframe tbody tr th {\n",
       "        vertical-align: top;\n",
       "    }\n",
       "\n",
       "    .dataframe thead th {\n",
       "        text-align: right;\n",
       "    }\n",
       "</style>\n",
       "<table border=\"1\" class=\"dataframe\">\n",
       "  <thead>\n",
       "    <tr style=\"text-align: right;\">\n",
       "      <th></th>\n",
       "      <th>branch_number</th>\n",
       "      <th>age</th>\n",
       "      <th>total_credit_card_limit</th>\n",
       "      <th>current_available_limit</th>\n",
       "      <th>date</th>\n",
       "      <th>amount</th>\n",
       "    </tr>\n",
       "  </thead>\n",
       "  <tbody>\n",
       "    <tr>\n",
       "      <th>count</th>\n",
       "      <td>4955.000000</td>\n",
       "      <td>4955.000000</td>\n",
       "      <td>4955.000000</td>\n",
       "      <td>4955.000000</td>\n",
       "      <td>4955</td>\n",
       "      <td>4955.000000</td>\n",
       "    </tr>\n",
       "    <tr>\n",
       "      <th>mean</th>\n",
       "      <td>201681.845207</td>\n",
       "      <td>34.115439</td>\n",
       "      <td>8776.958224</td>\n",
       "      <td>6588.513623</td>\n",
       "      <td>2019-10-15 05:53:23.309787904</td>\n",
       "      <td>3661.005612</td>\n",
       "    </tr>\n",
       "    <tr>\n",
       "      <th>min</th>\n",
       "      <td>201008.000000</td>\n",
       "      <td>20.000000</td>\n",
       "      <td>300.000000</td>\n",
       "      <td>0.000000</td>\n",
       "      <td>2019-04-01 00:00:00</td>\n",
       "      <td>-1.000000</td>\n",
       "    </tr>\n",
       "    <tr>\n",
       "      <th>25%</th>\n",
       "      <td>201602.000000</td>\n",
       "      <td>28.000000</td>\n",
       "      <td>3650.000000</td>\n",
       "      <td>1164.500000</td>\n",
       "      <td>2019-07-19 00:00:00</td>\n",
       "      <td>99.000000</td>\n",
       "    </tr>\n",
       "    <tr>\n",
       "      <th>50%</th>\n",
       "      <td>201710.000000</td>\n",
       "      <td>33.000000</td>\n",
       "      <td>4700.000000</td>\n",
       "      <td>2851.000000</td>\n",
       "      <td>2019-10-21 00:00:00</td>\n",
       "      <td>735.000000</td>\n",
       "    </tr>\n",
       "    <tr>\n",
       "      <th>75%</th>\n",
       "      <td>201901.000000</td>\n",
       "      <td>37.000000</td>\n",
       "      <td>7500.000000</td>\n",
       "      <td>6089.500000</td>\n",
       "      <td>2020-01-12 00:00:00</td>\n",
       "      <td>2847.000000</td>\n",
       "    </tr>\n",
       "    <tr>\n",
       "      <th>max</th>\n",
       "      <td>201910.000000</td>\n",
       "      <td>53.000000</td>\n",
       "      <td>40000.000000</td>\n",
       "      <td>50000.000000</td>\n",
       "      <td>2020-05-07 00:00:00</td>\n",
       "      <td>99966.000000</td>\n",
       "    </tr>\n",
       "    <tr>\n",
       "      <th>std</th>\n",
       "      <td>228.883487</td>\n",
       "      <td>6.803725</td>\n",
       "      <td>10339.737837</td>\n",
       "      <td>10079.933982</td>\n",
       "      <td>NaN</td>\n",
       "      <td>8887.386689</td>\n",
       "    </tr>\n",
       "  </tbody>\n",
       "</table>\n",
       "</div>"
      ],
      "text/plain": [
       "\n",
       "       branch_number          age  total_credit_card_limit  \\\n",
       "count    \u001b[1;36m4955.000000\u001b[0m  \u001b[1;36m4955.000000\u001b[0m              \u001b[1;36m4955.000000\u001b[0m   \n",
       "mean   \u001b[1;36m201681.845207\u001b[0m    \u001b[1;36m34.115439\u001b[0m              \u001b[1;36m8776.958224\u001b[0m   \n",
       "min    \u001b[1;36m201008.000000\u001b[0m    \u001b[1;36m20.000000\u001b[0m               \u001b[1;36m300.000000\u001b[0m   \n",
       "\u001b[1;36m25\u001b[0m%    \u001b[1;36m201602.000000\u001b[0m    \u001b[1;36m28.000000\u001b[0m              \u001b[1;36m3650.000000\u001b[0m   \n",
       "\u001b[1;36m50\u001b[0m%    \u001b[1;36m201710.000000\u001b[0m    \u001b[1;36m33.000000\u001b[0m              \u001b[1;36m4700.000000\u001b[0m   \n",
       "\u001b[1;36m75\u001b[0m%    \u001b[1;36m201901.000000\u001b[0m    \u001b[1;36m37.000000\u001b[0m              \u001b[1;36m7500.000000\u001b[0m   \n",
       "max    \u001b[1;36m201910.000000\u001b[0m    \u001b[1;36m53.000000\u001b[0m             \u001b[1;36m40000.000000\u001b[0m   \n",
       "std       \u001b[1;36m228.883487\u001b[0m     \u001b[1;36m6.803725\u001b[0m             \u001b[1;36m10339.737837\u001b[0m   \n",
       "\n",
       "       current_available_limit                           date        amount  \n",
       "count              \u001b[1;36m4955.000000\u001b[0m                           \u001b[1;36m4955\u001b[0m   \u001b[1;36m4955.000000\u001b[0m  \n",
       "mean               \u001b[1;36m6588.513623\u001b[0m  \u001b[1;36m2019\u001b[0m-\u001b[1;36m10\u001b[0m-\u001b[1;36m15\u001b[0m \u001b[1;92m05:53:23\u001b[0m.\u001b[1;36m309787904\u001b[0m   \u001b[1;36m3661.005612\u001b[0m  \n",
       "min                   \u001b[1;36m0.000000\u001b[0m            \u001b[1;36m2019\u001b[0m-\u001b[1;36m04\u001b[0m-\u001b[1;36m01\u001b[0m \u001b[1;92m00:00:00\u001b[0m     \u001b[1;36m-1.000000\u001b[0m  \n",
       "\u001b[1;36m25\u001b[0m%                \u001b[1;36m1164.500000\u001b[0m            \u001b[1;36m2019\u001b[0m-\u001b[1;36m07\u001b[0m-\u001b[1;36m19\u001b[0m \u001b[1;92m00:00:00\u001b[0m     \u001b[1;36m99.000000\u001b[0m  \n",
       "\u001b[1;36m50\u001b[0m%                \u001b[1;36m2851.000000\u001b[0m            \u001b[1;36m2019\u001b[0m-\u001b[1;36m10\u001b[0m-\u001b[1;36m21\u001b[0m \u001b[1;92m00:00:00\u001b[0m    \u001b[1;36m735.000000\u001b[0m  \n",
       "\u001b[1;36m75\u001b[0m%                \u001b[1;36m6089.500000\u001b[0m            \u001b[1;36m2020\u001b[0m-\u001b[1;36m01\u001b[0m-\u001b[1;36m12\u001b[0m \u001b[1;92m00:00:00\u001b[0m   \u001b[1;36m2847.000000\u001b[0m  \n",
       "max               \u001b[1;36m50000.000000\u001b[0m            \u001b[1;36m2020\u001b[0m-\u001b[1;36m05\u001b[0m-\u001b[1;36m07\u001b[0m \u001b[1;92m00:00:00\u001b[0m  \u001b[1;36m99966.000000\u001b[0m  \n",
       "std               \u001b[1;36m10079.933982\u001b[0m                            NaN   \u001b[1;36m8887.386689\u001b[0m  "
      ]
     },
     "execution_count": 242,
     "metadata": {},
     "output_type": "execute_result"
    }
   ],
   "source": [
    "df.amount = df.amount.apply(lambda amount: amount.replace(\"$\", \"\").replace(\",\", \"\").replace(' -   ', '-1')).astype(float) # fix amount column\n",
    "df.describe()"
   ]
  },
  {
   "cell_type": "code",
   "execution_count": 243,
   "metadata": {},
   "outputs": [
    {
     "data": {
      "text/html": [
       "<pre style=\"white-space:pre;overflow-x:auto;line-height:normal;font-family:Menlo,'DejaVu Sans Mono',consolas,'Courier New',monospace\"></pre>\n"
      ],
      "text/plain": []
     },
     "metadata": {},
     "output_type": "display_data"
    },
    {
     "data": {
      "text/plain": [
       "\u001b[32m\"col = 'gender' df\u001b[0m\u001b[32m[\u001b[0m\u001b[32mcol\u001b[0m\u001b[32m]\u001b[0m\u001b[32m.nunique\u001b[0m\u001b[32m(\u001b[0m\u001b[32m)\u001b[0m\u001b[32m = 2\"\u001b[0m"
      ]
     },
     "metadata": {},
     "output_type": "display_data"
    },
    {
     "data": {
      "text/html": [
       "<pre style=\"white-space:pre;overflow-x:auto;line-height:normal;font-family:Menlo,'DejaVu Sans Mono',consolas,'Courier New',monospace\"></pre>\n"
      ],
      "text/plain": []
     },
     "metadata": {},
     "output_type": "display_data"
    },
    {
     "data": {
      "text/plain": [
       "\n",
       "gender\n",
       "F    \u001b[1;36m2609\u001b[0m\n",
       "M    \u001b[1;36m2346\u001b[0m\n",
       "Name: count, dtype: int64"
      ]
     },
     "metadata": {},
     "output_type": "display_data"
    },
    {
     "data": {
      "text/html": [
       "<pre style=\"white-space:pre;overflow-x:auto;line-height:normal;font-family:Menlo,'DejaVu Sans Mono',consolas,'Courier New',monospace\"></pre>\n"
      ],
      "text/plain": []
     },
     "metadata": {},
     "output_type": "display_data"
    },
    {
     "data": {
      "text/plain": [
       "\u001b[32m\"col = 'city' df\u001b[0m\u001b[32m[\u001b[0m\u001b[32mcol\u001b[0m\u001b[32m]\u001b[0m\u001b[32m.nunique\u001b[0m\u001b[32m(\u001b[0m\u001b[32m)\u001b[0m\u001b[32m = 10\"\u001b[0m"
      ]
     },
     "metadata": {},
     "output_type": "display_data"
    },
    {
     "data": {
      "text/html": [
       "<pre style=\"white-space:pre;overflow-x:auto;line-height:normal;font-family:Menlo,'DejaVu Sans Mono',consolas,'Courier New',monospace\"></pre>\n"
      ],
      "text/plain": []
     },
     "metadata": {},
     "output_type": "display_data"
    },
    {
     "data": {
      "text/plain": [
       "\n",
       "city\n",
       "SAO PAULO                 \u001b[1;36m3603\u001b[0m\n",
       "RIO DE JANEIRO             \u001b[1;36m268\u001b[0m\n",
       "SANTO ANDRE                \u001b[1;36m257\u001b[0m\n",
       "LOUVEIRA                   \u001b[1;36m250\u001b[0m\n",
       "OSASCO                     \u001b[1;36m209\u001b[0m\n",
       "CAMPO LIMPO PAULISTA       \u001b[1;36m125\u001b[0m\n",
       "ITAQUAQUECETUBA             \u001b[1;36m86\u001b[0m\n",
       "EMBU DAS ARTES              \u001b[1;36m66\u001b[0m\n",
       "S BERNARDO CAMPO            \u001b[1;36m52\u001b[0m\n",
       "GUARULHOS                   \u001b[1;36m39\u001b[0m\n",
       "Name: count, dtype: int64"
      ]
     },
     "metadata": {},
     "output_type": "display_data"
    },
    {
     "data": {
      "text/html": [
       "<pre style=\"white-space:pre;overflow-x:auto;line-height:normal;font-family:Menlo,'DejaVu Sans Mono',consolas,'Courier New',monospace\"></pre>\n"
      ],
      "text/plain": []
     },
     "metadata": {},
     "output_type": "display_data"
    },
    {
     "data": {
      "text/plain": [
       "\u001b[32m\"col = 'state' df\u001b[0m\u001b[32m[\u001b[0m\u001b[32mcol\u001b[0m\u001b[32m]\u001b[0m\u001b[32m.nunique\u001b[0m\u001b[32m(\u001b[0m\u001b[32m)\u001b[0m\u001b[32m = 2\"\u001b[0m"
      ]
     },
     "metadata": {},
     "output_type": "display_data"
    },
    {
     "data": {
      "text/html": [
       "<pre style=\"white-space:pre;overflow-x:auto;line-height:normal;font-family:Menlo,'DejaVu Sans Mono',consolas,'Courier New',monospace\"></pre>\n"
      ],
      "text/plain": []
     },
     "metadata": {},
     "output_type": "display_data"
    },
    {
     "data": {
      "text/plain": [
       "\n",
       "state\n",
       "SP     \u001b[1;36m4687\u001b[0m\n",
       "RJ      \u001b[1;36m268\u001b[0m\n",
       "Name: count, dtype: int64"
      ]
     },
     "metadata": {},
     "output_type": "display_data"
    },
    {
     "data": {
      "text/html": [
       "<pre style=\"white-space:pre;overflow-x:auto;line-height:normal;font-family:Menlo,'DejaVu Sans Mono',consolas,'Courier New',monospace\"></pre>\n"
      ],
      "text/plain": []
     },
     "metadata": {},
     "output_type": "display_data"
    },
    {
     "data": {
      "text/plain": [
       "\u001b[32m\"col = 'purchase_city' df\u001b[0m\u001b[32m[\u001b[0m\u001b[32mcol\u001b[0m\u001b[32m]\u001b[0m\u001b[32m.nunique\u001b[0m\u001b[32m(\u001b[0m\u001b[32m)\u001b[0m\u001b[32m = 140\"\u001b[0m"
      ]
     },
     "metadata": {},
     "output_type": "display_data"
    },
    {
     "data": {
      "text/html": [
       "<pre style=\"white-space:pre;overflow-x:auto;line-height:normal;font-family:Menlo,'DejaVu Sans Mono',consolas,'Courier New',monospace\"></pre>\n"
      ],
      "text/plain": []
     },
     "metadata": {},
     "output_type": "display_data"
    },
    {
     "data": {
      "text/plain": [
       "\n",
       "purchase_city\n",
       "SAO PAULO        \u001b[1;36m3151\u001b[0m\n",
       "RIO DE JANEIR     \u001b[1;36m287\u001b[0m\n",
       "OSASCO            \u001b[1;36m278\u001b[0m\n",
       "SAOPAULO           \u001b[1;36m80\u001b[0m\n",
       "SAO JOSE DO R      \u001b[1;36m79\u001b[0m\n",
       "BAURU              \u001b[1;36m77\u001b[0m\n",
       "CURITIBA           \u001b[1;36m76\u001b[0m\n",
       "BARUERI            \u001b[1;36m69\u001b[0m\n",
       "SANTO ANDRE        \u001b[1;36m68\u001b[0m\n",
       "Sao Paulo          \u001b[1;36m60\u001b[0m\n",
       "Name: count, dtype: int64"
      ]
     },
     "metadata": {},
     "output_type": "display_data"
    },
    {
     "data": {
      "text/html": [
       "<pre style=\"white-space:pre;overflow-x:auto;line-height:normal;font-family:Menlo,'DejaVu Sans Mono',consolas,'Courier New',monospace\"></pre>\n"
      ],
      "text/plain": []
     },
     "metadata": {},
     "output_type": "display_data"
    },
    {
     "data": {
      "text/plain": [
       "\u001b[32m\"col = 'purchase_country' df\u001b[0m\u001b[32m[\u001b[0m\u001b[32mcol\u001b[0m\u001b[32m]\u001b[0m\u001b[32m.nunique\u001b[0m\u001b[32m(\u001b[0m\u001b[32m)\u001b[0m\u001b[32m = 9\"\u001b[0m"
      ]
     },
     "metadata": {},
     "output_type": "display_data"
    },
    {
     "data": {
      "text/html": [
       "<pre style=\"white-space:pre;overflow-x:auto;line-height:normal;font-family:Menlo,'DejaVu Sans Mono',consolas,'Courier New',monospace\"></pre>\n"
      ],
      "text/plain": []
     },
     "metadata": {},
     "output_type": "display_data"
    },
    {
     "data": {
      "text/plain": [
       "\n",
       "purchase_country\n",
       "BR    \u001b[1;36m4912\u001b[0m\n",
       "US      \u001b[1;36m14\u001b[0m\n",
       "CL       \u001b[1;36m3\u001b[0m\n",
       "OH       \u001b[1;36m3\u001b[0m\n",
       "IE       \u001b[1;36m1\u001b[0m\n",
       "GB       \u001b[1;36m1\u001b[0m\n",
       "CO       \u001b[1;36m1\u001b[0m\n",
       "PE       \u001b[1;36m1\u001b[0m\n",
       "SP       \u001b[1;36m1\u001b[0m\n",
       "Name: count, dtype: int64"
      ]
     },
     "metadata": {},
     "output_type": "display_data"
    }
   ],
   "source": [
    "for col in ['gender', 'city', 'state', 'purchase_city', 'purchase_country']:\n",
    "    display(f'{col = } {df[col].nunique() = }', df[col].value_counts()[:10])"
   ]
  },
  {
   "cell_type": "markdown",
   "metadata": {},
   "source": [
    "Take a closser look to `purchase_city` since it has a lot of unique values"
   ]
  },
  {
   "cell_type": "code",
   "execution_count": 244,
   "metadata": {},
   "outputs": [
    {
     "data": {
      "text/html": [
       "<pre style=\"white-space:pre;overflow-x:auto;line-height:normal;font-family:Menlo,'DejaVu Sans Mono',consolas,'Courier New',monospace\"></pre>\n"
      ],
      "text/plain": []
     },
     "metadata": {},
     "output_type": "display_data"
    },
    {
     "data": {
      "text/plain": [
       "\n",
       "\u001b[1;35marray\u001b[0m\u001b[1m(\u001b[0m\u001b[1m[\u001b[0m\u001b[32m'SAO PAULO'\u001b[0m, \u001b[32m'SANTOS'\u001b[0m, \u001b[32m'OSASCO'\u001b[0m, \u001b[32m'LNKD.IN/BILL'\u001b[0m, \u001b[32m'CURITIBA'\u001b[0m,\n",
       "       \u001b[32m'CAMPO LIMPO P'\u001b[0m, \u001b[32m'JUNDIAI'\u001b[0m, \u001b[32m'VARZEA PAULIS'\u001b[0m, \u001b[32m'Eden Prarie'\u001b[0m,\n",
       "       \u001b[32m'GUARULHOS'\u001b[0m, \u001b[32m'RIO DE JANEIR'\u001b[0m, \u001b[32m'FRANCA'\u001b[0m, \u001b[32m'PORTO ALEGRE'\u001b[0m,\n",
       "       \u001b[32m'BELO HORIZONT'\u001b[0m, \u001b[32m'SAOPAULO'\u001b[0m, \u001b[32m'Sao Paulo'\u001b[0m, \u001b[32m'CARAPICUIBA'\u001b[0m,\n",
       "       \u001b[32m'EMBU DAS ARTE'\u001b[0m, \u001b[32m'BARUERI'\u001b[0m, \u001b[32m'MARILIA'\u001b[0m, \u001b[32m'ARUJA'\u001b[0m, \u001b[32m'ITAPEVI'\u001b[0m,\n",
       "       \u001b[32m'GUARUJA'\u001b[0m, \u001b[32m'COTIA'\u001b[0m, \u001b[32m'SAO CAETANO D'\u001b[0m, \u001b[32m'SAO JOSE DO R'\u001b[0m,\n",
       "       \u001b[32m'BALNEARIO CAM'\u001b[0m, \u001b[32m'RiodeJaneiro'\u001b[0m, \u001b[32m'SAOJOSEDORIOP'\u001b[0m, \u001b[32m'SANTO ANDRE'\u001b[0m,\n",
       "       \u001b[32m'MAUA'\u001b[0m, \u001b[32m'415-503-9235'\u001b[0m, \u001b[32m'SAOBERNARDODO'\u001b[0m, \u001b[32m'CAJAMAR'\u001b[0m, \u001b[32m'ITANHAEM'\u001b[0m,\n",
       "       \u001b[32m'SCaetanodoSul'\u001b[0m, nan, \u001b[32m'VINHEDO'\u001b[0m, \u001b[32m'5,51E+11'\u001b[0m, \u001b[32m'RIODEJANEIRO'\u001b[0m,\n",
       "       \u001b[32m'SERRA'\u001b[0m, \u001b[32m'CAMPINAS'\u001b[0m, \u001b[32m'PRAIA GRANDE'\u001b[0m, \u001b[32m'SAO BERNARDO'\u001b[0m, \u001b[32m'11001BOGOTA'\u001b[0m,\n",
       "       \u001b[32m'SANTOANDRE'\u001b[0m, \u001b[32m'LIMEIRA'\u001b[0m, \u001b[32m'Pouso Alegre'\u001b[0m, \u001b[32m'POUSO ALEGRE'\u001b[0m,\n",
       "       \u001b[32m'BORDA DA MATA'\u001b[0m, \u001b[32m'SAOSEBASTIAO'\u001b[0m, \u001b[32m'SAO SEBASTIAO'\u001b[0m, \u001b[32m'FORMIGA'\u001b[0m,\n",
       "       \u001b[32m'BERTIOGA'\u001b[0m, \u001b[32m'DIADEMA'\u001b[0m, \u001b[32m'MONTEVERDE'\u001b[0m, \u001b[32m'SANTANA DE PA'\u001b[0m, \u001b[32m'VITORIA'\u001b[0m,\n",
       "       \u001b[32m'AGUAS DE LIND'\u001b[0m, \u001b[32m'SERRA NEGRA'\u001b[0m, \u001b[32m'PINHAIS'\u001b[0m, \u001b[32m'RIBEIRAO PIRE'\u001b[0m,\n",
       "       \u001b[32m'ITUPEVA'\u001b[0m, \u001b[32m'Itupeva'\u001b[0m, \u001b[32m'JOINVILLE'\u001b[0m, \u001b[32m'help.uber.com'\u001b[0m, \u001b[32m'SANTIAGO'\u001b[0m,\n",
       "       \u001b[32m'LIMA'\u001b[0m, \u001b[32m'FOZ DO IGUACU'\u001b[0m, \u001b[32m'5,56E+11'\u001b[0m, \u001b[32m'BRASILIA'\u001b[0m, \u001b[32m'TABOAO DA SER'\u001b[0m,\n",
       "       \u001b[32m'RIO CLARO'\u001b[0m, \u001b[32m'JUQUITIBA'\u001b[0m, \u001b[32m'SALVADOR'\u001b[0m, \u001b[32m'Osasco'\u001b[0m, \u001b[32m'MANGARATIBA'\u001b[0m,\n",
       "       \u001b[32m'CACAPAVA'\u001b[0m, \u001b[32m'LOUVEIRA'\u001b[0m, \u001b[32m'VALPARAISO DE'\u001b[0m, \u001b[32m'UBERABA'\u001b[0m, \u001b[32m'PIRASSUNUNGA'\u001b[0m,\n",
       "       \u001b[32m'Jundiai'\u001b[0m, \u001b[32m'CESARIO LANGE'\u001b[0m, \u001b[32m'614-285-3455'\u001b[0m, \u001b[32m'SAO JOSE DO'\u001b[0m,\n",
       "       \u001b[32m'APARECIDA DO'\u001b[0m, \u001b[32m'SAO JOSE RIO'\u001b[0m, \u001b[32m'ELDORADO DO S'\u001b[0m, \u001b[32m'IBAITI'\u001b[0m,\n",
       "       \u001b[32m'Sao Jose dos'\u001b[0m, \u001b[32m'SAO JOSE DOS'\u001b[0m, \u001b[32m'NITEROI'\u001b[0m, \u001b[32m'FARROUPILHA'\u001b[0m,\n",
       "       \u001b[32m'PRESIDENTE PR'\u001b[0m, \u001b[32m'VALINHOS'\u001b[0m, \u001b[32m'Brasilia'\u001b[0m, \u001b[32m'ITU'\u001b[0m, \u001b[32m'PIRACICABA'\u001b[0m,\n",
       "       \u001b[32m'Mogi das Cruz'\u001b[0m, \u001b[32m'5,51E+12'\u001b[0m, \u001b[32m'BAURU'\u001b[0m, \u001b[32m'ARAXA'\u001b[0m, \u001b[32m'Bauru'\u001b[0m,\n",
       "       \u001b[32m'MOGI DAS CRUZ'\u001b[0m, \u001b[32m'POA'\u001b[0m, \u001b[32m'MOGIDASCRUZES'\u001b[0m, \u001b[32m'FERRAZ DE VAS'\u001b[0m, \u001b[32m'EMBU'\u001b[0m,\n",
       "       \u001b[32m'NOVA LIMA'\u001b[0m, \u001b[32m'CABO FRIO'\u001b[0m, \u001b[32m'SAOJOSEDOSCAM'\u001b[0m, \u001b[32m'HOLAMBRA'\u001b[0m, \u001b[32m'Lorena'\u001b[0m,\n",
       "       \u001b[32m'QUELUZ'\u001b[0m, \u001b[32m'SP'\u001b[0m, \u001b[32m'CAMPO BOM'\u001b[0m, \u001b[32m'IBATE'\u001b[0m, \u001b[32m'CULVER CITY'\u001b[0m, \u001b[32m'TAUBATE'\u001b[0m,\n",
       "       \u001b[32m'JANDAIA DO SU'\u001b[0m, \u001b[32m'EXTREMA'\u001b[0m, \u001b[32m'DUQUEDECAXIAS'\u001b[0m, \u001b[32m'MAGE'\u001b[0m,\n",
       "       \u001b[32m'ITAQUAQUECETU'\u001b[0m, \u001b[32m'BRUSQUE'\u001b[0m, \u001b[32m'CARAGUATATUBA'\u001b[0m, \u001b[32m'SUZANO'\u001b[0m, \u001b[32m'BOTUCATU'\u001b[0m,\n",
       "       \u001b[32m'SOROCABA'\u001b[0m, \u001b[32m'FORTALEZA'\u001b[0m, \u001b[32m'Campinas'\u001b[0m, \u001b[32m'SAOGONCALO'\u001b[0m, \u001b[32m'ITUMBIARA'\u001b[0m,\n",
       "       \u001b[32m'BRAGANCA PAUL'\u001b[0m, \u001b[32m'ITAPIRA'\u001b[0m, \u001b[32m'SAO ROQUE'\u001b[0m, \u001b[32m'PARAIBA DO SU'\u001b[0m,\n",
       "       \u001b[32m'REDENCAODASER'\u001b[0m, \u001b[32m'ARMACAO DOS B'\u001b[0m, \u001b[32m'MAIRIPORA'\u001b[0m\u001b[1m]\u001b[0m, \u001b[33mdtype\u001b[0m=\u001b[35mobject\u001b[0m\u001b[1m)\u001b[0m"
      ]
     },
     "execution_count": 244,
     "metadata": {},
     "output_type": "execute_result"
    }
   ],
   "source": [
    "df.purchase_city.unique() # we can see a lot of durtty values"
   ]
  },
  {
   "cell_type": "code",
   "execution_count": 245,
   "metadata": {},
   "outputs": [
    {
     "data": {
      "text/html": [
       "<pre style=\"white-space:pre;overflow-x:auto;line-height:normal;font-family:Menlo,'DejaVu Sans Mono',consolas,'Courier New',monospace\"><span style=\"color: #7fbfbf; text-decoration-color: #7fbfbf\">                    </span><span style=\"color: #800000; text-decoration-color: #800000\">WARNING </span> <span style=\"color: #800080; text-decoration-color: #800080\">/var/folders/qn/pq9pzsn51vx7lzwtkc1r1hxr0000gn/T/ipykernel_12104/</span><span style=\"color: #ff00ff; text-decoration-color: #ff00ff\">33256</span> <a href=\"file:///usr/local/Caskroom/miniforge/base/envs/kedro-environment/lib/python3.10/warnings.py\" target=\"_blank\"><span style=\"color: #7f7f7f; text-decoration-color: #7f7f7f\">warnings.py</span></a><span style=\"color: #7f7f7f; text-decoration-color: #7f7f7f\">:</span><a href=\"file:///usr/local/Caskroom/miniforge/base/envs/kedro-environment/lib/python3.10/warnings.py#109\" target=\"_blank\"><span style=\"color: #7f7f7f; text-decoration-color: #7f7f7f\">109</span></a>\n",
       "<span style=\"color: #7fbfbf; text-decoration-color: #7fbfbf\">                    </span>         <span style=\"color: #ff00ff; text-decoration-color: #ff00ff\">88425.py</span>:<span style=\"color: #008080; text-decoration-color: #008080; font-weight: bold\">1</span>: FutureWarning: Downcasting object dtype arrays on .fillna, <span style=\"color: #7f7f7f; text-decoration-color: #7f7f7f\">               </span>\n",
       "<span style=\"color: #7fbfbf; text-decoration-color: #7fbfbf\">                    </span>         .ffill, .bfill is deprecated and will change in a future version. Call <span style=\"color: #7f7f7f; text-decoration-color: #7f7f7f\">               </span>\n",
       "<span style=\"color: #7fbfbf; text-decoration-color: #7fbfbf\">                    </span>         <span style=\"color: #800080; text-decoration-color: #800080; font-weight: bold\">result.infer_objects</span><span style=\"font-weight: bold\">(</span><span style=\"color: #808000; text-decoration-color: #808000\">copy</span>=<span style=\"color: #ff0000; text-decoration-color: #ff0000; font-style: italic\">False</span><span style=\"font-weight: bold\">)</span> instead. To opt-in to the future      <span style=\"color: #7f7f7f; text-decoration-color: #7f7f7f\">               </span>\n",
       "<span style=\"color: #7fbfbf; text-decoration-color: #7fbfbf\">                    </span>         behavior, set `<span style=\"color: #800080; text-decoration-color: #800080; font-weight: bold\">pd.set_option</span><span style=\"font-weight: bold\">(</span><span style=\"color: #008000; text-decoration-color: #008000\">'future.no_silent_downcasting'</span>, <span style=\"color: #00ff00; text-decoration-color: #00ff00; font-style: italic\">True</span><span style=\"font-weight: bold\">)</span>`    <span style=\"color: #7f7f7f; text-decoration-color: #7f7f7f\">               </span>\n",
       "<span style=\"color: #7fbfbf; text-decoration-color: #7fbfbf\">                    </span>           df<span style=\"font-weight: bold\">[</span><span style=\"color: #800080; text-decoration-color: #800080; font-weight: bold\">df.purchase_city.str.contains</span><span style=\"font-weight: bold\">(</span>r\"<span style=\"font-weight: bold\">[</span>^\\w\\s<span style=\"font-weight: bold\">]</span>\"<span style=\"font-weight: bold\">)</span><span style=\"color: #800080; text-decoration-color: #800080; font-weight: bold\">.fillna</span><span style=\"font-weight: bold\">(</span><span style=\"color: #ff0000; text-decoration-color: #ff0000; font-style: italic\">False</span><span style=\"font-weight: bold\">)]</span><span style=\"color: #800080; text-decoration-color: #800080; font-weight: bold\">.purchase</span> <span style=\"color: #7f7f7f; text-decoration-color: #7f7f7f\">               </span>\n",
       "<span style=\"color: #7fbfbf; text-decoration-color: #7fbfbf\">                    </span>         <span style=\"color: #800080; text-decoration-color: #800080; font-weight: bold\">_city.value_counts</span><span style=\"font-weight: bold\">()</span>                                                   <span style=\"color: #7f7f7f; text-decoration-color: #7f7f7f\">               </span>\n",
       "<span style=\"color: #7fbfbf; text-decoration-color: #7fbfbf\">                    </span>                                                                                <span style=\"color: #7f7f7f; text-decoration-color: #7f7f7f\">               </span>\n",
       "</pre>\n"
      ],
      "text/plain": [
       "\u001b[2;36m                   \u001b[0m\u001b[2;36m \u001b[0m\u001b[31mWARNING \u001b[0m \u001b[35m/var/folders/qn/pq9pzsn51vx7lzwtkc1r1hxr0000gn/T/ipykernel_12104/\u001b[0m\u001b[95m33256\u001b[0m \u001b]8;id=936322;file:///usr/local/Caskroom/miniforge/base/envs/kedro-environment/lib/python3.10/warnings.py\u001b\\\u001b[2mwarnings.py\u001b[0m\u001b]8;;\u001b\\\u001b[2m:\u001b[0m\u001b]8;id=447327;file:///usr/local/Caskroom/miniforge/base/envs/kedro-environment/lib/python3.10/warnings.py#109\u001b\\\u001b[2m109\u001b[0m\u001b]8;;\u001b\\\n",
       "\u001b[2;36m                    \u001b[0m         \u001b[95m88425.py\u001b[0m:\u001b[1;36m1\u001b[0m: FutureWarning: Downcasting object dtype arrays on .fillna, \u001b[2m               \u001b[0m\n",
       "\u001b[2;36m                    \u001b[0m         .ffill, .bfill is deprecated and will change in a future version. Call \u001b[2m               \u001b[0m\n",
       "\u001b[2;36m                    \u001b[0m         \u001b[1;35mresult.infer_objects\u001b[0m\u001b[1m(\u001b[0m\u001b[33mcopy\u001b[0m=\u001b[3;91mFalse\u001b[0m\u001b[1m)\u001b[0m instead. To opt-in to the future      \u001b[2m               \u001b[0m\n",
       "\u001b[2;36m                    \u001b[0m         behavior, set `\u001b[1;35mpd.set_option\u001b[0m\u001b[1m(\u001b[0m\u001b[32m'future.no_silent_downcasting'\u001b[0m, \u001b[3;92mTrue\u001b[0m\u001b[1m)\u001b[0m`    \u001b[2m               \u001b[0m\n",
       "\u001b[2;36m                    \u001b[0m           df\u001b[1m[\u001b[0m\u001b[1;35mdf.purchase_city.str.contains\u001b[0m\u001b[1m(\u001b[0mr\"\u001b[1m[\u001b[0m^\\w\\s\u001b[1m]\u001b[0m\"\u001b[1m)\u001b[0m\u001b[1;35m.fillna\u001b[0m\u001b[1m(\u001b[0m\u001b[3;91mFalse\u001b[0m\u001b[1m)\u001b[0m\u001b[1m]\u001b[0m\u001b[1;35m.purchase\u001b[0m \u001b[2m               \u001b[0m\n",
       "\u001b[2;36m                    \u001b[0m         \u001b[1;35m_city.value_counts\u001b[0m\u001b[1m(\u001b[0m\u001b[1m)\u001b[0m                                                   \u001b[2m               \u001b[0m\n",
       "\u001b[2;36m                    \u001b[0m                                                                                \u001b[2m               \u001b[0m\n"
      ]
     },
     "metadata": {},
     "output_type": "display_data"
    },
    {
     "data": {
      "text/html": [
       "<pre style=\"white-space:pre;overflow-x:auto;line-height:normal;font-family:Menlo,'DejaVu Sans Mono',consolas,'Courier New',monospace\"></pre>\n"
      ],
      "text/plain": []
     },
     "metadata": {},
     "output_type": "display_data"
    },
    {
     "data": {
      "text/plain": [
       "\n",
       "purchase_city\n",
       "\u001b[1;36m415\u001b[0m-\u001b[1;36m503\u001b[0m-\u001b[1;36m9235\u001b[0m     \u001b[1;36m13\u001b[0m\n",
       "\u001b[1;36m5\u001b[0m,51E+\u001b[1;36m11\u001b[0m         \u001b[1;36m12\u001b[0m\n",
       "\u001b[1;36m5\u001b[0m,56E+\u001b[1;36m11\u001b[0m          \u001b[1;36m4\u001b[0m\n",
       "\u001b[1;36m614\u001b[0m-\u001b[1;36m285\u001b[0m-\u001b[1;36m3455\u001b[0m      \u001b[1;36m3\u001b[0m\n",
       "\u001b[1;36m5\u001b[0m,51E+\u001b[1;36m12\u001b[0m          \u001b[1;36m2\u001b[0m\n",
       "LNKD.IN/BILL      \u001b[1;36m1\u001b[0m\n",
       "help.uber.com     \u001b[1;36m1\u001b[0m\n",
       "Name: count, dtype: int64"
      ]
     },
     "execution_count": 245,
     "metadata": {},
     "output_type": "execute_result"
    }
   ],
   "source": [
    "df[df.purchase_city.str.contains(r\"[^\\w\\s]\").fillna(False)].purchase_city.value_counts()"
   ]
  },
  {
   "cell_type": "markdown",
   "metadata": {},
   "source": [
    "also lets take a look into our labels"
   ]
  },
  {
   "cell_type": "code",
   "execution_count": 246,
   "metadata": {},
   "outputs": [
    {
     "data": {
      "text/html": [
       "<pre style=\"white-space:pre;overflow-x:auto;line-height:normal;font-family:Menlo,'DejaVu Sans Mono',consolas,'Courier New',monospace\"></pre>\n"
      ],
      "text/plain": []
     },
     "metadata": {},
     "output_type": "display_data"
    },
    {
     "data": {
      "text/plain": [
       "\u001b[32m'category_expense df.category_expense.nunique\u001b[0m\u001b[32m(\u001b[0m\u001b[32m)\u001b[0m\u001b[32m = 22'\u001b[0m"
      ]
     },
     "metadata": {},
     "output_type": "display_data"
    },
    {
     "data": {
      "text/html": [
       "<pre style=\"white-space:pre;overflow-x:auto;line-height:normal;font-family:Menlo,'DejaVu Sans Mono',consolas,'Courier New',monospace\"></pre>\n"
      ],
      "text/plain": []
     },
     "metadata": {},
     "output_type": "display_data"
    },
    {
     "data": {
      "text/plain": [
       "\n",
       "category_expense\n",
       "SERVI‚O           \u001b[1;36m1782\u001b[0m\n",
       "RESTAURANTE        \u001b[1;36m872\u001b[0m\n",
       "VAREJO             \u001b[1;36m599\u001b[0m\n",
       "SUPERMERCADOS      \u001b[1;36m468\u001b[0m\n",
       "VESTUARIO          \u001b[1;36m236\u001b[0m\n",
       "FARMACIAS          \u001b[1;36m222\u001b[0m\n",
       "POSTO DE GAS       \u001b[1;36m199\u001b[0m\n",
       "M.O.T.O.           \u001b[1;36m191\u001b[0m\n",
       "ARTIGOS ELETRO     \u001b[1;36m129\u001b[0m\n",
       "LOJA DE DEPART      \u001b[1;36m80\u001b[0m\n",
       "CIA AEREAS          \u001b[1;36m38\u001b[0m\n",
       "HOTEIS              \u001b[1;36m24\u001b[0m\n",
       "SEM RAMO            \u001b[1;36m20\u001b[0m\n",
       "HOSP E CLINICA      \u001b[1;36m18\u001b[0m\n",
       "MAT CONSTRUCAO      \u001b[1;36m15\u001b[0m\n",
       "MOVEIS E DECOR      \u001b[1;36m15\u001b[0m\n",
       "AUTO PE‚AS          \u001b[1;36m14\u001b[0m\n",
       "AGENCIA DE TUR      \u001b[1;36m12\u001b[0m\n",
       "TRANS FINANC        \u001b[1;36m10\u001b[0m\n",
       "JOALHERIA            \u001b[1;36m6\u001b[0m\n",
       "INEXISTENTE          \u001b[1;36m4\u001b[0m\n",
       "ALUG DE CARROS       \u001b[1;36m1\u001b[0m\n",
       "Name: count, dtype: int64"
      ]
     },
     "metadata": {},
     "output_type": "display_data"
    }
   ],
   "source": [
    "display(f'category_expense {df.category_expense.nunique() = }', df.category_expense.value_counts())"
   ]
  },
  {
   "cell_type": "markdown",
   "metadata": {},
   "source": [
    "# Preprocessed Data"
   ]
  },
  {
   "cell_type": "code",
   "execution_count": 255,
   "metadata": {},
   "outputs": [
    {
     "data": {
      "text/html": [
       "<pre style=\"white-space:pre;overflow-x:auto;line-height:normal;font-family:Menlo,'DejaVu Sans Mono',consolas,'Courier New',monospace\"><span style=\"color: #7fbfbf; text-decoration-color: #7fbfbf\">[04/01/24 08:15:23] </span><span style=\"color: #000080; text-decoration-color: #000080\">INFO    </span> Resolved project path as:                                              <a href=\"file:///usr/local/Caskroom/miniforge/base/envs/kedro-environment/lib/python3.10/site-packages/kedro/ipython/__init__.py\" target=\"_blank\"><span style=\"color: #7f7f7f; text-decoration-color: #7f7f7f\">__init__.py</span></a><span style=\"color: #7f7f7f; text-decoration-color: #7f7f7f\">:</span><a href=\"file:///usr/local/Caskroom/miniforge/base/envs/kedro-environment/lib/python3.10/site-packages/kedro/ipython/__init__.py#164\" target=\"_blank\"><span style=\"color: #7f7f7f; text-decoration-color: #7f7f7f\">164</span></a>\n",
       "<span style=\"color: #7fbfbf; text-decoration-color: #7fbfbf\">                    </span>         <span style=\"color: #800080; text-decoration-color: #800080\">/Users/richarddegaki/repos/xrhd/</span><span style=\"color: #ff00ff; text-decoration-color: #ff00ff\">brazilian-credit-card-spending.</span>        <span style=\"color: #7f7f7f; text-decoration-color: #7f7f7f\">               </span>\n",
       "<span style=\"color: #7fbfbf; text-decoration-color: #7fbfbf\">                    </span>         To set a different path, run <span style=\"color: #008000; text-decoration-color: #008000\">'%reload_kedro &lt;project_root&gt;'</span>            <span style=\"color: #7f7f7f; text-decoration-color: #7f7f7f\">               </span>\n",
       "</pre>\n"
      ],
      "text/plain": [
       "\u001b[2;36m[04/01/24 08:15:23]\u001b[0m\u001b[2;36m \u001b[0m\u001b[34mINFO    \u001b[0m Resolved project path as:                                              \u001b]8;id=937452;file:///usr/local/Caskroom/miniforge/base/envs/kedro-environment/lib/python3.10/site-packages/kedro/ipython/__init__.py\u001b\\\u001b[2m__init__.py\u001b[0m\u001b]8;;\u001b\\\u001b[2m:\u001b[0m\u001b]8;id=607603;file:///usr/local/Caskroom/miniforge/base/envs/kedro-environment/lib/python3.10/site-packages/kedro/ipython/__init__.py#164\u001b\\\u001b[2m164\u001b[0m\u001b]8;;\u001b\\\n",
       "\u001b[2;36m                    \u001b[0m         \u001b[35m/Users/richarddegaki/repos/xrhd/\u001b[0m\u001b[95mbrazilian-credit-card-spending.\u001b[0m        \u001b[2m               \u001b[0m\n",
       "\u001b[2;36m                    \u001b[0m         To set a different path, run \u001b[32m'%reload_kedro \u001b[0m\u001b[32m<\u001b[0m\u001b[32mproject_root\u001b[0m\u001b[32m>\u001b[0m\u001b[32m'\u001b[0m            \u001b[2m               \u001b[0m\n"
      ]
     },
     "metadata": {},
     "output_type": "display_data"
    },
    {
     "data": {
      "text/html": [
       "<pre style=\"white-space:pre;overflow-x:auto;line-height:normal;font-family:Menlo,'DejaVu Sans Mono',consolas,'Courier New',monospace\"><span style=\"color: #7fbfbf; text-decoration-color: #7fbfbf\">[04/01/24 08:15:24] </span><span style=\"color: #000080; text-decoration-color: #000080\">INFO    </span> Kedro project Brazilian Credit Card Spending                           <a href=\"file:///usr/local/Caskroom/miniforge/base/envs/kedro-environment/lib/python3.10/site-packages/kedro/ipython/__init__.py\" target=\"_blank\"><span style=\"color: #7f7f7f; text-decoration-color: #7f7f7f\">__init__.py</span></a><span style=\"color: #7f7f7f; text-decoration-color: #7f7f7f\">:</span><a href=\"file:///usr/local/Caskroom/miniforge/base/envs/kedro-environment/lib/python3.10/site-packages/kedro/ipython/__init__.py#134\" target=\"_blank\"><span style=\"color: #7f7f7f; text-decoration-color: #7f7f7f\">134</span></a>\n",
       "</pre>\n"
      ],
      "text/plain": [
       "\u001b[2;36m[04/01/24 08:15:24]\u001b[0m\u001b[2;36m \u001b[0m\u001b[34mINFO    \u001b[0m Kedro project Brazilian Credit Card Spending                           \u001b]8;id=873556;file:///usr/local/Caskroom/miniforge/base/envs/kedro-environment/lib/python3.10/site-packages/kedro/ipython/__init__.py\u001b\\\u001b[2m__init__.py\u001b[0m\u001b]8;;\u001b\\\u001b[2m:\u001b[0m\u001b]8;id=674706;file:///usr/local/Caskroom/miniforge/base/envs/kedro-environment/lib/python3.10/site-packages/kedro/ipython/__init__.py#134\u001b\\\u001b[2m134\u001b[0m\u001b]8;;\u001b\\\n"
      ]
     },
     "metadata": {},
     "output_type": "display_data"
    },
    {
     "data": {
      "text/html": [
       "<pre style=\"white-space:pre;overflow-x:auto;line-height:normal;font-family:Menlo,'DejaVu Sans Mono',consolas,'Courier New',monospace\"><span style=\"color: #7fbfbf; text-decoration-color: #7fbfbf\">                    </span><span style=\"color: #000080; text-decoration-color: #000080\">INFO    </span> Defined global variable <span style=\"color: #008000; text-decoration-color: #008000\">'context'</span>, <span style=\"color: #008000; text-decoration-color: #008000\">'session'</span>, <span style=\"color: #008000; text-decoration-color: #008000\">'catalog'</span> and            <a href=\"file:///usr/local/Caskroom/miniforge/base/envs/kedro-environment/lib/python3.10/site-packages/kedro/ipython/__init__.py\" target=\"_blank\"><span style=\"color: #7f7f7f; text-decoration-color: #7f7f7f\">__init__.py</span></a><span style=\"color: #7f7f7f; text-decoration-color: #7f7f7f\">:</span><a href=\"file:///usr/local/Caskroom/miniforge/base/envs/kedro-environment/lib/python3.10/site-packages/kedro/ipython/__init__.py#135\" target=\"_blank\"><span style=\"color: #7f7f7f; text-decoration-color: #7f7f7f\">135</span></a>\n",
       "<span style=\"color: #7fbfbf; text-decoration-color: #7fbfbf\">                    </span>         <span style=\"color: #008000; text-decoration-color: #008000\">'pipelines'</span>                                                            <span style=\"color: #7f7f7f; text-decoration-color: #7f7f7f\">               </span>\n",
       "</pre>\n"
      ],
      "text/plain": [
       "\u001b[2;36m                   \u001b[0m\u001b[2;36m \u001b[0m\u001b[34mINFO    \u001b[0m Defined global variable \u001b[32m'context'\u001b[0m, \u001b[32m'session'\u001b[0m, \u001b[32m'catalog'\u001b[0m and            \u001b]8;id=983790;file:///usr/local/Caskroom/miniforge/base/envs/kedro-environment/lib/python3.10/site-packages/kedro/ipython/__init__.py\u001b\\\u001b[2m__init__.py\u001b[0m\u001b]8;;\u001b\\\u001b[2m:\u001b[0m\u001b]8;id=492029;file:///usr/local/Caskroom/miniforge/base/envs/kedro-environment/lib/python3.10/site-packages/kedro/ipython/__init__.py#135\u001b\\\u001b[2m135\u001b[0m\u001b]8;;\u001b\\\n",
       "\u001b[2;36m                    \u001b[0m         \u001b[32m'pipelines'\u001b[0m                                                            \u001b[2m               \u001b[0m\n"
      ]
     },
     "metadata": {},
     "output_type": "display_data"
    },
    {
     "data": {
      "text/html": [
       "<pre style=\"white-space:pre;overflow-x:auto;line-height:normal;font-family:Menlo,'DejaVu Sans Mono',consolas,'Courier New',monospace\"><span style=\"color: #7fbfbf; text-decoration-color: #7fbfbf\">                    </span><span style=\"color: #000080; text-decoration-color: #000080\">INFO    </span> Registered line magic <span style=\"color: #008000; text-decoration-color: #008000\">'run_viz'</span>                                        <a href=\"file:///usr/local/Caskroom/miniforge/base/envs/kedro-environment/lib/python3.10/site-packages/kedro/ipython/__init__.py\" target=\"_blank\"><span style=\"color: #7f7f7f; text-decoration-color: #7f7f7f\">__init__.py</span></a><span style=\"color: #7f7f7f; text-decoration-color: #7f7f7f\">:</span><a href=\"file:///usr/local/Caskroom/miniforge/base/envs/kedro-environment/lib/python3.10/site-packages/kedro/ipython/__init__.py#141\" target=\"_blank\"><span style=\"color: #7f7f7f; text-decoration-color: #7f7f7f\">141</span></a>\n",
       "</pre>\n"
      ],
      "text/plain": [
       "\u001b[2;36m                   \u001b[0m\u001b[2;36m \u001b[0m\u001b[34mINFO    \u001b[0m Registered line magic \u001b[32m'run_viz'\u001b[0m                                        \u001b]8;id=120541;file:///usr/local/Caskroom/miniforge/base/envs/kedro-environment/lib/python3.10/site-packages/kedro/ipython/__init__.py\u001b\\\u001b[2m__init__.py\u001b[0m\u001b]8;;\u001b\\\u001b[2m:\u001b[0m\u001b]8;id=95860;file:///usr/local/Caskroom/miniforge/base/envs/kedro-environment/lib/python3.10/site-packages/kedro/ipython/__init__.py#141\u001b\\\u001b[2m141\u001b[0m\u001b]8;;\u001b\\\n"
      ]
     },
     "metadata": {},
     "output_type": "display_data"
    },
    {
     "data": {
      "text/html": [
       "<pre style=\"white-space:pre;overflow-x:auto;line-height:normal;font-family:Menlo,'DejaVu Sans Mono',consolas,'Courier New',monospace\"><span style=\"color: #7fbfbf; text-decoration-color: #7fbfbf\">                    </span><span style=\"color: #000080; text-decoration-color: #000080\">INFO    </span> Loading data from <span style=\"color: #ff8700; text-decoration-color: #ff8700\">preprocessed_mibolsillo</span> <span style=\"font-weight: bold\">(</span>ParquetDataset<span style=\"font-weight: bold\">)</span><span style=\"color: #808000; text-decoration-color: #808000\">...</span>      <a href=\"file:///usr/local/Caskroom/miniforge/base/envs/kedro-environment/lib/python3.10/site-packages/kedro/io/data_catalog.py\" target=\"_blank\"><span style=\"color: #7f7f7f; text-decoration-color: #7f7f7f\">data_catalog.py</span></a><span style=\"color: #7f7f7f; text-decoration-color: #7f7f7f\">:</span><a href=\"file:///usr/local/Caskroom/miniforge/base/envs/kedro-environment/lib/python3.10/site-packages/kedro/io/data_catalog.py#483\" target=\"_blank\"><span style=\"color: #7f7f7f; text-decoration-color: #7f7f7f\">483</span></a>\n",
       "</pre>\n"
      ],
      "text/plain": [
       "\u001b[2;36m                   \u001b[0m\u001b[2;36m \u001b[0m\u001b[34mINFO    \u001b[0m Loading data from \u001b[38;5;208mpreprocessed_mibolsillo\u001b[0m \u001b[1m(\u001b[0mParquetDataset\u001b[1m)\u001b[0m\u001b[33m...\u001b[0m      \u001b]8;id=42972;file:///usr/local/Caskroom/miniforge/base/envs/kedro-environment/lib/python3.10/site-packages/kedro/io/data_catalog.py\u001b\\\u001b[2mdata_catalog.py\u001b[0m\u001b]8;;\u001b\\\u001b[2m:\u001b[0m\u001b]8;id=788977;file:///usr/local/Caskroom/miniforge/base/envs/kedro-environment/lib/python3.10/site-packages/kedro/io/data_catalog.py#483\u001b\\\u001b[2m483\u001b[0m\u001b]8;;\u001b\\\n"
      ]
     },
     "metadata": {},
     "output_type": "display_data"
    },
    {
     "data": {
      "text/html": [
       "<pre style=\"white-space:pre;overflow-x:auto;line-height:normal;font-family:Menlo,'DejaVu Sans Mono',consolas,'Courier New',monospace\"></pre>\n"
      ],
      "text/plain": []
     },
     "metadata": {},
     "output_type": "display_data"
    },
    {
     "data": {
      "text/html": [
       "<div>\n",
       "<style scoped>\n",
       "    .dataframe tbody tr th:only-of-type {\n",
       "        vertical-align: middle;\n",
       "    }\n",
       "\n",
       "    .dataframe tbody tr th {\n",
       "        vertical-align: top;\n",
       "    }\n",
       "\n",
       "    .dataframe thead th {\n",
       "        text-align: right;\n",
       "    }\n",
       "</style>\n",
       "<table border=\"1\" class=\"dataframe\">\n",
       "  <thead>\n",
       "    <tr style=\"text-align: right;\">\n",
       "      <th></th>\n",
       "      <th>id</th>\n",
       "      <th>branch_number</th>\n",
       "      <th>city</th>\n",
       "      <th>state</th>\n",
       "      <th>age</th>\n",
       "      <th>gender</th>\n",
       "      <th>total_credit_card_limit</th>\n",
       "      <th>current_available_limit</th>\n",
       "      <th>date</th>\n",
       "      <th>amount</th>\n",
       "      <th>category_expense</th>\n",
       "      <th>purchase_city</th>\n",
       "      <th>purchase_country</th>\n",
       "    </tr>\n",
       "  </thead>\n",
       "  <tbody>\n",
       "    <tr>\n",
       "      <th>0</th>\n",
       "      <td>4,53E+11</td>\n",
       "      <td>201405</td>\n",
       "      <td>CAMPO LIMPO PAULISTA</td>\n",
       "      <td>SP</td>\n",
       "      <td>37</td>\n",
       "      <td>F</td>\n",
       "      <td>4700</td>\n",
       "      <td>5605</td>\n",
       "      <td>2019-12-04</td>\n",
       "      <td>31.0</td>\n",
       "      <td>SERVI‚O</td>\n",
       "      <td>SAO PAULO</td>\n",
       "      <td>BR</td>\n",
       "    </tr>\n",
       "    <tr>\n",
       "      <th>1</th>\n",
       "      <td>4,53E+11</td>\n",
       "      <td>201405</td>\n",
       "      <td>CAMPO LIMPO PAULISTA</td>\n",
       "      <td>SP</td>\n",
       "      <td>37</td>\n",
       "      <td>F</td>\n",
       "      <td>4700</td>\n",
       "      <td>5343</td>\n",
       "      <td>2019-11-09</td>\n",
       "      <td>15001.0</td>\n",
       "      <td>FARMACIAS</td>\n",
       "      <td>SANTOS</td>\n",
       "      <td>BR</td>\n",
       "    </tr>\n",
       "    <tr>\n",
       "      <th>2</th>\n",
       "      <td>4,53E+11</td>\n",
       "      <td>201405</td>\n",
       "      <td>CAMPO LIMPO PAULISTA</td>\n",
       "      <td>SP</td>\n",
       "      <td>37</td>\n",
       "      <td>F</td>\n",
       "      <td>4700</td>\n",
       "      <td>2829</td>\n",
       "      <td>2019-05-06</td>\n",
       "      <td>50.0</td>\n",
       "      <td>SERVI‚O</td>\n",
       "      <td>SAO PAULO</td>\n",
       "      <td>BR</td>\n",
       "    </tr>\n",
       "    <tr>\n",
       "      <th>3</th>\n",
       "      <td>4,53E+11</td>\n",
       "      <td>201405</td>\n",
       "      <td>CAMPO LIMPO PAULISTA</td>\n",
       "      <td>SP</td>\n",
       "      <td>37</td>\n",
       "      <td>F</td>\n",
       "      <td>4700</td>\n",
       "      <td>2547</td>\n",
       "      <td>2019-06-01</td>\n",
       "      <td>544.0</td>\n",
       "      <td>M.O.T.O.</td>\n",
       "      <td>OSASCO</td>\n",
       "      <td>BR</td>\n",
       "    </tr>\n",
       "    <tr>\n",
       "      <th>4</th>\n",
       "      <td>4,53E+11</td>\n",
       "      <td>201405</td>\n",
       "      <td>CAMPO LIMPO PAULISTA</td>\n",
       "      <td>SP</td>\n",
       "      <td>37</td>\n",
       "      <td>F</td>\n",
       "      <td>4700</td>\n",
       "      <td>2515</td>\n",
       "      <td>2019-06-01</td>\n",
       "      <td>3279.0</td>\n",
       "      <td>M.O.T.O.</td>\n",
       "      <td>OSASCO</td>\n",
       "      <td>BR</td>\n",
       "    </tr>\n",
       "  </tbody>\n",
       "</table>\n",
       "</div>"
      ],
      "text/plain": [
       "\n",
       "         id  branch_number                  city state  age gender  \\\n",
       "\u001b[1;36m0\u001b[0m  \u001b[1;36m4\u001b[0m,53E+\u001b[1;36m11\u001b[0m         \u001b[1;36m201405\u001b[0m  CAMPO LIMPO PAULISTA    SP   \u001b[1;36m37\u001b[0m      F   \n",
       "\u001b[1;36m1\u001b[0m  \u001b[1;36m4\u001b[0m,53E+\u001b[1;36m11\u001b[0m         \u001b[1;36m201405\u001b[0m  CAMPO LIMPO PAULISTA    SP   \u001b[1;36m37\u001b[0m      F   \n",
       "\u001b[1;36m2\u001b[0m  \u001b[1;36m4\u001b[0m,53E+\u001b[1;36m11\u001b[0m         \u001b[1;36m201405\u001b[0m  CAMPO LIMPO PAULISTA    SP   \u001b[1;36m37\u001b[0m      F   \n",
       "\u001b[1;36m3\u001b[0m  \u001b[1;36m4\u001b[0m,53E+\u001b[1;36m11\u001b[0m         \u001b[1;36m201405\u001b[0m  CAMPO LIMPO PAULISTA    SP   \u001b[1;36m37\u001b[0m      F   \n",
       "\u001b[1;36m4\u001b[0m  \u001b[1;36m4\u001b[0m,53E+\u001b[1;36m11\u001b[0m         \u001b[1;36m201405\u001b[0m  CAMPO LIMPO PAULISTA    SP   \u001b[1;36m37\u001b[0m      F   \n",
       "\n",
       "   total_credit_card_limit  current_available_limit       date   amount  \\\n",
       "\u001b[1;36m0\u001b[0m                     \u001b[1;36m4700\u001b[0m                     \u001b[1;36m5605\u001b[0m \u001b[1;36m2019\u001b[0m-\u001b[1;36m12\u001b[0m-\u001b[1;36m04\u001b[0m     \u001b[1;36m31.0\u001b[0m   \n",
       "\u001b[1;36m1\u001b[0m                     \u001b[1;36m4700\u001b[0m                     \u001b[1;36m5343\u001b[0m \u001b[1;36m2019\u001b[0m-\u001b[1;36m11\u001b[0m-\u001b[1;36m09\u001b[0m  \u001b[1;36m15001.0\u001b[0m   \n",
       "\u001b[1;36m2\u001b[0m                     \u001b[1;36m4700\u001b[0m                     \u001b[1;36m2829\u001b[0m \u001b[1;36m2019\u001b[0m-\u001b[1;36m05\u001b[0m-\u001b[1;36m06\u001b[0m     \u001b[1;36m50.0\u001b[0m   \n",
       "\u001b[1;36m3\u001b[0m                     \u001b[1;36m4700\u001b[0m                     \u001b[1;36m2547\u001b[0m \u001b[1;36m2019\u001b[0m-\u001b[1;36m06\u001b[0m-\u001b[1;36m01\u001b[0m    \u001b[1;36m544.0\u001b[0m   \n",
       "\u001b[1;36m4\u001b[0m                     \u001b[1;36m4700\u001b[0m                     \u001b[1;36m2515\u001b[0m \u001b[1;36m2019\u001b[0m-\u001b[1;36m06\u001b[0m-\u001b[1;36m01\u001b[0m   \u001b[1;36m3279.0\u001b[0m   \n",
       "\n",
       "  category_expense purchase_city purchase_country  \n",
       "\u001b[1;36m0\u001b[0m          SERVI‚O     SAO PAULO               BR  \n",
       "\u001b[1;36m1\u001b[0m        FARMACIAS        SANTOS               BR  \n",
       "\u001b[1;36m2\u001b[0m          SERVI‚O     SAO PAULO               BR  \n",
       "\u001b[1;36m3\u001b[0m         M.O.T.O.        OSASCO               BR  \n",
       "\u001b[1;36m4\u001b[0m         M.O.T.O.        OSASCO               BR  "
      ]
     },
     "execution_count": 255,
     "metadata": {},
     "output_type": "execute_result"
    }
   ],
   "source": [
    "%reload_kedro\n",
    "df = catalog.load(\"preprocessed_mibolsillo\")\n",
    "df.head()"
   ]
  },
  {
   "cell_type": "code",
   "execution_count": 256,
   "metadata": {},
   "outputs": [
    {
     "data": {
      "text/html": [
       "<pre style=\"white-space:pre;overflow-x:auto;line-height:normal;font-family:Menlo,'DejaVu Sans Mono',consolas,'Courier New',monospace\"></pre>\n"
      ],
      "text/plain": []
     },
     "metadata": {},
     "output_type": "display_data"
    },
    {
     "data": {
      "text/html": [
       "<div>\n",
       "<style scoped>\n",
       "    .dataframe tbody tr th:only-of-type {\n",
       "        vertical-align: middle;\n",
       "    }\n",
       "\n",
       "    .dataframe tbody tr th {\n",
       "        vertical-align: top;\n",
       "    }\n",
       "\n",
       "    .dataframe thead th {\n",
       "        text-align: right;\n",
       "    }\n",
       "</style>\n",
       "<table border=\"1\" class=\"dataframe\">\n",
       "  <thead>\n",
       "    <tr style=\"text-align: right;\">\n",
       "      <th></th>\n",
       "      <th>branch_number</th>\n",
       "      <th>age</th>\n",
       "      <th>total_credit_card_limit</th>\n",
       "      <th>current_available_limit</th>\n",
       "      <th>date</th>\n",
       "      <th>amount</th>\n",
       "    </tr>\n",
       "  </thead>\n",
       "  <tbody>\n",
       "    <tr>\n",
       "      <th>count</th>\n",
       "      <td>4955.000000</td>\n",
       "      <td>4955.000000</td>\n",
       "      <td>4955.000000</td>\n",
       "      <td>4955.000000</td>\n",
       "      <td>4955</td>\n",
       "      <td>4955.000000</td>\n",
       "    </tr>\n",
       "    <tr>\n",
       "      <th>mean</th>\n",
       "      <td>201681.845207</td>\n",
       "      <td>34.115439</td>\n",
       "      <td>8776.958224</td>\n",
       "      <td>6588.513623</td>\n",
       "      <td>2019-10-15 05:53:23.309787904</td>\n",
       "      <td>3661.005612</td>\n",
       "    </tr>\n",
       "    <tr>\n",
       "      <th>min</th>\n",
       "      <td>201008.000000</td>\n",
       "      <td>20.000000</td>\n",
       "      <td>300.000000</td>\n",
       "      <td>0.000000</td>\n",
       "      <td>2019-04-01 00:00:00</td>\n",
       "      <td>-1.000000</td>\n",
       "    </tr>\n",
       "    <tr>\n",
       "      <th>25%</th>\n",
       "      <td>201602.000000</td>\n",
       "      <td>28.000000</td>\n",
       "      <td>3650.000000</td>\n",
       "      <td>1164.500000</td>\n",
       "      <td>2019-07-19 00:00:00</td>\n",
       "      <td>99.000000</td>\n",
       "    </tr>\n",
       "    <tr>\n",
       "      <th>50%</th>\n",
       "      <td>201710.000000</td>\n",
       "      <td>33.000000</td>\n",
       "      <td>4700.000000</td>\n",
       "      <td>2851.000000</td>\n",
       "      <td>2019-10-21 00:00:00</td>\n",
       "      <td>735.000000</td>\n",
       "    </tr>\n",
       "    <tr>\n",
       "      <th>75%</th>\n",
       "      <td>201901.000000</td>\n",
       "      <td>37.000000</td>\n",
       "      <td>7500.000000</td>\n",
       "      <td>6089.500000</td>\n",
       "      <td>2020-01-12 00:00:00</td>\n",
       "      <td>2847.000000</td>\n",
       "    </tr>\n",
       "    <tr>\n",
       "      <th>max</th>\n",
       "      <td>201910.000000</td>\n",
       "      <td>53.000000</td>\n",
       "      <td>40000.000000</td>\n",
       "      <td>50000.000000</td>\n",
       "      <td>2020-05-07 00:00:00</td>\n",
       "      <td>99966.000000</td>\n",
       "    </tr>\n",
       "    <tr>\n",
       "      <th>std</th>\n",
       "      <td>228.883487</td>\n",
       "      <td>6.803725</td>\n",
       "      <td>10339.737837</td>\n",
       "      <td>10079.933982</td>\n",
       "      <td>NaN</td>\n",
       "      <td>8887.386689</td>\n",
       "    </tr>\n",
       "  </tbody>\n",
       "</table>\n",
       "</div>"
      ],
      "text/plain": [
       "\n",
       "       branch_number          age  total_credit_card_limit  \\\n",
       "count    \u001b[1;36m4955.000000\u001b[0m  \u001b[1;36m4955.000000\u001b[0m              \u001b[1;36m4955.000000\u001b[0m   \n",
       "mean   \u001b[1;36m201681.845207\u001b[0m    \u001b[1;36m34.115439\u001b[0m              \u001b[1;36m8776.958224\u001b[0m   \n",
       "min    \u001b[1;36m201008.000000\u001b[0m    \u001b[1;36m20.000000\u001b[0m               \u001b[1;36m300.000000\u001b[0m   \n",
       "\u001b[1;36m25\u001b[0m%    \u001b[1;36m201602.000000\u001b[0m    \u001b[1;36m28.000000\u001b[0m              \u001b[1;36m3650.000000\u001b[0m   \n",
       "\u001b[1;36m50\u001b[0m%    \u001b[1;36m201710.000000\u001b[0m    \u001b[1;36m33.000000\u001b[0m              \u001b[1;36m4700.000000\u001b[0m   \n",
       "\u001b[1;36m75\u001b[0m%    \u001b[1;36m201901.000000\u001b[0m    \u001b[1;36m37.000000\u001b[0m              \u001b[1;36m7500.000000\u001b[0m   \n",
       "max    \u001b[1;36m201910.000000\u001b[0m    \u001b[1;36m53.000000\u001b[0m             \u001b[1;36m40000.000000\u001b[0m   \n",
       "std       \u001b[1;36m228.883487\u001b[0m     \u001b[1;36m6.803725\u001b[0m             \u001b[1;36m10339.737837\u001b[0m   \n",
       "\n",
       "       current_available_limit                           date        amount  \n",
       "count              \u001b[1;36m4955.000000\u001b[0m                           \u001b[1;36m4955\u001b[0m   \u001b[1;36m4955.000000\u001b[0m  \n",
       "mean               \u001b[1;36m6588.513623\u001b[0m  \u001b[1;36m2019\u001b[0m-\u001b[1;36m10\u001b[0m-\u001b[1;36m15\u001b[0m \u001b[1;92m05:53:23\u001b[0m.\u001b[1;36m309787904\u001b[0m   \u001b[1;36m3661.005612\u001b[0m  \n",
       "min                   \u001b[1;36m0.000000\u001b[0m            \u001b[1;36m2019\u001b[0m-\u001b[1;36m04\u001b[0m-\u001b[1;36m01\u001b[0m \u001b[1;92m00:00:00\u001b[0m     \u001b[1;36m-1.000000\u001b[0m  \n",
       "\u001b[1;36m25\u001b[0m%                \u001b[1;36m1164.500000\u001b[0m            \u001b[1;36m2019\u001b[0m-\u001b[1;36m07\u001b[0m-\u001b[1;36m19\u001b[0m \u001b[1;92m00:00:00\u001b[0m     \u001b[1;36m99.000000\u001b[0m  \n",
       "\u001b[1;36m50\u001b[0m%                \u001b[1;36m2851.000000\u001b[0m            \u001b[1;36m2019\u001b[0m-\u001b[1;36m10\u001b[0m-\u001b[1;36m21\u001b[0m \u001b[1;92m00:00:00\u001b[0m    \u001b[1;36m735.000000\u001b[0m  \n",
       "\u001b[1;36m75\u001b[0m%                \u001b[1;36m6089.500000\u001b[0m            \u001b[1;36m2020\u001b[0m-\u001b[1;36m01\u001b[0m-\u001b[1;36m12\u001b[0m \u001b[1;92m00:00:00\u001b[0m   \u001b[1;36m2847.000000\u001b[0m  \n",
       "max               \u001b[1;36m50000.000000\u001b[0m            \u001b[1;36m2020\u001b[0m-\u001b[1;36m05\u001b[0m-\u001b[1;36m07\u001b[0m \u001b[1;92m00:00:00\u001b[0m  \u001b[1;36m99966.000000\u001b[0m  \n",
       "std               \u001b[1;36m10079.933982\u001b[0m                            NaN   \u001b[1;36m8887.386689\u001b[0m  "
      ]
     },
     "execution_count": 256,
     "metadata": {},
     "output_type": "execute_result"
    }
   ],
   "source": [
    "df.describe()"
   ]
  },
  {
   "cell_type": "code",
   "execution_count": 257,
   "metadata": {},
   "outputs": [
    {
     "data": {
      "text/html": [
       "<pre style=\"white-space:pre;overflow-x:auto;line-height:normal;font-family:Menlo,'DejaVu Sans Mono',consolas,'Courier New',monospace\"></pre>\n"
      ],
      "text/plain": []
     },
     "metadata": {},
     "output_type": "display_data"
    },
    {
     "data": {
      "text/html": [
       "<div>\n",
       "<style scoped>\n",
       "    .dataframe tbody tr th:only-of-type {\n",
       "        vertical-align: middle;\n",
       "    }\n",
       "\n",
       "    .dataframe tbody tr th {\n",
       "        vertical-align: top;\n",
       "    }\n",
       "\n",
       "    .dataframe thead th {\n",
       "        text-align: right;\n",
       "    }\n",
       "</style>\n",
       "<table border=\"1\" class=\"dataframe\">\n",
       "  <thead>\n",
       "    <tr style=\"text-align: right;\">\n",
       "      <th></th>\n",
       "      <th>id</th>\n",
       "      <th>branch_number</th>\n",
       "      <th>city</th>\n",
       "      <th>state</th>\n",
       "      <th>age</th>\n",
       "      <th>gender</th>\n",
       "      <th>total_credit_card_limit</th>\n",
       "      <th>current_available_limit</th>\n",
       "      <th>date</th>\n",
       "      <th>amount</th>\n",
       "      <th>category_expense</th>\n",
       "      <th>purchase_city</th>\n",
       "      <th>purchase_country</th>\n",
       "    </tr>\n",
       "  </thead>\n",
       "  <tbody>\n",
       "    <tr>\n",
       "      <th>0</th>\n",
       "      <td>4,53E+11</td>\n",
       "      <td>201405</td>\n",
       "      <td>CAMPO LIMPO PAULISTA</td>\n",
       "      <td>SP</td>\n",
       "      <td>37</td>\n",
       "      <td>F</td>\n",
       "      <td>4700</td>\n",
       "      <td>5605</td>\n",
       "      <td>2019-12-04</td>\n",
       "      <td>31.0</td>\n",
       "      <td>SERVI‚O</td>\n",
       "      <td>SAO PAULO</td>\n",
       "      <td>BR</td>\n",
       "    </tr>\n",
       "    <tr>\n",
       "      <th>1</th>\n",
       "      <td>4,53E+11</td>\n",
       "      <td>201405</td>\n",
       "      <td>CAMPO LIMPO PAULISTA</td>\n",
       "      <td>SP</td>\n",
       "      <td>37</td>\n",
       "      <td>F</td>\n",
       "      <td>4700</td>\n",
       "      <td>5343</td>\n",
       "      <td>2019-11-09</td>\n",
       "      <td>15001.0</td>\n",
       "      <td>FARMACIAS</td>\n",
       "      <td>SANTOS</td>\n",
       "      <td>BR</td>\n",
       "    </tr>\n",
       "    <tr>\n",
       "      <th>2</th>\n",
       "      <td>4,53E+11</td>\n",
       "      <td>201405</td>\n",
       "      <td>CAMPO LIMPO PAULISTA</td>\n",
       "      <td>SP</td>\n",
       "      <td>37</td>\n",
       "      <td>F</td>\n",
       "      <td>4700</td>\n",
       "      <td>2829</td>\n",
       "      <td>2019-05-06</td>\n",
       "      <td>50.0</td>\n",
       "      <td>SERVI‚O</td>\n",
       "      <td>SAO PAULO</td>\n",
       "      <td>BR</td>\n",
       "    </tr>\n",
       "    <tr>\n",
       "      <th>3</th>\n",
       "      <td>4,53E+11</td>\n",
       "      <td>201405</td>\n",
       "      <td>CAMPO LIMPO PAULISTA</td>\n",
       "      <td>SP</td>\n",
       "      <td>37</td>\n",
       "      <td>F</td>\n",
       "      <td>4700</td>\n",
       "      <td>2547</td>\n",
       "      <td>2019-06-01</td>\n",
       "      <td>544.0</td>\n",
       "      <td>M.O.T.O.</td>\n",
       "      <td>OSASCO</td>\n",
       "      <td>BR</td>\n",
       "    </tr>\n",
       "    <tr>\n",
       "      <th>4</th>\n",
       "      <td>4,53E+11</td>\n",
       "      <td>201405</td>\n",
       "      <td>CAMPO LIMPO PAULISTA</td>\n",
       "      <td>SP</td>\n",
       "      <td>37</td>\n",
       "      <td>F</td>\n",
       "      <td>4700</td>\n",
       "      <td>2515</td>\n",
       "      <td>2019-06-01</td>\n",
       "      <td>3279.0</td>\n",
       "      <td>M.O.T.O.</td>\n",
       "      <td>OSASCO</td>\n",
       "      <td>BR</td>\n",
       "    </tr>\n",
       "    <tr>\n",
       "      <th>...</th>\n",
       "      <td>...</td>\n",
       "      <td>...</td>\n",
       "      <td>...</td>\n",
       "      <td>...</td>\n",
       "      <td>...</td>\n",
       "      <td>...</td>\n",
       "      <td>...</td>\n",
       "      <td>...</td>\n",
       "      <td>...</td>\n",
       "      <td>...</td>\n",
       "      <td>...</td>\n",
       "      <td>...</td>\n",
       "      <td>...</td>\n",
       "    </tr>\n",
       "    <tr>\n",
       "      <th>4950</th>\n",
       "      <td>9,19E+11</td>\n",
       "      <td>201910</td>\n",
       "      <td>SAO PAULO</td>\n",
       "      <td>SP</td>\n",
       "      <td>37</td>\n",
       "      <td>M</td>\n",
       "      <td>8500</td>\n",
       "      <td>5305</td>\n",
       "      <td>2020-01-23</td>\n",
       "      <td>255.0</td>\n",
       "      <td>RESTAURANTE</td>\n",
       "      <td>SAO PAULO</td>\n",
       "      <td>BR</td>\n",
       "    </tr>\n",
       "    <tr>\n",
       "      <th>4951</th>\n",
       "      <td>9,19E+11</td>\n",
       "      <td>201910</td>\n",
       "      <td>SAO PAULO</td>\n",
       "      <td>SP</td>\n",
       "      <td>37</td>\n",
       "      <td>M</td>\n",
       "      <td>8500</td>\n",
       "      <td>5266</td>\n",
       "      <td>2020-01-23</td>\n",
       "      <td>395.0</td>\n",
       "      <td>SUPERMERCADOS</td>\n",
       "      <td>SAO PAULO</td>\n",
       "      <td>BR</td>\n",
       "    </tr>\n",
       "    <tr>\n",
       "      <th>4952</th>\n",
       "      <td>9,19E+11</td>\n",
       "      <td>201910</td>\n",
       "      <td>SAO PAULO</td>\n",
       "      <td>SP</td>\n",
       "      <td>37</td>\n",
       "      <td>M</td>\n",
       "      <td>8500</td>\n",
       "      <td>5445</td>\n",
       "      <td>2020-02-19</td>\n",
       "      <td>7556.0</td>\n",
       "      <td>RESTAURANTE</td>\n",
       "      <td>SAO PAULO</td>\n",
       "      <td>BR</td>\n",
       "    </tr>\n",
       "    <tr>\n",
       "      <th>4953</th>\n",
       "      <td>9,19E+11</td>\n",
       "      <td>201910</td>\n",
       "      <td>SAO PAULO</td>\n",
       "      <td>SP</td>\n",
       "      <td>37</td>\n",
       "      <td>M</td>\n",
       "      <td>8500</td>\n",
       "      <td>5002</td>\n",
       "      <td>2020-03-30</td>\n",
       "      <td>59.0</td>\n",
       "      <td>SERVI‚O</td>\n",
       "      <td>SAO PAULO</td>\n",
       "      <td>BR</td>\n",
       "    </tr>\n",
       "    <tr>\n",
       "      <th>4954</th>\n",
       "      <td>9,19E+11</td>\n",
       "      <td>201910</td>\n",
       "      <td>SAO PAULO</td>\n",
       "      <td>SP</td>\n",
       "      <td>37</td>\n",
       "      <td>M</td>\n",
       "      <td>8500</td>\n",
       "      <td>5222</td>\n",
       "      <td>2020-01-24</td>\n",
       "      <td>4369.0</td>\n",
       "      <td>M.O.T.O.</td>\n",
       "      <td>RIO DE JANEIR</td>\n",
       "      <td>BR</td>\n",
       "    </tr>\n",
       "  </tbody>\n",
       "</table>\n",
       "<p>4899 rows × 13 columns</p>\n",
       "</div>"
      ],
      "text/plain": [
       "\n",
       "            id  branch_number                  city state  age gender  \\\n",
       "\u001b[1;36m0\u001b[0m     \u001b[1;36m4\u001b[0m,53E+\u001b[1;36m11\u001b[0m         \u001b[1;36m201405\u001b[0m  CAMPO LIMPO PAULISTA    SP   \u001b[1;36m37\u001b[0m      F   \n",
       "\u001b[1;36m1\u001b[0m     \u001b[1;36m4\u001b[0m,53E+\u001b[1;36m11\u001b[0m         \u001b[1;36m201405\u001b[0m  CAMPO LIMPO PAULISTA    SP   \u001b[1;36m37\u001b[0m      F   \n",
       "\u001b[1;36m2\u001b[0m     \u001b[1;36m4\u001b[0m,53E+\u001b[1;36m11\u001b[0m         \u001b[1;36m201405\u001b[0m  CAMPO LIMPO PAULISTA    SP   \u001b[1;36m37\u001b[0m      F   \n",
       "\u001b[1;36m3\u001b[0m     \u001b[1;36m4\u001b[0m,53E+\u001b[1;36m11\u001b[0m         \u001b[1;36m201405\u001b[0m  CAMPO LIMPO PAULISTA    SP   \u001b[1;36m37\u001b[0m      F   \n",
       "\u001b[1;36m4\u001b[0m     \u001b[1;36m4\u001b[0m,53E+\u001b[1;36m11\u001b[0m         \u001b[1;36m201405\u001b[0m  CAMPO LIMPO PAULISTA    SP   \u001b[1;36m37\u001b[0m      F   \n",
       "\u001b[33m...\u001b[0m        \u001b[33m...\u001b[0m            \u001b[33m...\u001b[0m                   \u001b[33m...\u001b[0m   \u001b[33m...\u001b[0m  \u001b[33m...\u001b[0m    \u001b[33m...\u001b[0m   \n",
       "\u001b[1;36m4950\u001b[0m  \u001b[1;36m9\u001b[0m,19E+\u001b[1;36m11\u001b[0m         \u001b[1;36m201910\u001b[0m             SAO PAULO    SP   \u001b[1;36m37\u001b[0m      M   \n",
       "\u001b[1;36m4951\u001b[0m  \u001b[1;36m9\u001b[0m,19E+\u001b[1;36m11\u001b[0m         \u001b[1;36m201910\u001b[0m             SAO PAULO    SP   \u001b[1;36m37\u001b[0m      M   \n",
       "\u001b[1;36m4952\u001b[0m  \u001b[1;36m9\u001b[0m,19E+\u001b[1;36m11\u001b[0m         \u001b[1;36m201910\u001b[0m             SAO PAULO    SP   \u001b[1;36m37\u001b[0m      M   \n",
       "\u001b[1;36m4953\u001b[0m  \u001b[1;36m9\u001b[0m,19E+\u001b[1;36m11\u001b[0m         \u001b[1;36m201910\u001b[0m             SAO PAULO    SP   \u001b[1;36m37\u001b[0m      M   \n",
       "\u001b[1;36m4954\u001b[0m  \u001b[1;36m9\u001b[0m,19E+\u001b[1;36m11\u001b[0m         \u001b[1;36m201910\u001b[0m             SAO PAULO    SP   \u001b[1;36m37\u001b[0m      M   \n",
       "\n",
       "      total_credit_card_limit  current_available_limit       date   amount  \\\n",
       "\u001b[1;36m0\u001b[0m                        \u001b[1;36m4700\u001b[0m                     \u001b[1;36m5605\u001b[0m \u001b[1;36m2019\u001b[0m-\u001b[1;36m12\u001b[0m-\u001b[1;36m04\u001b[0m     \u001b[1;36m31.0\u001b[0m   \n",
       "\u001b[1;36m1\u001b[0m                        \u001b[1;36m4700\u001b[0m                     \u001b[1;36m5343\u001b[0m \u001b[1;36m2019\u001b[0m-\u001b[1;36m11\u001b[0m-\u001b[1;36m09\u001b[0m  \u001b[1;36m15001.0\u001b[0m   \n",
       "\u001b[1;36m2\u001b[0m                        \u001b[1;36m4700\u001b[0m                     \u001b[1;36m2829\u001b[0m \u001b[1;36m2019\u001b[0m-\u001b[1;36m05\u001b[0m-\u001b[1;36m06\u001b[0m     \u001b[1;36m50.0\u001b[0m   \n",
       "\u001b[1;36m3\u001b[0m                        \u001b[1;36m4700\u001b[0m                     \u001b[1;36m2547\u001b[0m \u001b[1;36m2019\u001b[0m-\u001b[1;36m06\u001b[0m-\u001b[1;36m01\u001b[0m    \u001b[1;36m544.0\u001b[0m   \n",
       "\u001b[1;36m4\u001b[0m                        \u001b[1;36m4700\u001b[0m                     \u001b[1;36m2515\u001b[0m \u001b[1;36m2019\u001b[0m-\u001b[1;36m06\u001b[0m-\u001b[1;36m01\u001b[0m   \u001b[1;36m3279.0\u001b[0m   \n",
       "\u001b[33m...\u001b[0m                       \u001b[33m...\u001b[0m                      \u001b[33m...\u001b[0m        \u001b[33m...\u001b[0m      \u001b[33m...\u001b[0m   \n",
       "\u001b[1;36m4950\u001b[0m                     \u001b[1;36m8500\u001b[0m                     \u001b[1;36m5305\u001b[0m \u001b[1;36m2020\u001b[0m-\u001b[1;36m01\u001b[0m-\u001b[1;36m23\u001b[0m    \u001b[1;36m255.0\u001b[0m   \n",
       "\u001b[1;36m4951\u001b[0m                     \u001b[1;36m8500\u001b[0m                     \u001b[1;36m5266\u001b[0m \u001b[1;36m2020\u001b[0m-\u001b[1;36m01\u001b[0m-\u001b[1;36m23\u001b[0m    \u001b[1;36m395.0\u001b[0m   \n",
       "\u001b[1;36m4952\u001b[0m                     \u001b[1;36m8500\u001b[0m                     \u001b[1;36m5445\u001b[0m \u001b[1;36m2020\u001b[0m-\u001b[1;36m02\u001b[0m-\u001b[1;36m19\u001b[0m   \u001b[1;36m7556.0\u001b[0m   \n",
       "\u001b[1;36m4953\u001b[0m                     \u001b[1;36m8500\u001b[0m                     \u001b[1;36m5002\u001b[0m \u001b[1;36m2020\u001b[0m-\u001b[1;36m03\u001b[0m-\u001b[1;36m30\u001b[0m     \u001b[1;36m59.0\u001b[0m   \n",
       "\u001b[1;36m4954\u001b[0m                     \u001b[1;36m8500\u001b[0m                     \u001b[1;36m5222\u001b[0m \u001b[1;36m2020\u001b[0m-\u001b[1;36m01\u001b[0m-\u001b[1;36m24\u001b[0m   \u001b[1;36m4369.0\u001b[0m   \n",
       "\n",
       "     category_expense  purchase_city purchase_country  \n",
       "\u001b[1;36m0\u001b[0m             SERVI‚O      SAO PAULO               BR  \n",
       "\u001b[1;36m1\u001b[0m           FARMACIAS         SANTOS               BR  \n",
       "\u001b[1;36m2\u001b[0m             SERVI‚O      SAO PAULO               BR  \n",
       "\u001b[1;36m3\u001b[0m            M.O.T.O.         OSASCO               BR  \n",
       "\u001b[1;36m4\u001b[0m            M.O.T.O.         OSASCO               BR  \n",
       "\u001b[33m...\u001b[0m               \u001b[33m...\u001b[0m            \u001b[33m...\u001b[0m              \u001b[33m...\u001b[0m  \n",
       "\u001b[1;36m4950\u001b[0m      RESTAURANTE      SAO PAULO               BR  \n",
       "\u001b[1;36m4951\u001b[0m    SUPERMERCADOS      SAO PAULO               BR  \n",
       "\u001b[1;36m4952\u001b[0m      RESTAURANTE      SAO PAULO               BR  \n",
       "\u001b[1;36m4953\u001b[0m          SERVI‚O      SAO PAULO               BR  \n",
       "\u001b[1;36m4954\u001b[0m         M.O.T.O.  RIO DE JANEIR               BR  \n",
       "\n",
       "\u001b[1m[\u001b[0m\u001b[1;36m4899\u001b[0m rows x \u001b[1;36m13\u001b[0m columns\u001b[1m]\u001b[0m"
      ]
     },
     "execution_count": 257,
     "metadata": {},
     "output_type": "execute_result"
    }
   ],
   "source": [
    "df = df[df.amount > 0].dropna()\n",
    "df"
   ]
  },
  {
   "cell_type": "code",
   "execution_count": 258,
   "metadata": {},
   "outputs": [
    {
     "data": {
      "text/html": [
       "<pre style=\"white-space:pre;overflow-x:auto;line-height:normal;font-family:Menlo,'DejaVu Sans Mono',consolas,'Courier New',monospace\"></pre>\n"
      ],
      "text/plain": []
     },
     "metadata": {},
     "output_type": "display_data"
    },
    {
     "data": {
      "text/html": [
       "<div>\n",
       "<style scoped>\n",
       "    .dataframe tbody tr th:only-of-type {\n",
       "        vertical-align: middle;\n",
       "    }\n",
       "\n",
       "    .dataframe tbody tr th {\n",
       "        vertical-align: top;\n",
       "    }\n",
       "\n",
       "    .dataframe thead th {\n",
       "        text-align: right;\n",
       "    }\n",
       "</style>\n",
       "<table border=\"1\" class=\"dataframe\">\n",
       "  <thead>\n",
       "    <tr style=\"text-align: right;\">\n",
       "      <th></th>\n",
       "      <th>branch_number</th>\n",
       "      <th>age</th>\n",
       "      <th>total_credit_card_limit</th>\n",
       "      <th>current_available_limit</th>\n",
       "      <th>date</th>\n",
       "      <th>amount</th>\n",
       "    </tr>\n",
       "  </thead>\n",
       "  <tbody>\n",
       "    <tr>\n",
       "      <th>count</th>\n",
       "      <td>4899.000000</td>\n",
       "      <td>4899.000000</td>\n",
       "      <td>4899.000000</td>\n",
       "      <td>4899.000000</td>\n",
       "      <td>4899</td>\n",
       "      <td>4899.000000</td>\n",
       "    </tr>\n",
       "    <tr>\n",
       "      <th>mean</th>\n",
       "      <td>201681.645234</td>\n",
       "      <td>34.125740</td>\n",
       "      <td>8750.373750</td>\n",
       "      <td>6580.106144</td>\n",
       "      <td>2019-10-14 21:01:34.794856192</td>\n",
       "      <td>3667.530244</td>\n",
       "    </tr>\n",
       "    <tr>\n",
       "      <th>min</th>\n",
       "      <td>201008.000000</td>\n",
       "      <td>20.000000</td>\n",
       "      <td>300.000000</td>\n",
       "      <td>0.000000</td>\n",
       "      <td>2019-04-01 00:00:00</td>\n",
       "      <td>1.000000</td>\n",
       "    </tr>\n",
       "    <tr>\n",
       "      <th>25%</th>\n",
       "      <td>201602.000000</td>\n",
       "      <td>28.000000</td>\n",
       "      <td>3650.000000</td>\n",
       "      <td>1164.500000</td>\n",
       "      <td>2019-07-19 00:00:00</td>\n",
       "      <td>99.000000</td>\n",
       "    </tr>\n",
       "    <tr>\n",
       "      <th>50%</th>\n",
       "      <td>201710.000000</td>\n",
       "      <td>33.000000</td>\n",
       "      <td>4700.000000</td>\n",
       "      <td>2856.000000</td>\n",
       "      <td>2019-10-21 00:00:00</td>\n",
       "      <td>738.000000</td>\n",
       "    </tr>\n",
       "    <tr>\n",
       "      <th>75%</th>\n",
       "      <td>201901.000000</td>\n",
       "      <td>37.000000</td>\n",
       "      <td>7500.000000</td>\n",
       "      <td>6089.500000</td>\n",
       "      <td>2020-01-12 00:00:00</td>\n",
       "      <td>2876.000000</td>\n",
       "    </tr>\n",
       "    <tr>\n",
       "      <th>max</th>\n",
       "      <td>201910.000000</td>\n",
       "      <td>53.000000</td>\n",
       "      <td>40000.000000</td>\n",
       "      <td>50000.000000</td>\n",
       "      <td>2020-05-07 00:00:00</td>\n",
       "      <td>99966.000000</td>\n",
       "    </tr>\n",
       "    <tr>\n",
       "      <th>std</th>\n",
       "      <td>229.359337</td>\n",
       "      <td>6.805298</td>\n",
       "      <td>10292.653128</td>\n",
       "      <td>10073.037596</td>\n",
       "      <td>NaN</td>\n",
       "      <td>8865.495370</td>\n",
       "    </tr>\n",
       "  </tbody>\n",
       "</table>\n",
       "</div>"
      ],
      "text/plain": [
       "\n",
       "       branch_number          age  total_credit_card_limit  \\\n",
       "count    \u001b[1;36m4899.000000\u001b[0m  \u001b[1;36m4899.000000\u001b[0m              \u001b[1;36m4899.000000\u001b[0m   \n",
       "mean   \u001b[1;36m201681.645234\u001b[0m    \u001b[1;36m34.125740\u001b[0m              \u001b[1;36m8750.373750\u001b[0m   \n",
       "min    \u001b[1;36m201008.000000\u001b[0m    \u001b[1;36m20.000000\u001b[0m               \u001b[1;36m300.000000\u001b[0m   \n",
       "\u001b[1;36m25\u001b[0m%    \u001b[1;36m201602.000000\u001b[0m    \u001b[1;36m28.000000\u001b[0m              \u001b[1;36m3650.000000\u001b[0m   \n",
       "\u001b[1;36m50\u001b[0m%    \u001b[1;36m201710.000000\u001b[0m    \u001b[1;36m33.000000\u001b[0m              \u001b[1;36m4700.000000\u001b[0m   \n",
       "\u001b[1;36m75\u001b[0m%    \u001b[1;36m201901.000000\u001b[0m    \u001b[1;36m37.000000\u001b[0m              \u001b[1;36m7500.000000\u001b[0m   \n",
       "max    \u001b[1;36m201910.000000\u001b[0m    \u001b[1;36m53.000000\u001b[0m             \u001b[1;36m40000.000000\u001b[0m   \n",
       "std       \u001b[1;36m229.359337\u001b[0m     \u001b[1;36m6.805298\u001b[0m             \u001b[1;36m10292.653128\u001b[0m   \n",
       "\n",
       "       current_available_limit                           date        amount  \n",
       "count              \u001b[1;36m4899.000000\u001b[0m                           \u001b[1;36m4899\u001b[0m   \u001b[1;36m4899.000000\u001b[0m  \n",
       "mean               \u001b[1;36m6580.106144\u001b[0m  \u001b[1;36m2019\u001b[0m-\u001b[1;36m10\u001b[0m-\u001b[1;36m14\u001b[0m \u001b[1;92m21:01:34\u001b[0m.\u001b[1;36m794856192\u001b[0m   \u001b[1;36m3667.530244\u001b[0m  \n",
       "min                   \u001b[1;36m0.000000\u001b[0m            \u001b[1;36m2019\u001b[0m-\u001b[1;36m04\u001b[0m-\u001b[1;36m01\u001b[0m \u001b[1;92m00:00:00\u001b[0m      \u001b[1;36m1.000000\u001b[0m  \n",
       "\u001b[1;36m25\u001b[0m%                \u001b[1;36m1164.500000\u001b[0m            \u001b[1;36m2019\u001b[0m-\u001b[1;36m07\u001b[0m-\u001b[1;36m19\u001b[0m \u001b[1;92m00:00:00\u001b[0m     \u001b[1;36m99.000000\u001b[0m  \n",
       "\u001b[1;36m50\u001b[0m%                \u001b[1;36m2856.000000\u001b[0m            \u001b[1;36m2019\u001b[0m-\u001b[1;36m10\u001b[0m-\u001b[1;36m21\u001b[0m \u001b[1;92m00:00:00\u001b[0m    \u001b[1;36m738.000000\u001b[0m  \n",
       "\u001b[1;36m75\u001b[0m%                \u001b[1;36m6089.500000\u001b[0m            \u001b[1;36m2020\u001b[0m-\u001b[1;36m01\u001b[0m-\u001b[1;36m12\u001b[0m \u001b[1;92m00:00:00\u001b[0m   \u001b[1;36m2876.000000\u001b[0m  \n",
       "max               \u001b[1;36m50000.000000\u001b[0m            \u001b[1;36m2020\u001b[0m-\u001b[1;36m05\u001b[0m-\u001b[1;36m07\u001b[0m \u001b[1;92m00:00:00\u001b[0m  \u001b[1;36m99966.000000\u001b[0m  \n",
       "std               \u001b[1;36m10073.037596\u001b[0m                            NaN   \u001b[1;36m8865.495370\u001b[0m  "
      ]
     },
     "execution_count": 258,
     "metadata": {},
     "output_type": "execute_result"
    }
   ],
   "source": [
    "df.describe()"
   ]
  },
  {
   "cell_type": "code",
   "execution_count": 259,
   "metadata": {},
   "outputs": [
    {
     "data": {
      "text/html": [
       "<pre style=\"white-space:pre;overflow-x:auto;line-height:normal;font-family:Menlo,'DejaVu Sans Mono',consolas,'Courier New',monospace\"></pre>\n"
      ],
      "text/plain": []
     },
     "metadata": {},
     "output_type": "display_data"
    },
    {
     "data": {
      "text/plain": [
       "\u001b[32m'category_expense df.category_expense.nunique\u001b[0m\u001b[32m(\u001b[0m\u001b[32m)\u001b[0m\u001b[32m = 20'\u001b[0m"
      ]
     },
     "metadata": {},
     "output_type": "display_data"
    },
    {
     "data": {
      "text/html": [
       "<pre style=\"white-space:pre;overflow-x:auto;line-height:normal;font-family:Menlo,'DejaVu Sans Mono',consolas,'Courier New',monospace\"></pre>\n"
      ],
      "text/plain": []
     },
     "metadata": {},
     "output_type": "display_data"
    },
    {
     "data": {
      "text/plain": [
       "\n",
       "category_expense\n",
       "SERVI‚O           \u001b[1;36m1769\u001b[0m\n",
       "RESTAURANTE        \u001b[1;36m871\u001b[0m\n",
       "VAREJO             \u001b[1;36m598\u001b[0m\n",
       "SUPERMERCADOS      \u001b[1;36m468\u001b[0m\n",
       "VESTUARIO          \u001b[1;36m236\u001b[0m\n",
       "FARMACIAS          \u001b[1;36m222\u001b[0m\n",
       "POSTO DE GAS       \u001b[1;36m199\u001b[0m\n",
       "M.O.T.O.           \u001b[1;36m177\u001b[0m\n",
       "ARTIGOS ELETRO     \u001b[1;36m122\u001b[0m\n",
       "LOJA DE DEPART      \u001b[1;36m80\u001b[0m\n",
       "CIA AEREAS          \u001b[1;36m36\u001b[0m\n",
       "HOTEIS              \u001b[1;36m24\u001b[0m\n",
       "HOSP E CLINICA      \u001b[1;36m18\u001b[0m\n",
       "SEM RAMO            \u001b[1;36m16\u001b[0m\n",
       "MOVEIS E DECOR      \u001b[1;36m15\u001b[0m\n",
       "MAT CONSTRUCAO      \u001b[1;36m15\u001b[0m\n",
       "AUTO PE‚AS          \u001b[1;36m14\u001b[0m\n",
       "AGENCIA DE TUR      \u001b[1;36m12\u001b[0m\n",
       "JOALHERIA            \u001b[1;36m6\u001b[0m\n",
       "ALUG DE CARROS       \u001b[1;36m1\u001b[0m\n",
       "Name: count, dtype: int64"
      ]
     },
     "metadata": {},
     "output_type": "display_data"
    }
   ],
   "source": [
    "display(f'category_expense {df.category_expense.nunique() = }', df.category_expense.value_counts())"
   ]
  },
  {
   "cell_type": "markdown",
   "metadata": {},
   "source": [
    "# Primary dataset"
   ]
  },
  {
   "cell_type": "code",
   "execution_count": 261,
   "metadata": {},
   "outputs": [
    {
     "data": {
      "text/html": [
       "<pre style=\"white-space:pre;overflow-x:auto;line-height:normal;font-family:Menlo,'DejaVu Sans Mono',consolas,'Courier New',monospace\"><span style=\"color: #7fbfbf; text-decoration-color: #7fbfbf\">[04/01/24 08:21:55] </span><span style=\"color: #000080; text-decoration-color: #000080\">INFO    </span> Resolved project path as:                                              <a href=\"file:///usr/local/Caskroom/miniforge/base/envs/kedro-environment/lib/python3.10/site-packages/kedro/ipython/__init__.py\" target=\"_blank\"><span style=\"color: #7f7f7f; text-decoration-color: #7f7f7f\">__init__.py</span></a><span style=\"color: #7f7f7f; text-decoration-color: #7f7f7f\">:</span><a href=\"file:///usr/local/Caskroom/miniforge/base/envs/kedro-environment/lib/python3.10/site-packages/kedro/ipython/__init__.py#164\" target=\"_blank\"><span style=\"color: #7f7f7f; text-decoration-color: #7f7f7f\">164</span></a>\n",
       "<span style=\"color: #7fbfbf; text-decoration-color: #7fbfbf\">                    </span>         <span style=\"color: #800080; text-decoration-color: #800080\">/Users/richarddegaki/repos/xrhd/</span><span style=\"color: #ff00ff; text-decoration-color: #ff00ff\">brazilian-credit-card-spending.</span>        <span style=\"color: #7f7f7f; text-decoration-color: #7f7f7f\">               </span>\n",
       "<span style=\"color: #7fbfbf; text-decoration-color: #7fbfbf\">                    </span>         To set a different path, run <span style=\"color: #008000; text-decoration-color: #008000\">'%reload_kedro &lt;project_root&gt;'</span>            <span style=\"color: #7f7f7f; text-decoration-color: #7f7f7f\">               </span>\n",
       "</pre>\n"
      ],
      "text/plain": [
       "\u001b[2;36m[04/01/24 08:21:55]\u001b[0m\u001b[2;36m \u001b[0m\u001b[34mINFO    \u001b[0m Resolved project path as:                                              \u001b]8;id=927756;file:///usr/local/Caskroom/miniforge/base/envs/kedro-environment/lib/python3.10/site-packages/kedro/ipython/__init__.py\u001b\\\u001b[2m__init__.py\u001b[0m\u001b]8;;\u001b\\\u001b[2m:\u001b[0m\u001b]8;id=184301;file:///usr/local/Caskroom/miniforge/base/envs/kedro-environment/lib/python3.10/site-packages/kedro/ipython/__init__.py#164\u001b\\\u001b[2m164\u001b[0m\u001b]8;;\u001b\\\n",
       "\u001b[2;36m                    \u001b[0m         \u001b[35m/Users/richarddegaki/repos/xrhd/\u001b[0m\u001b[95mbrazilian-credit-card-spending.\u001b[0m        \u001b[2m               \u001b[0m\n",
       "\u001b[2;36m                    \u001b[0m         To set a different path, run \u001b[32m'%reload_kedro \u001b[0m\u001b[32m<\u001b[0m\u001b[32mproject_root\u001b[0m\u001b[32m>\u001b[0m\u001b[32m'\u001b[0m            \u001b[2m               \u001b[0m\n"
      ]
     },
     "metadata": {},
     "output_type": "display_data"
    },
    {
     "data": {
      "text/html": [
       "<pre style=\"white-space:pre;overflow-x:auto;line-height:normal;font-family:Menlo,'DejaVu Sans Mono',consolas,'Courier New',monospace\"><span style=\"color: #7fbfbf; text-decoration-color: #7fbfbf\">[04/01/24 08:21:56] </span><span style=\"color: #000080; text-decoration-color: #000080\">INFO    </span> Kedro project Brazilian Credit Card Spending                           <a href=\"file:///usr/local/Caskroom/miniforge/base/envs/kedro-environment/lib/python3.10/site-packages/kedro/ipython/__init__.py\" target=\"_blank\"><span style=\"color: #7f7f7f; text-decoration-color: #7f7f7f\">__init__.py</span></a><span style=\"color: #7f7f7f; text-decoration-color: #7f7f7f\">:</span><a href=\"file:///usr/local/Caskroom/miniforge/base/envs/kedro-environment/lib/python3.10/site-packages/kedro/ipython/__init__.py#134\" target=\"_blank\"><span style=\"color: #7f7f7f; text-decoration-color: #7f7f7f\">134</span></a>\n",
       "</pre>\n"
      ],
      "text/plain": [
       "\u001b[2;36m[04/01/24 08:21:56]\u001b[0m\u001b[2;36m \u001b[0m\u001b[34mINFO    \u001b[0m Kedro project Brazilian Credit Card Spending                           \u001b]8;id=762925;file:///usr/local/Caskroom/miniforge/base/envs/kedro-environment/lib/python3.10/site-packages/kedro/ipython/__init__.py\u001b\\\u001b[2m__init__.py\u001b[0m\u001b]8;;\u001b\\\u001b[2m:\u001b[0m\u001b]8;id=776474;file:///usr/local/Caskroom/miniforge/base/envs/kedro-environment/lib/python3.10/site-packages/kedro/ipython/__init__.py#134\u001b\\\u001b[2m134\u001b[0m\u001b]8;;\u001b\\\n"
      ]
     },
     "metadata": {},
     "output_type": "display_data"
    },
    {
     "data": {
      "text/html": [
       "<pre style=\"white-space:pre;overflow-x:auto;line-height:normal;font-family:Menlo,'DejaVu Sans Mono',consolas,'Courier New',monospace\"><span style=\"color: #7fbfbf; text-decoration-color: #7fbfbf\">                    </span><span style=\"color: #000080; text-decoration-color: #000080\">INFO    </span> Defined global variable <span style=\"color: #008000; text-decoration-color: #008000\">'context'</span>, <span style=\"color: #008000; text-decoration-color: #008000\">'session'</span>, <span style=\"color: #008000; text-decoration-color: #008000\">'catalog'</span> and            <a href=\"file:///usr/local/Caskroom/miniforge/base/envs/kedro-environment/lib/python3.10/site-packages/kedro/ipython/__init__.py\" target=\"_blank\"><span style=\"color: #7f7f7f; text-decoration-color: #7f7f7f\">__init__.py</span></a><span style=\"color: #7f7f7f; text-decoration-color: #7f7f7f\">:</span><a href=\"file:///usr/local/Caskroom/miniforge/base/envs/kedro-environment/lib/python3.10/site-packages/kedro/ipython/__init__.py#135\" target=\"_blank\"><span style=\"color: #7f7f7f; text-decoration-color: #7f7f7f\">135</span></a>\n",
       "<span style=\"color: #7fbfbf; text-decoration-color: #7fbfbf\">                    </span>         <span style=\"color: #008000; text-decoration-color: #008000\">'pipelines'</span>                                                            <span style=\"color: #7f7f7f; text-decoration-color: #7f7f7f\">               </span>\n",
       "</pre>\n"
      ],
      "text/plain": [
       "\u001b[2;36m                   \u001b[0m\u001b[2;36m \u001b[0m\u001b[34mINFO    \u001b[0m Defined global variable \u001b[32m'context'\u001b[0m, \u001b[32m'session'\u001b[0m, \u001b[32m'catalog'\u001b[0m and            \u001b]8;id=818659;file:///usr/local/Caskroom/miniforge/base/envs/kedro-environment/lib/python3.10/site-packages/kedro/ipython/__init__.py\u001b\\\u001b[2m__init__.py\u001b[0m\u001b]8;;\u001b\\\u001b[2m:\u001b[0m\u001b]8;id=340044;file:///usr/local/Caskroom/miniforge/base/envs/kedro-environment/lib/python3.10/site-packages/kedro/ipython/__init__.py#135\u001b\\\u001b[2m135\u001b[0m\u001b]8;;\u001b\\\n",
       "\u001b[2;36m                    \u001b[0m         \u001b[32m'pipelines'\u001b[0m                                                            \u001b[2m               \u001b[0m\n"
      ]
     },
     "metadata": {},
     "output_type": "display_data"
    },
    {
     "data": {
      "text/html": [
       "<pre style=\"white-space:pre;overflow-x:auto;line-height:normal;font-family:Menlo,'DejaVu Sans Mono',consolas,'Courier New',monospace\"><span style=\"color: #7fbfbf; text-decoration-color: #7fbfbf\">                    </span><span style=\"color: #000080; text-decoration-color: #000080\">INFO    </span> Registered line magic <span style=\"color: #008000; text-decoration-color: #008000\">'run_viz'</span>                                        <a href=\"file:///usr/local/Caskroom/miniforge/base/envs/kedro-environment/lib/python3.10/site-packages/kedro/ipython/__init__.py\" target=\"_blank\"><span style=\"color: #7f7f7f; text-decoration-color: #7f7f7f\">__init__.py</span></a><span style=\"color: #7f7f7f; text-decoration-color: #7f7f7f\">:</span><a href=\"file:///usr/local/Caskroom/miniforge/base/envs/kedro-environment/lib/python3.10/site-packages/kedro/ipython/__init__.py#141\" target=\"_blank\"><span style=\"color: #7f7f7f; text-decoration-color: #7f7f7f\">141</span></a>\n",
       "</pre>\n"
      ],
      "text/plain": [
       "\u001b[2;36m                   \u001b[0m\u001b[2;36m \u001b[0m\u001b[34mINFO    \u001b[0m Registered line magic \u001b[32m'run_viz'\u001b[0m                                        \u001b]8;id=29175;file:///usr/local/Caskroom/miniforge/base/envs/kedro-environment/lib/python3.10/site-packages/kedro/ipython/__init__.py\u001b\\\u001b[2m__init__.py\u001b[0m\u001b]8;;\u001b\\\u001b[2m:\u001b[0m\u001b]8;id=213019;file:///usr/local/Caskroom/miniforge/base/envs/kedro-environment/lib/python3.10/site-packages/kedro/ipython/__init__.py#141\u001b\\\u001b[2m141\u001b[0m\u001b]8;;\u001b\\\n"
      ]
     },
     "metadata": {},
     "output_type": "display_data"
    },
    {
     "data": {
      "text/html": [
       "<pre style=\"white-space:pre;overflow-x:auto;line-height:normal;font-family:Menlo,'DejaVu Sans Mono',consolas,'Courier New',monospace\"><span style=\"color: #7fbfbf; text-decoration-color: #7fbfbf\">                    </span><span style=\"color: #000080; text-decoration-color: #000080\">INFO    </span> Loading data from <span style=\"color: #ff8700; text-decoration-color: #ff8700\">cleaned_mibolsillo</span> <span style=\"font-weight: bold\">(</span>ParquetDataset<span style=\"font-weight: bold\">)</span><span style=\"color: #808000; text-decoration-color: #808000\">...</span>           <a href=\"file:///usr/local/Caskroom/miniforge/base/envs/kedro-environment/lib/python3.10/site-packages/kedro/io/data_catalog.py\" target=\"_blank\"><span style=\"color: #7f7f7f; text-decoration-color: #7f7f7f\">data_catalog.py</span></a><span style=\"color: #7f7f7f; text-decoration-color: #7f7f7f\">:</span><a href=\"file:///usr/local/Caskroom/miniforge/base/envs/kedro-environment/lib/python3.10/site-packages/kedro/io/data_catalog.py#483\" target=\"_blank\"><span style=\"color: #7f7f7f; text-decoration-color: #7f7f7f\">483</span></a>\n",
       "</pre>\n"
      ],
      "text/plain": [
       "\u001b[2;36m                   \u001b[0m\u001b[2;36m \u001b[0m\u001b[34mINFO    \u001b[0m Loading data from \u001b[38;5;208mcleaned_mibolsillo\u001b[0m \u001b[1m(\u001b[0mParquetDataset\u001b[1m)\u001b[0m\u001b[33m...\u001b[0m           \u001b]8;id=199802;file:///usr/local/Caskroom/miniforge/base/envs/kedro-environment/lib/python3.10/site-packages/kedro/io/data_catalog.py\u001b\\\u001b[2mdata_catalog.py\u001b[0m\u001b]8;;\u001b\\\u001b[2m:\u001b[0m\u001b]8;id=528804;file:///usr/local/Caskroom/miniforge/base/envs/kedro-environment/lib/python3.10/site-packages/kedro/io/data_catalog.py#483\u001b\\\u001b[2m483\u001b[0m\u001b]8;;\u001b\\\n"
      ]
     },
     "metadata": {},
     "output_type": "display_data"
    },
    {
     "data": {
      "text/html": [
       "<pre style=\"white-space:pre;overflow-x:auto;line-height:normal;font-family:Menlo,'DejaVu Sans Mono',consolas,'Courier New',monospace\"></pre>\n"
      ],
      "text/plain": []
     },
     "metadata": {},
     "output_type": "display_data"
    },
    {
     "data": {
      "text/html": [
       "<div>\n",
       "<style scoped>\n",
       "    .dataframe tbody tr th:only-of-type {\n",
       "        vertical-align: middle;\n",
       "    }\n",
       "\n",
       "    .dataframe tbody tr th {\n",
       "        vertical-align: top;\n",
       "    }\n",
       "\n",
       "    .dataframe thead th {\n",
       "        text-align: right;\n",
       "    }\n",
       "</style>\n",
       "<table border=\"1\" class=\"dataframe\">\n",
       "  <thead>\n",
       "    <tr style=\"text-align: right;\">\n",
       "      <th></th>\n",
       "      <th>id</th>\n",
       "      <th>branch_number</th>\n",
       "      <th>city</th>\n",
       "      <th>state</th>\n",
       "      <th>age</th>\n",
       "      <th>gender</th>\n",
       "      <th>total_credit_card_limit</th>\n",
       "      <th>current_available_limit</th>\n",
       "      <th>date</th>\n",
       "      <th>amount</th>\n",
       "      <th>category_expense</th>\n",
       "      <th>purchase_city</th>\n",
       "      <th>purchase_country</th>\n",
       "    </tr>\n",
       "  </thead>\n",
       "  <tbody>\n",
       "    <tr>\n",
       "      <th>0</th>\n",
       "      <td>4,53E+11</td>\n",
       "      <td>201405</td>\n",
       "      <td>CAMPO LIMPO PAULISTA</td>\n",
       "      <td>SP</td>\n",
       "      <td>37</td>\n",
       "      <td>F</td>\n",
       "      <td>4700</td>\n",
       "      <td>5605</td>\n",
       "      <td>2019-12-04</td>\n",
       "      <td>31.0</td>\n",
       "      <td>SERVI‚O</td>\n",
       "      <td>SAO PAULO</td>\n",
       "      <td>BR</td>\n",
       "    </tr>\n",
       "    <tr>\n",
       "      <th>1</th>\n",
       "      <td>4,53E+11</td>\n",
       "      <td>201405</td>\n",
       "      <td>CAMPO LIMPO PAULISTA</td>\n",
       "      <td>SP</td>\n",
       "      <td>37</td>\n",
       "      <td>F</td>\n",
       "      <td>4700</td>\n",
       "      <td>5343</td>\n",
       "      <td>2019-11-09</td>\n",
       "      <td>15001.0</td>\n",
       "      <td>FARMACIAS</td>\n",
       "      <td>SANTOS</td>\n",
       "      <td>BR</td>\n",
       "    </tr>\n",
       "    <tr>\n",
       "      <th>2</th>\n",
       "      <td>4,53E+11</td>\n",
       "      <td>201405</td>\n",
       "      <td>CAMPO LIMPO PAULISTA</td>\n",
       "      <td>SP</td>\n",
       "      <td>37</td>\n",
       "      <td>F</td>\n",
       "      <td>4700</td>\n",
       "      <td>2829</td>\n",
       "      <td>2019-05-06</td>\n",
       "      <td>50.0</td>\n",
       "      <td>SERVI‚O</td>\n",
       "      <td>SAO PAULO</td>\n",
       "      <td>BR</td>\n",
       "    </tr>\n",
       "    <tr>\n",
       "      <th>3</th>\n",
       "      <td>4,53E+11</td>\n",
       "      <td>201405</td>\n",
       "      <td>CAMPO LIMPO PAULISTA</td>\n",
       "      <td>SP</td>\n",
       "      <td>37</td>\n",
       "      <td>F</td>\n",
       "      <td>4700</td>\n",
       "      <td>2547</td>\n",
       "      <td>2019-06-01</td>\n",
       "      <td>544.0</td>\n",
       "      <td>M.O.T.O.</td>\n",
       "      <td>OSASCO</td>\n",
       "      <td>BR</td>\n",
       "    </tr>\n",
       "    <tr>\n",
       "      <th>4</th>\n",
       "      <td>4,53E+11</td>\n",
       "      <td>201405</td>\n",
       "      <td>CAMPO LIMPO PAULISTA</td>\n",
       "      <td>SP</td>\n",
       "      <td>37</td>\n",
       "      <td>F</td>\n",
       "      <td>4700</td>\n",
       "      <td>2515</td>\n",
       "      <td>2019-06-01</td>\n",
       "      <td>3279.0</td>\n",
       "      <td>M.O.T.O.</td>\n",
       "      <td>OSASCO</td>\n",
       "      <td>BR</td>\n",
       "    </tr>\n",
       "    <tr>\n",
       "      <th>...</th>\n",
       "      <td>...</td>\n",
       "      <td>...</td>\n",
       "      <td>...</td>\n",
       "      <td>...</td>\n",
       "      <td>...</td>\n",
       "      <td>...</td>\n",
       "      <td>...</td>\n",
       "      <td>...</td>\n",
       "      <td>...</td>\n",
       "      <td>...</td>\n",
       "      <td>...</td>\n",
       "      <td>...</td>\n",
       "      <td>...</td>\n",
       "    </tr>\n",
       "    <tr>\n",
       "      <th>4950</th>\n",
       "      <td>9,19E+11</td>\n",
       "      <td>201910</td>\n",
       "      <td>SAO PAULO</td>\n",
       "      <td>SP</td>\n",
       "      <td>37</td>\n",
       "      <td>M</td>\n",
       "      <td>8500</td>\n",
       "      <td>5305</td>\n",
       "      <td>2020-01-23</td>\n",
       "      <td>255.0</td>\n",
       "      <td>RESTAURANTE</td>\n",
       "      <td>SAO PAULO</td>\n",
       "      <td>BR</td>\n",
       "    </tr>\n",
       "    <tr>\n",
       "      <th>4951</th>\n",
       "      <td>9,19E+11</td>\n",
       "      <td>201910</td>\n",
       "      <td>SAO PAULO</td>\n",
       "      <td>SP</td>\n",
       "      <td>37</td>\n",
       "      <td>M</td>\n",
       "      <td>8500</td>\n",
       "      <td>5266</td>\n",
       "      <td>2020-01-23</td>\n",
       "      <td>395.0</td>\n",
       "      <td>SUPERMERCADOS</td>\n",
       "      <td>SAO PAULO</td>\n",
       "      <td>BR</td>\n",
       "    </tr>\n",
       "    <tr>\n",
       "      <th>4952</th>\n",
       "      <td>9,19E+11</td>\n",
       "      <td>201910</td>\n",
       "      <td>SAO PAULO</td>\n",
       "      <td>SP</td>\n",
       "      <td>37</td>\n",
       "      <td>M</td>\n",
       "      <td>8500</td>\n",
       "      <td>5445</td>\n",
       "      <td>2020-02-19</td>\n",
       "      <td>7556.0</td>\n",
       "      <td>RESTAURANTE</td>\n",
       "      <td>SAO PAULO</td>\n",
       "      <td>BR</td>\n",
       "    </tr>\n",
       "    <tr>\n",
       "      <th>4953</th>\n",
       "      <td>9,19E+11</td>\n",
       "      <td>201910</td>\n",
       "      <td>SAO PAULO</td>\n",
       "      <td>SP</td>\n",
       "      <td>37</td>\n",
       "      <td>M</td>\n",
       "      <td>8500</td>\n",
       "      <td>5002</td>\n",
       "      <td>2020-03-30</td>\n",
       "      <td>59.0</td>\n",
       "      <td>SERVI‚O</td>\n",
       "      <td>SAO PAULO</td>\n",
       "      <td>BR</td>\n",
       "    </tr>\n",
       "    <tr>\n",
       "      <th>4954</th>\n",
       "      <td>9,19E+11</td>\n",
       "      <td>201910</td>\n",
       "      <td>SAO PAULO</td>\n",
       "      <td>SP</td>\n",
       "      <td>37</td>\n",
       "      <td>M</td>\n",
       "      <td>8500</td>\n",
       "      <td>5222</td>\n",
       "      <td>2020-01-24</td>\n",
       "      <td>4369.0</td>\n",
       "      <td>M.O.T.O.</td>\n",
       "      <td>RIO DE JANEIR</td>\n",
       "      <td>BR</td>\n",
       "    </tr>\n",
       "  </tbody>\n",
       "</table>\n",
       "<p>4899 rows × 13 columns</p>\n",
       "</div>"
      ],
      "text/plain": [
       "\n",
       "            id  branch_number                  city state  age gender  \\\n",
       "\u001b[1;36m0\u001b[0m     \u001b[1;36m4\u001b[0m,53E+\u001b[1;36m11\u001b[0m         \u001b[1;36m201405\u001b[0m  CAMPO LIMPO PAULISTA    SP   \u001b[1;36m37\u001b[0m      F   \n",
       "\u001b[1;36m1\u001b[0m     \u001b[1;36m4\u001b[0m,53E+\u001b[1;36m11\u001b[0m         \u001b[1;36m201405\u001b[0m  CAMPO LIMPO PAULISTA    SP   \u001b[1;36m37\u001b[0m      F   \n",
       "\u001b[1;36m2\u001b[0m     \u001b[1;36m4\u001b[0m,53E+\u001b[1;36m11\u001b[0m         \u001b[1;36m201405\u001b[0m  CAMPO LIMPO PAULISTA    SP   \u001b[1;36m37\u001b[0m      F   \n",
       "\u001b[1;36m3\u001b[0m     \u001b[1;36m4\u001b[0m,53E+\u001b[1;36m11\u001b[0m         \u001b[1;36m201405\u001b[0m  CAMPO LIMPO PAULISTA    SP   \u001b[1;36m37\u001b[0m      F   \n",
       "\u001b[1;36m4\u001b[0m     \u001b[1;36m4\u001b[0m,53E+\u001b[1;36m11\u001b[0m         \u001b[1;36m201405\u001b[0m  CAMPO LIMPO PAULISTA    SP   \u001b[1;36m37\u001b[0m      F   \n",
       "\u001b[33m...\u001b[0m        \u001b[33m...\u001b[0m            \u001b[33m...\u001b[0m                   \u001b[33m...\u001b[0m   \u001b[33m...\u001b[0m  \u001b[33m...\u001b[0m    \u001b[33m...\u001b[0m   \n",
       "\u001b[1;36m4950\u001b[0m  \u001b[1;36m9\u001b[0m,19E+\u001b[1;36m11\u001b[0m         \u001b[1;36m201910\u001b[0m             SAO PAULO    SP   \u001b[1;36m37\u001b[0m      M   \n",
       "\u001b[1;36m4951\u001b[0m  \u001b[1;36m9\u001b[0m,19E+\u001b[1;36m11\u001b[0m         \u001b[1;36m201910\u001b[0m             SAO PAULO    SP   \u001b[1;36m37\u001b[0m      M   \n",
       "\u001b[1;36m4952\u001b[0m  \u001b[1;36m9\u001b[0m,19E+\u001b[1;36m11\u001b[0m         \u001b[1;36m201910\u001b[0m             SAO PAULO    SP   \u001b[1;36m37\u001b[0m      M   \n",
       "\u001b[1;36m4953\u001b[0m  \u001b[1;36m9\u001b[0m,19E+\u001b[1;36m11\u001b[0m         \u001b[1;36m201910\u001b[0m             SAO PAULO    SP   \u001b[1;36m37\u001b[0m      M   \n",
       "\u001b[1;36m4954\u001b[0m  \u001b[1;36m9\u001b[0m,19E+\u001b[1;36m11\u001b[0m         \u001b[1;36m201910\u001b[0m             SAO PAULO    SP   \u001b[1;36m37\u001b[0m      M   \n",
       "\n",
       "      total_credit_card_limit  current_available_limit       date   amount  \\\n",
       "\u001b[1;36m0\u001b[0m                        \u001b[1;36m4700\u001b[0m                     \u001b[1;36m5605\u001b[0m \u001b[1;36m2019\u001b[0m-\u001b[1;36m12\u001b[0m-\u001b[1;36m04\u001b[0m     \u001b[1;36m31.0\u001b[0m   \n",
       "\u001b[1;36m1\u001b[0m                        \u001b[1;36m4700\u001b[0m                     \u001b[1;36m5343\u001b[0m \u001b[1;36m2019\u001b[0m-\u001b[1;36m11\u001b[0m-\u001b[1;36m09\u001b[0m  \u001b[1;36m15001.0\u001b[0m   \n",
       "\u001b[1;36m2\u001b[0m                        \u001b[1;36m4700\u001b[0m                     \u001b[1;36m2829\u001b[0m \u001b[1;36m2019\u001b[0m-\u001b[1;36m05\u001b[0m-\u001b[1;36m06\u001b[0m     \u001b[1;36m50.0\u001b[0m   \n",
       "\u001b[1;36m3\u001b[0m                        \u001b[1;36m4700\u001b[0m                     \u001b[1;36m2547\u001b[0m \u001b[1;36m2019\u001b[0m-\u001b[1;36m06\u001b[0m-\u001b[1;36m01\u001b[0m    \u001b[1;36m544.0\u001b[0m   \n",
       "\u001b[1;36m4\u001b[0m                        \u001b[1;36m4700\u001b[0m                     \u001b[1;36m2515\u001b[0m \u001b[1;36m2019\u001b[0m-\u001b[1;36m06\u001b[0m-\u001b[1;36m01\u001b[0m   \u001b[1;36m3279.0\u001b[0m   \n",
       "\u001b[33m...\u001b[0m                       \u001b[33m...\u001b[0m                      \u001b[33m...\u001b[0m        \u001b[33m...\u001b[0m      \u001b[33m...\u001b[0m   \n",
       "\u001b[1;36m4950\u001b[0m                     \u001b[1;36m8500\u001b[0m                     \u001b[1;36m5305\u001b[0m \u001b[1;36m2020\u001b[0m-\u001b[1;36m01\u001b[0m-\u001b[1;36m23\u001b[0m    \u001b[1;36m255.0\u001b[0m   \n",
       "\u001b[1;36m4951\u001b[0m                     \u001b[1;36m8500\u001b[0m                     \u001b[1;36m5266\u001b[0m \u001b[1;36m2020\u001b[0m-\u001b[1;36m01\u001b[0m-\u001b[1;36m23\u001b[0m    \u001b[1;36m395.0\u001b[0m   \n",
       "\u001b[1;36m4952\u001b[0m                     \u001b[1;36m8500\u001b[0m                     \u001b[1;36m5445\u001b[0m \u001b[1;36m2020\u001b[0m-\u001b[1;36m02\u001b[0m-\u001b[1;36m19\u001b[0m   \u001b[1;36m7556.0\u001b[0m   \n",
       "\u001b[1;36m4953\u001b[0m                     \u001b[1;36m8500\u001b[0m                     \u001b[1;36m5002\u001b[0m \u001b[1;36m2020\u001b[0m-\u001b[1;36m03\u001b[0m-\u001b[1;36m30\u001b[0m     \u001b[1;36m59.0\u001b[0m   \n",
       "\u001b[1;36m4954\u001b[0m                     \u001b[1;36m8500\u001b[0m                     \u001b[1;36m5222\u001b[0m \u001b[1;36m2020\u001b[0m-\u001b[1;36m01\u001b[0m-\u001b[1;36m24\u001b[0m   \u001b[1;36m4369.0\u001b[0m   \n",
       "\n",
       "     category_expense  purchase_city purchase_country  \n",
       "\u001b[1;36m0\u001b[0m             SERVI‚O      SAO PAULO               BR  \n",
       "\u001b[1;36m1\u001b[0m           FARMACIAS         SANTOS               BR  \n",
       "\u001b[1;36m2\u001b[0m             SERVI‚O      SAO PAULO               BR  \n",
       "\u001b[1;36m3\u001b[0m            M.O.T.O.         OSASCO               BR  \n",
       "\u001b[1;36m4\u001b[0m            M.O.T.O.         OSASCO               BR  \n",
       "\u001b[33m...\u001b[0m               \u001b[33m...\u001b[0m            \u001b[33m...\u001b[0m              \u001b[33m...\u001b[0m  \n",
       "\u001b[1;36m4950\u001b[0m      RESTAURANTE      SAO PAULO               BR  \n",
       "\u001b[1;36m4951\u001b[0m    SUPERMERCADOS      SAO PAULO               BR  \n",
       "\u001b[1;36m4952\u001b[0m      RESTAURANTE      SAO PAULO               BR  \n",
       "\u001b[1;36m4953\u001b[0m          SERVI‚O      SAO PAULO               BR  \n",
       "\u001b[1;36m4954\u001b[0m         M.O.T.O.  RIO DE JANEIR               BR  \n",
       "\n",
       "\u001b[1m[\u001b[0m\u001b[1;36m4899\u001b[0m rows x \u001b[1;36m13\u001b[0m columns\u001b[1m]\u001b[0m"
      ]
     },
     "execution_count": 261,
     "metadata": {},
     "output_type": "execute_result"
    }
   ],
   "source": [
    "%reload_kedro\n",
    "cleaned_df = catalog.load(\"cleaned_mibolsillo\")\n",
    "cleaned_df"
   ]
  },
  {
   "cell_type": "code",
   "execution_count": null,
   "metadata": {},
   "outputs": [],
   "source": []
  },
  {
   "cell_type": "code",
   "execution_count": null,
   "metadata": {},
   "outputs": [],
   "source": []
  }
 ],
 "metadata": {
  "kernelspec": {
   "display_name": "Kedro (brazilian_credit_card_spending)",
   "language": "python",
   "name": "kedro_brazilian_credit_card_spending"
  },
  "language_info": {
   "codemirror_mode": {
    "name": "ipython",
    "version": 3
   },
   "file_extension": ".py",
   "mimetype": "text/x-python",
   "name": "python",
   "nbconvert_exporter": "python",
   "pygments_lexer": "ipython3",
   "version": "3.10.14"
  }
 },
 "nbformat": 4,
 "nbformat_minor": 2
}
