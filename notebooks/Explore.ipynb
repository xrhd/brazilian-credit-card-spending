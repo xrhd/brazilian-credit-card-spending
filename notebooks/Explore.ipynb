{
 "cells": [
  {
   "cell_type": "markdown",
   "metadata": {},
   "source": [
    "# Setup"
   ]
  },
  {
   "cell_type": "code",
   "execution_count": 7,
   "metadata": {},
   "outputs": [
    {
     "name": "stdout",
     "output_type": "stream",
     "text": [
      "The kedro.ipython extension is already loaded. To reload it, use:\n",
      "  %reload_ext kedro.ipython\n"
     ]
    },
    {
     "data": {
      "text/html": [
       "<pre style=\"white-space:pre;overflow-x:auto;line-height:normal;font-family:Menlo,'DejaVu Sans Mono',consolas,'Courier New',monospace\"><span style=\"color: #7fbfbf; text-decoration-color: #7fbfbf\">[03/31/24 14:31:35] </span><span style=\"color: #000080; text-decoration-color: #000080\">INFO    </span> Resolved project path as:                                              <a href=\"file:///usr/local/Caskroom/miniforge/base/envs/kedro-environment/lib/python3.10/site-packages/kedro/ipython/__init__.py\" target=\"_blank\"><span style=\"color: #7f7f7f; text-decoration-color: #7f7f7f\">__init__.py</span></a><span style=\"color: #7f7f7f; text-decoration-color: #7f7f7f\">:</span><a href=\"file:///usr/local/Caskroom/miniforge/base/envs/kedro-environment/lib/python3.10/site-packages/kedro/ipython/__init__.py#164\" target=\"_blank\"><span style=\"color: #7f7f7f; text-decoration-color: #7f7f7f\">164</span></a>\n",
       "<span style=\"color: #7fbfbf; text-decoration-color: #7fbfbf\">                    </span>         <span style=\"color: #800080; text-decoration-color: #800080\">/Users/richarddegaki/repos/xrhd/</span><span style=\"color: #ff00ff; text-decoration-color: #ff00ff\">brazilian-credit-card-spending.</span>        <span style=\"color: #7f7f7f; text-decoration-color: #7f7f7f\">               </span>\n",
       "<span style=\"color: #7fbfbf; text-decoration-color: #7fbfbf\">                    </span>         To set a different path, run <span style=\"color: #008000; text-decoration-color: #008000\">'%reload_kedro &lt;project_root&gt;'</span>            <span style=\"color: #7f7f7f; text-decoration-color: #7f7f7f\">               </span>\n",
       "</pre>\n"
      ],
      "text/plain": [
       "\u001b[2;36m[03/31/24 14:31:35]\u001b[0m\u001b[2;36m \u001b[0m\u001b[34mINFO    \u001b[0m Resolved project path as:                                              \u001b]8;id=501683;file:///usr/local/Caskroom/miniforge/base/envs/kedro-environment/lib/python3.10/site-packages/kedro/ipython/__init__.py\u001b\\\u001b[2m__init__.py\u001b[0m\u001b]8;;\u001b\\\u001b[2m:\u001b[0m\u001b]8;id=607445;file:///usr/local/Caskroom/miniforge/base/envs/kedro-environment/lib/python3.10/site-packages/kedro/ipython/__init__.py#164\u001b\\\u001b[2m164\u001b[0m\u001b]8;;\u001b\\\n",
       "\u001b[2;36m                    \u001b[0m         \u001b[35m/Users/richarddegaki/repos/xrhd/\u001b[0m\u001b[95mbrazilian-credit-card-spending.\u001b[0m        \u001b[2m               \u001b[0m\n",
       "\u001b[2;36m                    \u001b[0m         To set a different path, run \u001b[32m'%reload_kedro \u001b[0m\u001b[32m<\u001b[0m\u001b[32mproject_root\u001b[0m\u001b[32m>\u001b[0m\u001b[32m'\u001b[0m            \u001b[2m               \u001b[0m\n"
      ]
     },
     "metadata": {},
     "output_type": "display_data"
    },
    {
     "data": {
      "text/html": [
       "<pre style=\"white-space:pre;overflow-x:auto;line-height:normal;font-family:Menlo,'DejaVu Sans Mono',consolas,'Courier New',monospace\"><span style=\"color: #7fbfbf; text-decoration-color: #7fbfbf\">[03/31/24 14:31:36] </span><span style=\"color: #000080; text-decoration-color: #000080\">INFO    </span> Kedro project Brazilian Credit Card Spending                           <a href=\"file:///usr/local/Caskroom/miniforge/base/envs/kedro-environment/lib/python3.10/site-packages/kedro/ipython/__init__.py\" target=\"_blank\"><span style=\"color: #7f7f7f; text-decoration-color: #7f7f7f\">__init__.py</span></a><span style=\"color: #7f7f7f; text-decoration-color: #7f7f7f\">:</span><a href=\"file:///usr/local/Caskroom/miniforge/base/envs/kedro-environment/lib/python3.10/site-packages/kedro/ipython/__init__.py#134\" target=\"_blank\"><span style=\"color: #7f7f7f; text-decoration-color: #7f7f7f\">134</span></a>\n",
       "</pre>\n"
      ],
      "text/plain": [
       "\u001b[2;36m[03/31/24 14:31:36]\u001b[0m\u001b[2;36m \u001b[0m\u001b[34mINFO    \u001b[0m Kedro project Brazilian Credit Card Spending                           \u001b]8;id=833460;file:///usr/local/Caskroom/miniforge/base/envs/kedro-environment/lib/python3.10/site-packages/kedro/ipython/__init__.py\u001b\\\u001b[2m__init__.py\u001b[0m\u001b]8;;\u001b\\\u001b[2m:\u001b[0m\u001b]8;id=560733;file:///usr/local/Caskroom/miniforge/base/envs/kedro-environment/lib/python3.10/site-packages/kedro/ipython/__init__.py#134\u001b\\\u001b[2m134\u001b[0m\u001b]8;;\u001b\\\n"
      ]
     },
     "metadata": {},
     "output_type": "display_data"
    },
    {
     "data": {
      "text/html": [
       "<pre style=\"white-space:pre;overflow-x:auto;line-height:normal;font-family:Menlo,'DejaVu Sans Mono',consolas,'Courier New',monospace\"><span style=\"color: #7fbfbf; text-decoration-color: #7fbfbf\">                    </span><span style=\"color: #000080; text-decoration-color: #000080\">INFO    </span> Defined global variable <span style=\"color: #008000; text-decoration-color: #008000\">'context'</span>, <span style=\"color: #008000; text-decoration-color: #008000\">'session'</span>, <span style=\"color: #008000; text-decoration-color: #008000\">'catalog'</span> and            <a href=\"file:///usr/local/Caskroom/miniforge/base/envs/kedro-environment/lib/python3.10/site-packages/kedro/ipython/__init__.py\" target=\"_blank\"><span style=\"color: #7f7f7f; text-decoration-color: #7f7f7f\">__init__.py</span></a><span style=\"color: #7f7f7f; text-decoration-color: #7f7f7f\">:</span><a href=\"file:///usr/local/Caskroom/miniforge/base/envs/kedro-environment/lib/python3.10/site-packages/kedro/ipython/__init__.py#135\" target=\"_blank\"><span style=\"color: #7f7f7f; text-decoration-color: #7f7f7f\">135</span></a>\n",
       "<span style=\"color: #7fbfbf; text-decoration-color: #7fbfbf\">                    </span>         <span style=\"color: #008000; text-decoration-color: #008000\">'pipelines'</span>                                                            <span style=\"color: #7f7f7f; text-decoration-color: #7f7f7f\">               </span>\n",
       "</pre>\n"
      ],
      "text/plain": [
       "\u001b[2;36m                   \u001b[0m\u001b[2;36m \u001b[0m\u001b[34mINFO    \u001b[0m Defined global variable \u001b[32m'context'\u001b[0m, \u001b[32m'session'\u001b[0m, \u001b[32m'catalog'\u001b[0m and            \u001b]8;id=400762;file:///usr/local/Caskroom/miniforge/base/envs/kedro-environment/lib/python3.10/site-packages/kedro/ipython/__init__.py\u001b\\\u001b[2m__init__.py\u001b[0m\u001b]8;;\u001b\\\u001b[2m:\u001b[0m\u001b]8;id=408924;file:///usr/local/Caskroom/miniforge/base/envs/kedro-environment/lib/python3.10/site-packages/kedro/ipython/__init__.py#135\u001b\\\u001b[2m135\u001b[0m\u001b]8;;\u001b\\\n",
       "\u001b[2;36m                    \u001b[0m         \u001b[32m'pipelines'\u001b[0m                                                            \u001b[2m               \u001b[0m\n"
      ]
     },
     "metadata": {},
     "output_type": "display_data"
    },
    {
     "data": {
      "text/html": [
       "<pre style=\"white-space:pre;overflow-x:auto;line-height:normal;font-family:Menlo,'DejaVu Sans Mono',consolas,'Courier New',monospace\"><span style=\"color: #7fbfbf; text-decoration-color: #7fbfbf\">                    </span><span style=\"color: #000080; text-decoration-color: #000080\">INFO    </span> Registered line magic <span style=\"color: #008000; text-decoration-color: #008000\">'run_viz'</span>                                        <a href=\"file:///usr/local/Caskroom/miniforge/base/envs/kedro-environment/lib/python3.10/site-packages/kedro/ipython/__init__.py\" target=\"_blank\"><span style=\"color: #7f7f7f; text-decoration-color: #7f7f7f\">__init__.py</span></a><span style=\"color: #7f7f7f; text-decoration-color: #7f7f7f\">:</span><a href=\"file:///usr/local/Caskroom/miniforge/base/envs/kedro-environment/lib/python3.10/site-packages/kedro/ipython/__init__.py#141\" target=\"_blank\"><span style=\"color: #7f7f7f; text-decoration-color: #7f7f7f\">141</span></a>\n",
       "</pre>\n"
      ],
      "text/plain": [
       "\u001b[2;36m                   \u001b[0m\u001b[2;36m \u001b[0m\u001b[34mINFO    \u001b[0m Registered line magic \u001b[32m'run_viz'\u001b[0m                                        \u001b]8;id=168183;file:///usr/local/Caskroom/miniforge/base/envs/kedro-environment/lib/python3.10/site-packages/kedro/ipython/__init__.py\u001b\\\u001b[2m__init__.py\u001b[0m\u001b]8;;\u001b\\\u001b[2m:\u001b[0m\u001b]8;id=173361;file:///usr/local/Caskroom/miniforge/base/envs/kedro-environment/lib/python3.10/site-packages/kedro/ipython/__init__.py#141\u001b\\\u001b[2m141\u001b[0m\u001b]8;;\u001b\\\n"
      ]
     },
     "metadata": {},
     "output_type": "display_data"
    }
   ],
   "source": [
    "%load_ext kedro.ipython\n",
    "%reload_kedro"
   ]
  },
  {
   "cell_type": "markdown",
   "metadata": {},
   "source": [
    "# Raw data"
   ]
  },
  {
   "cell_type": "code",
   "execution_count": 8,
   "metadata": {},
   "outputs": [
    {
     "data": {
      "text/html": [
       "<pre style=\"white-space:pre;overflow-x:auto;line-height:normal;font-family:Menlo,'DejaVu Sans Mono',consolas,'Courier New',monospace\"><span style=\"color: #7fbfbf; text-decoration-color: #7fbfbf\">[03/31/24 14:31:37] </span><span style=\"color: #000080; text-decoration-color: #000080\">INFO    </span> Loading data from <span style=\"color: #ff8700; text-decoration-color: #ff8700\">mibolsillo@csv</span> <span style=\"font-weight: bold\">(</span>CSVDataset<span style=\"font-weight: bold\">)</span><span style=\"color: #808000; text-decoration-color: #808000\">...</span>                   <a href=\"file:///usr/local/Caskroom/miniforge/base/envs/kedro-environment/lib/python3.10/site-packages/kedro/io/data_catalog.py\" target=\"_blank\"><span style=\"color: #7f7f7f; text-decoration-color: #7f7f7f\">data_catalog.py</span></a><span style=\"color: #7f7f7f; text-decoration-color: #7f7f7f\">:</span><a href=\"file:///usr/local/Caskroom/miniforge/base/envs/kedro-environment/lib/python3.10/site-packages/kedro/io/data_catalog.py#483\" target=\"_blank\"><span style=\"color: #7f7f7f; text-decoration-color: #7f7f7f\">483</span></a>\n",
       "</pre>\n"
      ],
      "text/plain": [
       "\u001b[2;36m[03/31/24 14:31:37]\u001b[0m\u001b[2;36m \u001b[0m\u001b[34mINFO    \u001b[0m Loading data from \u001b[38;5;208mmibolsillo@csv\u001b[0m \u001b[1m(\u001b[0mCSVDataset\u001b[1m)\u001b[0m\u001b[33m...\u001b[0m                   \u001b]8;id=878961;file:///usr/local/Caskroom/miniforge/base/envs/kedro-environment/lib/python3.10/site-packages/kedro/io/data_catalog.py\u001b\\\u001b[2mdata_catalog.py\u001b[0m\u001b]8;;\u001b\\\u001b[2m:\u001b[0m\u001b]8;id=37847;file:///usr/local/Caskroom/miniforge/base/envs/kedro-environment/lib/python3.10/site-packages/kedro/io/data_catalog.py#483\u001b\\\u001b[2m483\u001b[0m\u001b]8;;\u001b\\\n"
      ]
     },
     "metadata": {},
     "output_type": "display_data"
    },
    {
     "data": {
      "text/html": [
       "<pre style=\"white-space:pre;overflow-x:auto;line-height:normal;font-family:Menlo,'DejaVu Sans Mono',consolas,'Courier New',monospace\"><span style=\"color: #7fbfbf; text-decoration-color: #7fbfbf\">                    </span><span style=\"color: #800000; text-decoration-color: #800000\">WARNING </span> <span style=\"color: #800080; text-decoration-color: #800080\">/usr/local/Caskroom/miniforge/base/envs/kedro-environment/lib/python3.</span> <a href=\"file:///usr/local/Caskroom/miniforge/base/envs/kedro-environment/lib/python3.10/warnings.py\" target=\"_blank\"><span style=\"color: #7f7f7f; text-decoration-color: #7f7f7f\">warnings.py</span></a><span style=\"color: #7f7f7f; text-decoration-color: #7f7f7f\">:</span><a href=\"file:///usr/local/Caskroom/miniforge/base/envs/kedro-environment/lib/python3.10/warnings.py#109\" target=\"_blank\"><span style=\"color: #7f7f7f; text-decoration-color: #7f7f7f\">109</span></a>\n",
       "<span style=\"color: #7fbfbf; text-decoration-color: #7fbfbf\">                    </span>         <span style=\"color: #800080; text-decoration-color: #800080\">10/site-packages/kedro_datasets/pandas/</span><span style=\"color: #ff00ff; text-decoration-color: #ff00ff\">csv_dataset.py</span>:<span style=\"color: #008080; text-decoration-color: #008080; font-weight: bold\">164</span>:             <span style=\"color: #7f7f7f; text-decoration-color: #7f7f7f\">               </span>\n",
       "<span style=\"color: #7fbfbf; text-decoration-color: #7fbfbf\">                    </span>         UserWarning: Could not infer format, so each element will be parsed    <span style=\"color: #7f7f7f; text-decoration-color: #7f7f7f\">               </span>\n",
       "<span style=\"color: #7fbfbf; text-decoration-color: #7fbfbf\">                    </span>         individually, falling back to `dateutil`. To ensure parsing is         <span style=\"color: #7f7f7f; text-decoration-color: #7f7f7f\">               </span>\n",
       "<span style=\"color: #7fbfbf; text-decoration-color: #7fbfbf\">                    </span>         consistent and as-expected, please specify a format.                   <span style=\"color: #7f7f7f; text-decoration-color: #7f7f7f\">               </span>\n",
       "<span style=\"color: #7fbfbf; text-decoration-color: #7fbfbf\">                    </span>           return <span style=\"color: #800080; text-decoration-color: #800080; font-weight: bold\">pd.read_csv</span><span style=\"font-weight: bold\">(</span>load_path, **self._load_args<span style=\"font-weight: bold\">)</span>                     <span style=\"color: #7f7f7f; text-decoration-color: #7f7f7f\">               </span>\n",
       "<span style=\"color: #7fbfbf; text-decoration-color: #7fbfbf\">                    </span>                                                                                <span style=\"color: #7f7f7f; text-decoration-color: #7f7f7f\">               </span>\n",
       "</pre>\n"
      ],
      "text/plain": [
       "\u001b[2;36m                   \u001b[0m\u001b[2;36m \u001b[0m\u001b[31mWARNING \u001b[0m \u001b[35m/usr/local/Caskroom/miniforge/base/envs/kedro-environment/lib/python3.\u001b[0m \u001b]8;id=406753;file:///usr/local/Caskroom/miniforge/base/envs/kedro-environment/lib/python3.10/warnings.py\u001b\\\u001b[2mwarnings.py\u001b[0m\u001b]8;;\u001b\\\u001b[2m:\u001b[0m\u001b]8;id=72528;file:///usr/local/Caskroom/miniforge/base/envs/kedro-environment/lib/python3.10/warnings.py#109\u001b\\\u001b[2m109\u001b[0m\u001b]8;;\u001b\\\n",
       "\u001b[2;36m                    \u001b[0m         \u001b[35m10/site-packages/kedro_datasets/pandas/\u001b[0m\u001b[95mcsv_dataset.py\u001b[0m:\u001b[1;36m164\u001b[0m:             \u001b[2m               \u001b[0m\n",
       "\u001b[2;36m                    \u001b[0m         UserWarning: Could not infer format, so each element will be parsed    \u001b[2m               \u001b[0m\n",
       "\u001b[2;36m                    \u001b[0m         individually, falling back to `dateutil`. To ensure parsing is         \u001b[2m               \u001b[0m\n",
       "\u001b[2;36m                    \u001b[0m         consistent and as-expected, please specify a format.                   \u001b[2m               \u001b[0m\n",
       "\u001b[2;36m                    \u001b[0m           return \u001b[1;35mpd.read_csv\u001b[0m\u001b[1m(\u001b[0mload_path, **self._load_args\u001b[1m)\u001b[0m                     \u001b[2m               \u001b[0m\n",
       "\u001b[2;36m                    \u001b[0m                                                                                \u001b[2m               \u001b[0m\n"
      ]
     },
     "metadata": {},
     "output_type": "display_data"
    },
    {
     "data": {
      "text/html": [
       "<pre style=\"white-space:pre;overflow-x:auto;line-height:normal;font-family:Menlo,'DejaVu Sans Mono',consolas,'Courier New',monospace\"></pre>\n"
      ],
      "text/plain": []
     },
     "metadata": {},
     "output_type": "display_data"
    },
    {
     "data": {
      "text/html": [
       "<div>\n",
       "<style scoped>\n",
       "    .dataframe tbody tr th:only-of-type {\n",
       "        vertical-align: middle;\n",
       "    }\n",
       "\n",
       "    .dataframe tbody tr th {\n",
       "        vertical-align: top;\n",
       "    }\n",
       "\n",
       "    .dataframe thead th {\n",
       "        text-align: right;\n",
       "    }\n",
       "</style>\n",
       "<table border=\"1\" class=\"dataframe\">\n",
       "  <thead>\n",
       "    <tr style=\"text-align: right;\">\n",
       "      <th></th>\n",
       "      <th>branch_number</th>\n",
       "      <th>city</th>\n",
       "      <th>state</th>\n",
       "      <th>age</th>\n",
       "      <th>gender</th>\n",
       "      <th>total_credit_card_limit</th>\n",
       "      <th>current_available_limit</th>\n",
       "      <th>date</th>\n",
       "      <th>amount</th>\n",
       "      <th>category_expense</th>\n",
       "      <th>purchase_city</th>\n",
       "      <th>purchase_country</th>\n",
       "    </tr>\n",
       "    <tr>\n",
       "      <th>id</th>\n",
       "      <th></th>\n",
       "      <th></th>\n",
       "      <th></th>\n",
       "      <th></th>\n",
       "      <th></th>\n",
       "      <th></th>\n",
       "      <th></th>\n",
       "      <th></th>\n",
       "      <th></th>\n",
       "      <th></th>\n",
       "      <th></th>\n",
       "      <th></th>\n",
       "    </tr>\n",
       "  </thead>\n",
       "  <tbody>\n",
       "    <tr>\n",
       "      <th>id</th>\n",
       "      <td>safra_abertura</td>\n",
       "      <td>cidade</td>\n",
       "      <td>estado</td>\n",
       "      <td>idade</td>\n",
       "      <td>sexo</td>\n",
       "      <td>limite_total</td>\n",
       "      <td>limite_disp</td>\n",
       "      <td>data</td>\n",
       "      <td>valor</td>\n",
       "      <td>grupo_estabelecimento</td>\n",
       "      <td>cidade_estabelecimento</td>\n",
       "      <td>pais_estabelecimento</td>\n",
       "    </tr>\n",
       "    <tr>\n",
       "      <th>4,53E+11</th>\n",
       "      <td>201405</td>\n",
       "      <td>CAMPO LIMPO PAULISTA</td>\n",
       "      <td>SP</td>\n",
       "      <td>37</td>\n",
       "      <td>F</td>\n",
       "      <td>4700</td>\n",
       "      <td>5605</td>\n",
       "      <td>4.12.2019</td>\n",
       "      <td>31</td>\n",
       "      <td>SERVIâO</td>\n",
       "      <td>SAO PAULO</td>\n",
       "      <td>BR</td>\n",
       "    </tr>\n",
       "    <tr>\n",
       "      <th>4,53E+11</th>\n",
       "      <td>201405</td>\n",
       "      <td>CAMPO LIMPO PAULISTA</td>\n",
       "      <td>SP</td>\n",
       "      <td>37</td>\n",
       "      <td>F</td>\n",
       "      <td>4700</td>\n",
       "      <td>5343</td>\n",
       "      <td>9.11.2019</td>\n",
       "      <td>150,01</td>\n",
       "      <td>FARMACIAS</td>\n",
       "      <td>SANTOS</td>\n",
       "      <td>BR</td>\n",
       "    </tr>\n",
       "    <tr>\n",
       "      <th>4,53E+11</th>\n",
       "      <td>201405</td>\n",
       "      <td>CAMPO LIMPO PAULISTA</td>\n",
       "      <td>SP</td>\n",
       "      <td>37</td>\n",
       "      <td>F</td>\n",
       "      <td>4700</td>\n",
       "      <td>2829</td>\n",
       "      <td>6.05.2019</td>\n",
       "      <td>50</td>\n",
       "      <td>SERVIâO</td>\n",
       "      <td>SAO PAULO</td>\n",
       "      <td>BR</td>\n",
       "    </tr>\n",
       "    <tr>\n",
       "      <th>4,53E+11</th>\n",
       "      <td>201405</td>\n",
       "      <td>CAMPO LIMPO PAULISTA</td>\n",
       "      <td>SP</td>\n",
       "      <td>37</td>\n",
       "      <td>F</td>\n",
       "      <td>4700</td>\n",
       "      <td>2547</td>\n",
       "      <td>1.06.2019</td>\n",
       "      <td>54,4</td>\n",
       "      <td>M.O.T.O.</td>\n",
       "      <td>OSASCO</td>\n",
       "      <td>BR</td>\n",
       "    </tr>\n",
       "  </tbody>\n",
       "</table>\n",
       "</div>"
      ],
      "text/plain": [
       "\n",
       "           branch_number                    city   state    age gender  \\\n",
       "id                                                                       \n",
       "id        safra_abertura                  cidade  estado  idade   sexo   \n",
       "\u001b[1;36m4\u001b[0m,53E+\u001b[1;36m11\u001b[0m          \u001b[1;36m201405\u001b[0m  CAMPO LIMPO PAULISTA       SP      \u001b[1;36m37\u001b[0m      F   \n",
       "\u001b[1;36m4\u001b[0m,53E+\u001b[1;36m11\u001b[0m          \u001b[1;36m201405\u001b[0m  CAMPO LIMPO PAULISTA       SP      \u001b[1;36m37\u001b[0m      F   \n",
       "\u001b[1;36m4\u001b[0m,53E+\u001b[1;36m11\u001b[0m          \u001b[1;36m201405\u001b[0m  CAMPO LIMPO PAULISTA       SP      \u001b[1;36m37\u001b[0m      F   \n",
       "\u001b[1;36m4\u001b[0m,53E+\u001b[1;36m11\u001b[0m          \u001b[1;36m201405\u001b[0m  CAMPO LIMPO PAULISTA       SP      \u001b[1;36m37\u001b[0m      F   \n",
       "\n",
       "         total_credit_card_limit current_available_limit       date   amount  \\\n",
       "id                                                                             \n",
       "id                  limite_total             limite_disp       data   valor    \n",
       "\u001b[1;36m4\u001b[0m,53E+\u001b[1;36m11\u001b[0m                    \u001b[1;36m4700\u001b[0m                    \u001b[1;36m5605\u001b[0m  \u001b[1;36m4.12\u001b[0m.\u001b[1;36m2019\u001b[0m       \u001b[1;36m31\u001b[0m   \n",
       "\u001b[1;36m4\u001b[0m,53E+\u001b[1;36m11\u001b[0m                    \u001b[1;36m4700\u001b[0m                    \u001b[1;36m5343\u001b[0m  \u001b[1;36m9.11\u001b[0m.\u001b[1;36m2019\u001b[0m   \u001b[1;36m150\u001b[0m,\u001b[1;36m01\u001b[0m   \n",
       "\u001b[1;36m4\u001b[0m,53E+\u001b[1;36m11\u001b[0m                    \u001b[1;36m4700\u001b[0m                    \u001b[1;36m2829\u001b[0m  \u001b[1;36m6.05\u001b[0m.\u001b[1;36m2019\u001b[0m       \u001b[1;36m50\u001b[0m   \n",
       "\u001b[1;36m4\u001b[0m,53E+\u001b[1;36m11\u001b[0m                    \u001b[1;36m4700\u001b[0m                    \u001b[1;36m2547\u001b[0m  \u001b[1;36m1.06\u001b[0m.\u001b[1;36m2019\u001b[0m     \u001b[1;36m54\u001b[0m,\u001b[1;36m4\u001b[0m   \n",
       "\n",
       "               category_expense           purchase_city      purchase_country  \n",
       "id                                                                             \n",
       "id        grupo_estabelecimento  cidade_estabelecimento  pais_estabelecimento  \n",
       "\u001b[1;36m4\u001b[0m,53E+\u001b[1;36m11\u001b[0m              SERVIâO               SAO PAULO                    BR  \n",
       "\u001b[1;36m4\u001b[0m,53E+\u001b[1;36m11\u001b[0m              FARMACIAS                  SANTOS                    BR  \n",
       "\u001b[1;36m4\u001b[0m,53E+\u001b[1;36m11\u001b[0m              SERVIâO               SAO PAULO                    BR  \n",
       "\u001b[1;36m4\u001b[0m,53E+\u001b[1;36m11\u001b[0m               M.O.T.O.                  OSASCO                    BR  "
      ]
     },
     "execution_count": 8,
     "metadata": {},
     "output_type": "execute_result"
    }
   ],
   "source": [
    "df = catalog.load(\"mibolsillo@csv\")\n",
    "df.head()"
   ]
  },
  {
   "cell_type": "code",
   "execution_count": 14,
   "metadata": {},
   "outputs": [
    {
     "data": {
      "text/html": [
       "<pre style=\"white-space:pre;overflow-x:auto;line-height:normal;font-family:Menlo,'DejaVu Sans Mono',consolas,'Courier New',monospace\"></pre>\n"
      ],
      "text/plain": []
     },
     "metadata": {},
     "output_type": "display_data"
    },
    {
     "data": {
      "text/plain": [
       "\n",
       "\u001b[1;35marray\u001b[0m\u001b[1m(\u001b[0m\u001b[1m[\u001b[0m\u001b[32m'cidade'\u001b[0m, \u001b[32m'CAMPO LIMPO PAULISTA  '\u001b[0m, \u001b[32m'SAO PAULO             '\u001b[0m,\n",
       "       \u001b[32m'OSASCO                '\u001b[0m, \u001b[32m'GUARULHOS             '\u001b[0m,\n",
       "       \u001b[32m'SANTO ANDRE           '\u001b[0m, \u001b[32m'S BERNARDO CAMPO      '\u001b[0m,\n",
       "       \u001b[32m'LOUVEIRA              '\u001b[0m, \u001b[32m'EMBU DAS ARTES        '\u001b[0m,\n",
       "       \u001b[32m'RIO DE JANEIRO        '\u001b[0m, \u001b[32m'ITAQUAQUECETUBA       '\u001b[0m\u001b[1m]\u001b[0m, \u001b[33mdtype\u001b[0m=\u001b[35mobject\u001b[0m\u001b[1m)\u001b[0m"
      ]
     },
     "metadata": {},
     "output_type": "display_data"
    },
    {
     "data": {
      "text/html": [
       "<pre style=\"white-space:pre;overflow-x:auto;line-height:normal;font-family:Menlo,'DejaVu Sans Mono',consolas,'Courier New',monospace\"></pre>\n"
      ],
      "text/plain": []
     },
     "metadata": {},
     "output_type": "display_data"
    },
    {
     "data": {
      "text/plain": [
       "\u001b[1;35marray\u001b[0m\u001b[1m(\u001b[0m\u001b[1m[\u001b[0m\u001b[32m'estado'\u001b[0m, \u001b[32m'SP '\u001b[0m, \u001b[32m'RJ '\u001b[0m\u001b[1m]\u001b[0m, \u001b[33mdtype\u001b[0m=\u001b[35mobject\u001b[0m\u001b[1m)\u001b[0m"
      ]
     },
     "metadata": {},
     "output_type": "display_data"
    },
    {
     "data": {
      "text/html": [
       "<pre style=\"white-space:pre;overflow-x:auto;line-height:normal;font-family:Menlo,'DejaVu Sans Mono',consolas,'Courier New',monospace\"></pre>\n"
      ],
      "text/plain": []
     },
     "metadata": {},
     "output_type": "display_data"
    },
    {
     "data": {
      "text/plain": [
       "\n",
       "\u001b[1;35marray\u001b[0m\u001b[1m(\u001b[0m\u001b[1m[\u001b[0m\u001b[32m'cidade_estabelecimento'\u001b[0m, \u001b[32m'SAO PAULO'\u001b[0m, \u001b[32m'SANTOS'\u001b[0m, \u001b[32m'OSASCO'\u001b[0m,\n",
       "       \u001b[32m'LNKD.IN/BILL'\u001b[0m, \u001b[32m'CURITIBA'\u001b[0m, \u001b[32m'CAMPO LIMPO P'\u001b[0m, \u001b[32m'JUNDIAI'\u001b[0m,\n",
       "       \u001b[32m'VARZEA PAULIS'\u001b[0m, \u001b[32m'Eden Prarie'\u001b[0m, \u001b[32m'GUARULHOS'\u001b[0m, \u001b[32m'RIO DE JANEIR'\u001b[0m,\n",
       "       \u001b[32m'FRANCA'\u001b[0m, \u001b[32m'PORTO ALEGRE'\u001b[0m, \u001b[32m'BELO HORIZONT'\u001b[0m, \u001b[32m'SAOPAULO'\u001b[0m, \u001b[32m'Sao Paulo'\u001b[0m,\n",
       "       \u001b[32m'CARAPICUIBA'\u001b[0m, \u001b[32m'EMBU DAS ARTE'\u001b[0m, \u001b[32m'BARUERI'\u001b[0m, \u001b[32m'MARILIA'\u001b[0m, \u001b[32m'ARUJA'\u001b[0m,\n",
       "       \u001b[32m'ITAPEVI'\u001b[0m, \u001b[32m'GUARUJA'\u001b[0m, \u001b[32m'COTIA'\u001b[0m, \u001b[32m'SAO CAETANO D'\u001b[0m, \u001b[32m'SAO JOSE DO R'\u001b[0m,\n",
       "       \u001b[32m'BALNEARIO CAM'\u001b[0m, \u001b[32m'RiodeJaneiro'\u001b[0m, \u001b[32m'SAOJOSEDORIOP'\u001b[0m, \u001b[32m'SANTO ANDRE'\u001b[0m,\n",
       "       \u001b[32m'MAUA'\u001b[0m, \u001b[32m'415-503-9235'\u001b[0m, \u001b[32m'SAOBERNARDODO'\u001b[0m, \u001b[32m'CAJAMAR'\u001b[0m, \u001b[32m'ITANHAEM'\u001b[0m,\n",
       "       \u001b[32m'SCaetanodoSul'\u001b[0m, nan, \u001b[32m'VINHEDO'\u001b[0m, \u001b[32m'5,51E+11'\u001b[0m, \u001b[32m'RIODEJANEIRO'\u001b[0m,\n",
       "       \u001b[32m'SERRA'\u001b[0m, \u001b[32m'CAMPINAS'\u001b[0m, \u001b[32m'PRAIA GRANDE'\u001b[0m, \u001b[32m'SAO BERNARDO'\u001b[0m, \u001b[32m'11001BOGOTA'\u001b[0m,\n",
       "       \u001b[32m'SANTOANDRE'\u001b[0m, \u001b[32m'LIMEIRA'\u001b[0m, \u001b[32m'Pouso Alegre'\u001b[0m, \u001b[32m'POUSO ALEGRE'\u001b[0m,\n",
       "       \u001b[32m'BORDA DA MATA'\u001b[0m, \u001b[32m'SAOSEBASTIAO'\u001b[0m, \u001b[32m'SAO SEBASTIAO'\u001b[0m, \u001b[32m'FORMIGA'\u001b[0m,\n",
       "       \u001b[32m'BERTIOGA'\u001b[0m, \u001b[32m'DIADEMA'\u001b[0m, \u001b[32m'MONTEVERDE'\u001b[0m, \u001b[32m'SANTANA DE PA'\u001b[0m, \u001b[32m'VITORIA'\u001b[0m,\n",
       "       \u001b[32m'AGUAS DE LIND'\u001b[0m, \u001b[32m'SERRA NEGRA'\u001b[0m, \u001b[32m'PINHAIS'\u001b[0m, \u001b[32m'RIBEIRAO PIRE'\u001b[0m,\n",
       "       \u001b[32m'ITUPEVA'\u001b[0m, \u001b[32m'Itupeva'\u001b[0m, \u001b[32m'JOINVILLE'\u001b[0m, \u001b[32m'help.uber.com'\u001b[0m, \u001b[32m'SANTIAGO'\u001b[0m,\n",
       "       \u001b[32m'LIMA'\u001b[0m, \u001b[32m'FOZ DO IGUACU'\u001b[0m, \u001b[32m'5,56E+11'\u001b[0m, \u001b[32m'BRASILIA'\u001b[0m, \u001b[32m'TABOAO DA SER'\u001b[0m,\n",
       "       \u001b[32m'RIO CLARO'\u001b[0m, \u001b[32m'JUQUITIBA'\u001b[0m, \u001b[32m'SALVADOR'\u001b[0m, \u001b[32m'Osasco'\u001b[0m, \u001b[32m'MANGARATIBA'\u001b[0m,\n",
       "       \u001b[32m'CACAPAVA'\u001b[0m, \u001b[32m'LOUVEIRA'\u001b[0m, \u001b[32m'VALPARAISO DE'\u001b[0m, \u001b[32m'UBERABA'\u001b[0m, \u001b[32m'PIRASSUNUNGA'\u001b[0m,\n",
       "       \u001b[32m'Jundiai'\u001b[0m, \u001b[32m'CESARIO LANGE'\u001b[0m, \u001b[32m'614-285-3455'\u001b[0m, \u001b[32m'SAO JOSE DO'\u001b[0m,\n",
       "       \u001b[32m'APARECIDA DO'\u001b[0m, \u001b[32m'SAO JOSE RIO'\u001b[0m, \u001b[32m'ELDORADO DO S'\u001b[0m, \u001b[32m'IBAITI'\u001b[0m,\n",
       "       \u001b[32m'Sao Jose dos'\u001b[0m, \u001b[32m'SAO JOSE DOS'\u001b[0m, \u001b[32m'NITEROI'\u001b[0m, \u001b[32m'FARROUPILHA'\u001b[0m,\n",
       "       \u001b[32m'PRESIDENTE PR'\u001b[0m, \u001b[32m'VALINHOS'\u001b[0m, \u001b[32m'Brasilia'\u001b[0m, \u001b[32m'ITU'\u001b[0m, \u001b[32m'PIRACICABA'\u001b[0m,\n",
       "       \u001b[32m'Mogi das Cruz'\u001b[0m, \u001b[32m'5,51E+12'\u001b[0m, \u001b[32m'BAURU'\u001b[0m, \u001b[32m'ARAXA'\u001b[0m, \u001b[32m'Bauru'\u001b[0m,\n",
       "       \u001b[32m'MOGI DAS CRUZ'\u001b[0m, \u001b[32m'POA'\u001b[0m, \u001b[32m'MOGIDASCRUZES'\u001b[0m, \u001b[32m'FERRAZ DE VAS'\u001b[0m, \u001b[32m'EMBU'\u001b[0m,\n",
       "       \u001b[32m'NOVA LIMA'\u001b[0m, \u001b[32m'CABO FRIO'\u001b[0m, \u001b[32m'SAOJOSEDOSCAM'\u001b[0m, \u001b[32m'HOLAMBRA'\u001b[0m, \u001b[32m'Lorena'\u001b[0m,\n",
       "       \u001b[32m'QUELUZ'\u001b[0m, \u001b[32m'SP'\u001b[0m, \u001b[32m'CAMPO BOM'\u001b[0m, \u001b[32m'IBATE'\u001b[0m, \u001b[32m'CULVER CITY'\u001b[0m, \u001b[32m'TAUBATE'\u001b[0m,\n",
       "       \u001b[32m'JANDAIA DO SU'\u001b[0m, \u001b[32m'EXTREMA'\u001b[0m, \u001b[32m'DUQUEDECAXIAS'\u001b[0m, \u001b[32m'MAGE'\u001b[0m,\n",
       "       \u001b[32m'ITAQUAQUECETU'\u001b[0m, \u001b[32m'BRUSQUE'\u001b[0m, \u001b[32m'CARAGUATATUBA'\u001b[0m, \u001b[32m'SUZANO'\u001b[0m, \u001b[32m'BOTUCATU'\u001b[0m,\n",
       "       \u001b[32m'SOROCABA'\u001b[0m, \u001b[32m'FORTALEZA'\u001b[0m, \u001b[32m'Campinas'\u001b[0m, \u001b[32m'SAOGONCALO'\u001b[0m, \u001b[32m'ITUMBIARA'\u001b[0m,\n",
       "       \u001b[32m'BRAGANCA PAUL'\u001b[0m, \u001b[32m'ITAPIRA'\u001b[0m, \u001b[32m'SAO ROQUE'\u001b[0m, \u001b[32m'PARAIBA DO SU'\u001b[0m,\n",
       "       \u001b[32m'REDENCAODASER'\u001b[0m, \u001b[32m'ARMACAO DOS B'\u001b[0m, \u001b[32m'MAIRIPORA'\u001b[0m\u001b[1m]\u001b[0m, \u001b[33mdtype\u001b[0m=\u001b[35mobject\u001b[0m\u001b[1m)\u001b[0m"
      ]
     },
     "metadata": {},
     "output_type": "display_data"
    },
    {
     "data": {
      "text/html": [
       "<pre style=\"white-space:pre;overflow-x:auto;line-height:normal;font-family:Menlo,'DejaVu Sans Mono',consolas,'Courier New',monospace\"></pre>\n"
      ],
      "text/plain": []
     },
     "metadata": {},
     "output_type": "display_data"
    },
    {
     "data": {
      "text/plain": [
       "\n",
       "\u001b[1;35marray\u001b[0m\u001b[1m(\u001b[0m\u001b[1m[\u001b[0m\u001b[32m'pais_estabelecimento'\u001b[0m, \u001b[32m'BR'\u001b[0m, \u001b[32m'IE'\u001b[0m, \u001b[32m'US'\u001b[0m, nan, \u001b[32m'CO'\u001b[0m, \u001b[32m'GB'\u001b[0m, \u001b[32m'CL'\u001b[0m,\n",
       "       \u001b[32m'PE'\u001b[0m, \u001b[32m'OH'\u001b[0m, \u001b[32m'SP'\u001b[0m\u001b[1m]\u001b[0m, \u001b[33mdtype\u001b[0m=\u001b[35mobject\u001b[0m\u001b[1m)\u001b[0m"
      ]
     },
     "metadata": {},
     "output_type": "display_data"
    }
   ],
   "source": [
    "display(df.city.unique(), df.state.unique(), df.purchase_city.unique(), df.purchase_country.unique())"
   ]
  },
  {
   "cell_type": "code",
   "execution_count": null,
   "metadata": {},
   "outputs": [],
   "source": []
  }
 ],
 "metadata": {
  "kernelspec": {
   "display_name": "Kedro (brazilian_credit_card_spending)",
   "language": "python",
   "name": "kedro_brazilian_credit_card_spending"
  },
  "language_info": {
   "codemirror_mode": {
    "name": "ipython",
    "version": 3
   },
   "file_extension": ".py",
   "mimetype": "text/x-python",
   "name": "python",
   "nbconvert_exporter": "python",
   "pygments_lexer": "ipython3",
   "version": "3.10.14"
  }
 },
 "nbformat": 4,
 "nbformat_minor": 2
}
